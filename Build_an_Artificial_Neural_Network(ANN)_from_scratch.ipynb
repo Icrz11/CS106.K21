{
  "nbformat": 4,
  "nbformat_minor": 0,
  "metadata": {
    "colab": {
      "name": "Build an Artificial Neural Network(ANN) from scratch.ipynb",
      "provenance": [],
      "collapsed_sections": [],
      "toc_visible": true
    },
    "kernelspec": {
      "name": "python3",
      "display_name": "Python 3"
    }
  },
  "cells": [
    {
      "cell_type": "markdown",
      "metadata": {
        "id": "QoU0lwXukVTO",
        "colab_type": "text"
      },
      "source": [
        "# Xây dựng mạng ANN từ điểm khởi đầu?\n",
        "-----------"
      ]
    },
    {
      "cell_type": "markdown",
      "metadata": {
        "id": "Mq4PVdoakgfB",
        "colab_type": "text"
      },
      "source": [
        "Câu hỏi đặt ra là: tại sao luôn nghe cụm từ \"build from scratch\".\n",
        "- Việc ta sử dụng lại các thư viện có sẵn như Keras và các backend được hỗ trợ như Tensorflow,PyTorch,v.v thì không có gì là sai cả.Và thật ra thì rất khuyến khích nên sử dụng thành thạo các thư viện này,\n",
        "- Nhưng mà để mình hiểu rõ ANN - các neural network đơn giản nhất này hoạt động ra sao thì tại sao ta lại ngại việc code nó lại bằng vài dòng Python.\n",
        "- Thư viện vẫn dùng là numpy vì vấn đề tối ưu hóa - vectorization."
      ]
    },
    {
      "cell_type": "markdown",
      "metadata": {
        "id": "SMfkJSKWnJSr",
        "colab_type": "text"
      },
      "source": [
        "##I. Thứ đầu tiên ta cần là dữ liệu!\n",
        "----------------------------"
      ]
    },
    {
      "cell_type": "markdown",
      "metadata": {
        "id": "PmxZ60HyptW8",
        "colab_type": "text"
      },
      "source": [
        "![alt text](https://miro.medium.com/max/1104/1*uGmgaSPI_pv25dBugw1AZQ.png)"
      ]
    },
    {
      "cell_type": "markdown",
      "metadata": {
        "id": "ya_Jp7IJTY3j",
        "colab_type": "text"
      },
      "source": [
        "Trong ví dụ của ta, ANN sẽ nhận vecto (3,1) và sẽ tiên đoán nhãn tương ứng là 1 hay 0 ( nhìn có vẻ là Binary Classifier) thì đúng rồi - nó đó ... vì chỉ có 2 nhãn thôi. Nhưng ANN còn có thể làm hơn cả hai nhãn nữa nhưng trong bài này cứ 2 đi cho dễ hiểu."
      ]
    },
    {
      "cell_type": "code",
      "metadata": {
        "id": "Q1KeLDGdkdBF",
        "colab_type": "code",
        "colab": {}
      },
      "source": [
        "#Để biểu diễn dữ liệu ta cần một thứ mà ai cũng cần biết : Numpy\n",
        "import numpy as np"
      ],
      "execution_count": null,
      "outputs": []
    },
    {
      "cell_type": "code",
      "metadata": {
        "id": "pNCldblTnvrM",
        "colab_type": "code",
        "colab": {}
      },
      "source": [
        "#Các đặc trưng đầu vào - thứ sẽ được \"chạy\" qua lớp mạng ANN này! - Independant variables.\n",
        "input_set = np.array([[0,1,0],\n",
        "                      [0,0,1],\n",
        "                      [1,0,0],\n",
        "                      [1,1,0],\n",
        "                      [1,1,1],\n",
        "                      [0,1,1],\n",
        "                      [0,1,0]])"
      ],
      "execution_count": null,
      "outputs": []
    },
    {
      "cell_type": "code",
      "metadata": {
        "id": "UjIFBEv1n52K",
        "colab_type": "code",
        "colab": {}
      },
      "source": [
        "# Và các nhãn/ đẩu ra tương ứng với sẽ được đánh giá với giá trị prediction qua mỗi epochs! - Dependant variables.\n",
        "labels = np.array([[1,\n",
        "                    0,\n",
        "                    0,\n",
        "                    1,\n",
        "                    1,\n",
        "                    0,\n",
        "                    1]])"
      ],
      "execution_count": null,
      "outputs": []
    },
    {
      "cell_type": "code",
      "metadata": {
        "id": "d6qZZmE4Rt5t",
        "colab_type": "code",
        "colab": {
          "base_uri": "https://localhost:8080/",
          "height": 33
        },
        "outputId": "4fea1b16-a28a-4527-b176-33495d63822b"
      },
      "source": [
        "# Điểm dữ liệu 1 hay đối tượng nghiên cứu 1 là\n",
        "print(input_set[0])"
      ],
      "execution_count": null,
      "outputs": [
        {
          "output_type": "stream",
          "text": [
            "[0 1 0]\n"
          ],
          "name": "stdout"
        }
      ]
    },
    {
      "cell_type": "code",
      "metadata": {
        "id": "kkdC1sE4SEe1",
        "colab_type": "code",
        "colab": {
          "base_uri": "https://localhost:8080/",
          "height": 33
        },
        "outputId": "779f6580-b544-4468-9913-312c5d54965e"
      },
      "source": [
        "# Nhãn tương ứng của đối tượng 1:\n",
        "print(labels[0])"
      ],
      "execution_count": null,
      "outputs": [
        {
          "output_type": "stream",
          "text": [
            "[1 0 0 1 1 0 1]\n"
          ],
          "name": "stdout"
        }
      ]
    },
    {
      "cell_type": "code",
      "metadata": {
        "id": "Vp8DF8yGofmR",
        "colab_type": "code",
        "colab": {
          "base_uri": "https://localhost:8080/",
          "height": 50
        },
        "outputId": "40907fdd-2be6-42cb-a133-c152df1ba5ae"
      },
      "source": [
        "#Một công việc nhỏ nhặt mà không nên bỏ qua: kiểm tra chiều của dữ liệu\n",
        "print(\"Chiều của dữ liệu đầu vào: \",input_set.shape)\n",
        "print(\"Chiều của dữ liệu đầu ra:\",labels.shape)"
      ],
      "execution_count": null,
      "outputs": [
        {
          "output_type": "stream",
          "text": [
            "Chiều của dữ liệu đầu vào:  (7, 3)\n",
            "Chiều của dữ liệu đầu ra: (1, 7)\n"
          ],
          "name": "stdout"
        }
      ]
    },
    {
      "cell_type": "code",
      "metadata": {
        "id": "2VZzem3UpBVl",
        "colab_type": "code",
        "colab": {}
      },
      "source": [
        "# !!Nếu cứ để dữ liệu input chạy qua mà so sánh với labels như vậy là không ổn. Vì thế ta cần reshape lại dữ liệu\n",
        "labels = labels.reshape(7,1)"
      ],
      "execution_count": null,
      "outputs": []
    },
    {
      "cell_type": "code",
      "metadata": {
        "id": "Yo2dCCpLSVOG",
        "colab_type": "code",
        "colab": {
          "base_uri": "https://localhost:8080/",
          "height": 33
        },
        "outputId": "0bb28c21-c6ba-47fd-bbcb-2837fe378997"
      },
      "source": [
        "# Nhãn tương ứng của đối tượng 1:\n",
        "print(labels[0])"
      ],
      "execution_count": null,
      "outputs": [
        {
          "output_type": "stream",
          "text": [
            "[1]\n"
          ],
          "name": "stdout"
        }
      ]
    },
    {
      "cell_type": "markdown",
      "metadata": {
        "id": "TALO58Skp0WZ",
        "colab_type": "text"
      },
      "source": [
        "- Ở đây ta sẽ định nghĩa với y = 1 là true và y = 0 là false , nhưng thật ra cũng không quan trọng mấy ... . Vì công việc ở đây là việc dự đoán đầu ra y dựa trên đầu vào thôi , ý nghĩa của y ( y bằng mấy sẽ không được quá coi trọng trong bài \"build from scratch\" này ).\n",
        "- Và giờ ta sẽ đi xây dựng một mạng ANN **chỉ** một lớp đầu vào - thê thôi - không lớp ẩn nào trong đây - và cuối cùng - không kém phần quan trọng - lớp đầu ra! "
      ]
    },
    {
      "cell_type": "markdown",
      "metadata": {
        "id": "yLKe20fkq5Tg",
        "colab_type": "text"
      },
      "source": [
        "- Nhắc lại và ANN: thì đây là một thuật toán supervised -  và không chỉ dùng trong việc Classification mà còn trong cả Regression.\n",
        "- [ANN regression](http://uc-r.github.io/ann_regression) - sẽ cố đọc và viết bài này sau.\n"
      ]
    },
    {
      "cell_type": "markdown",
      "metadata": {
        "id": "Yycm5DeRsaig",
        "colab_type": "text"
      },
      "source": [
        "##II. ANN gồm 2 giai đoạn: \n",
        "--------------------------\n",
        "- Feed-forward : truyền vào, đưa ra dự đoán.\n",
        "- Back-propagation : học/cập nhập các **Weight** và **bias** lại bằng cách \"truyền\" lại việc học này đến các lớp trước. "
      ]
    },
    {
      "cell_type": "markdown",
      "metadata": {
        "id": "wcq81dRltJ63",
        "colab_type": "text"
      },
      "source": [
        "### Feed-forward\n",
        "![alt text](https://miro.medium.com/max/1280/0*Olb_5k6mHbrZqEzn.png)"
      ]
    },
    {
      "cell_type": "markdown",
      "metadata": {
        "id": "Z6ZlbJ1ntr5Q",
        "colab_type": "text"
      },
      "source": [
        "- Nhìn hình trên, ta thấy rằng , cứ mỗi lần ta muốn đưa ra dự đoán: ta cần nhận vào một vector (3,1) - vecto này được gọi là vecto đặc trưng( cho từng cá thể nào đó) - các $w_i$ sẽ được nhân tương ứng với từng $x_i$ \n",
        "- Các $w_i$ mang ý nghĩa rằng các $x_i$ sẽ mang ý nghĩa đến mức nào đến việc đưa ra dự đoán $y_i$ như thế nào . Ví dụ : Nếu $w_1 = 0$ ta dịch nghĩa rằng $w_1$ không mang ý nghĩa gì cho việc dự đoán kết quả đầu ra .\n",
        "- XW = np.dot(inputs, weights) .\n",
        "- **Ta kí hiệu prediction là $\\hat y_i$ còn $y_i$ mới là label thực sự."
      ]
    },
    {
      "cell_type": "code",
      "metadata": {
        "id": "UkuvmCSdpVYp",
        "colab_type": "code",
        "colab": {
          "base_uri": "https://localhost:8080/",
          "height": 33
        },
        "outputId": "a88a2e15-82c7-4cc5-92d0-a599e78e3345"
      },
      "source": [
        "inputs = input_set[0]\n",
        "# khới tạo random weights\n",
        "weights = [1,2,3]\n",
        "XW = np.dot(inputs, weights) \n",
        "print(\"Tổng các đặc trưng với trọng số trong 1 node:\",XW)"
      ],
      "execution_count": null,
      "outputs": [
        {
          "output_type": "stream",
          "text": [
            "Tổng các đặc trưng với trọng số trong 1 node: 2\n"
          ],
          "name": "stdout"
        }
      ]
    },
    {
      "cell_type": "code",
      "metadata": {
        "id": "n5TYGLjOWJEm",
        "colab_type": "code",
        "colab": {
          "base_uri": "https://localhost:8080/",
          "height": 33
        },
        "outputId": "2cd45ab2-773e-4690-c40a-bbeaeac114ed"
      },
      "source": [
        "XW = np.dot(np.array([0,0,0]),weights)\n",
        "print(XW)"
      ],
      "execution_count": null,
      "outputs": [
        {
          "output_type": "stream",
          "text": [
            "0\n"
          ],
          "name": "stdout"
        }
      ]
    },
    {
      "cell_type": "markdown",
      "metadata": {
        "id": "KYnUXUCSv5q8",
        "colab_type": "text"
      },
      "source": [
        "- Nhưng điểu này không ổn với trường hợp X = [0,0,0] vì W như thế nào thì dự đoán y của ta cũng đều ra bằng 0 - tưởng tượng đường thẳng ta cứ quay quanh mãi qua (0,0) \n",
        "- Vậy ta thêm bias b để tránh trường hợp này.\n",
        "$$X.W=x_1.w_1 + x_2.w_2 + x_3.w_3 + b$$"
      ]
    },
    {
      "cell_type": "code",
      "metadata": {
        "id": "fi3-VsdVvcNv",
        "colab_type": "code",
        "colab": {
          "base_uri": "https://localhost:8080/",
          "height": 33
        },
        "outputId": "d3e8c98f-50be-4963-8248-336ff44af629"
      },
      "source": [
        "bias = 1\n",
        "XW = np.dot(inputs, weights)+ bias\n",
        "print(\"Tổng các đặc trưng với trọng số trong 1 node đã có bias:\",XW)"
      ],
      "execution_count": null,
      "outputs": [
        {
          "output_type": "stream",
          "text": [
            "Tổng các đặc trưng với trọng số trong 1 node đã có bias: 3\n"
          ],
          "name": "stdout"
        }
      ]
    },
    {
      "cell_type": "markdown",
      "metadata": {
        "id": "HTP8avXhxErx",
        "colab_type": "text"
      },
      "source": [
        "- Nhận xét rằng: cả hai giá trị trên đều lớn hơn 1 ( và đương nhiên là nhãn 0 rồi ... ) , vậy có cách nào để đưa giá trị này và khoảng [0,1] này, hay nói cách khác - có hàm nào để sau khi ánh xạ $[-\\infty ,+ \\infty]$ thành đoạn (0,1) ."
      ]
    },
    {
      "cell_type": "markdown",
      "metadata": {
        "id": "MN2sdNE0x9Ux",
        "colab_type": "text"
      },
      "source": [
        "#### Giới thiệu : **activation function**.\n",
        "----------------------"
      ]
    },
    {
      "cell_type": "markdown",
      "metadata": {
        "id": "rjs-7ZpjyKI3",
        "colab_type": "text"
      },
      "source": [
        "![Activation Function](https://miro.medium.com/max/970/0*lZTAMCLhGtlPusTg.png)"
      ]
    },
    {
      "cell_type": "markdown",
      "metadata": {
        "id": "UIsmF8_8zdw3",
        "colab_type": "text"
      },
      "source": [
        "- Đây là hàm sigmoid - thuộc họ logistic biễu diễn tổng quát là:\n",
        "$$f(z) = \\frac{L}{1+e^{-k(x-x_0)}}$$\n",
        "- Vì L để đánh giá max ( khi x tiến về dương vô cực ) thì sigmoid có tiệm cận là 1.\n",
        "- k của sigmoid đánh giá độ tăng của hàm ( khi ta lấy đạo hàm bậc nhất thì nó ra hình chuông - Gauss).\n",
        "- $x_0$ đánh giá chỗ nào sẽ là điểm uốn.\n",
        "- Và 1 điểm đặc biệt nữa $f'(x) = f(x)(1- f(x))$ điều này sẽ cho ta một số thuận lợi để tính độ lỗi!."
      ]
    },
    {
      "cell_type": "code",
      "metadata": {
        "id": "5OkWwJKLw6Qx",
        "colab_type": "code",
        "colab": {}
      },
      "source": [
        "def sigmoid(x):\n",
        "  return 1/(1+np.exp(-x))"
      ],
      "execution_count": null,
      "outputs": []
    },
    {
      "cell_type": "code",
      "metadata": {
        "id": "wLq6Hnw23VbD",
        "colab_type": "code",
        "colab": {
          "base_uri": "https://localhost:8080/",
          "height": 33
        },
        "outputId": "1db537fd-9d1c-400d-ad1e-b2836cecdb53"
      },
      "source": [
        "print(\"Label của XW và bias vừa tính ở trên:\",sigmoid(XW))"
      ],
      "execution_count": null,
      "outputs": [
        {
          "output_type": "stream",
          "text": [
            "Label của XW và bias vừa tính ở trên: 0.9525741268224334\n"
          ],
          "name": "stdout"
        }
      ]
    },
    {
      "cell_type": "code",
      "metadata": {
        "id": "4nY4zB7Z3eaz",
        "colab_type": "code",
        "colab": {}
      },
      "source": [
        "def sigmoid_derivative(x):\n",
        "  return sigmoid(x)*(1-sigmoid(x))"
      ],
      "execution_count": null,
      "outputs": []
    },
    {
      "cell_type": "markdown",
      "metadata": {
        "id": "Fzgp__Il3sw6",
        "colab_type": "text"
      },
      "source": [
        "### Back-propagation\n",
        "- Trong quá trình train cho một mạng ANN, tự hỏi : từ đâu ra các con số $w_i$ ... ta cho cứ cho nó một cách ngẫu nhiên, và trong quá trình training mạng ANN , các $w_i$ này sẽ dần tiến về mà cost function là nhỏ nhất!"
      ]
    },
    {
      "cell_type": "code",
      "metadata": {
        "id": "sFVVI1he9ONn",
        "colab_type": "code",
        "colab": {
          "base_uri": "https://localhost:8080/",
          "height": 50
        },
        "outputId": "fcceaef6-bb11-400a-8f52-ef2ed5ac55ca"
      },
      "source": [
        "XW = np.dot(input_set[0], weights)+ bias\n",
        "# Đây là label dự đoán\n",
        "z = sigmoid(XW)\n",
        "print(\"Label dự đoán là:\",z)\n",
        "error = z - labels[0]\n",
        "print(\"Độ lỗi của label này error\",error)"
      ],
      "execution_count": null,
      "outputs": [
        {
          "output_type": "stream",
          "text": [
            "Label dự đoán là: 0.9525741268224334\n",
            "Độ lỗi của label này error [-0.04742587]\n"
          ],
          "name": "stdout"
        }
      ]
    },
    {
      "cell_type": "code",
      "metadata": {
        "id": "gKzIYKe1Y506",
        "colab_type": "code",
        "colab": {
          "base_uri": "https://localhost:8080/",
          "height": 33
        },
        "outputId": "8690b36b-c61c-418a-b167-406dce8ea365"
      },
      "source": [
        "ex_weights = np.hstack((weights,bias))\n",
        "print(ex_weights)"
      ],
      "execution_count": null,
      "outputs": [
        {
          "output_type": "stream",
          "text": [
            "[1 2 3 1]\n"
          ],
          "name": "stdout"
        }
      ]
    },
    {
      "cell_type": "markdown",
      "metadata": {
        "id": "_Q1jbp30-Uu8",
        "colab_type": "text"
      },
      "source": [
        "- Vì thế độ lỗi của cả qua trình sẽ là:\n",
        "![alt text](https://miro.medium.com/max/1104/0*DGjzN-ppsTBxYsFp.png)\n",
        "---------------------"
      ]
    },
    {
      "cell_type": "code",
      "metadata": {
        "id": "Cxbp0b0m-SMi",
        "colab_type": "code",
        "colab": {}
      },
      "source": [
        "weights = np.array(([1,2,3])).reshape(3,1)\n",
        "bias = np.ones(7).reshape(7,1)\n",
        "XW = np.dot(input_set, weights)"
      ],
      "execution_count": null,
      "outputs": []
    },
    {
      "cell_type": "code",
      "metadata": {
        "id": "DMNhpMQZ-lo8",
        "colab_type": "code",
        "colab": {
          "base_uri": "https://localhost:8080/",
          "height": 150
        },
        "outputId": "b9907690-2a36-4fff-c348-f16ed435d5ee"
      },
      "source": [
        "z = sigmoid(XW+bias)\n",
        "print(\"Ma trận dự đoán/đầu ra là\\n\",z)"
      ],
      "execution_count": null,
      "outputs": [
        {
          "output_type": "stream",
          "text": [
            "Ma trận dự đoán/đầu ra là\n",
            " [[0.95257413]\n",
            " [0.98201379]\n",
            " [0.88079708]\n",
            " [0.98201379]\n",
            " [0.99908895]\n",
            " [0.99752738]\n",
            " [0.95257413]]\n"
          ],
          "name": "stdout"
        }
      ]
    },
    {
      "cell_type": "code",
      "metadata": {
        "id": "P70Gl7l8ApTV",
        "colab_type": "code",
        "colab": {
          "base_uri": "https://localhost:8080/",
          "height": 150
        },
        "outputId": "34173884-6abb-4ef6-9287-10c08e3c3ec1"
      },
      "source": [
        "error = np.subtract(z,labels)\n",
        "print(\"Ma trận lỗi là\\n\",error)"
      ],
      "execution_count": null,
      "outputs": [
        {
          "output_type": "stream",
          "text": [
            "Ma trận lỗi là\n",
            " [[-4.74258732e-02]\n",
            " [ 9.82013790e-01]\n",
            " [ 8.80797078e-01]\n",
            " [-1.79862100e-02]\n",
            " [-9.11051194e-04]\n",
            " [ 9.97527377e-01]\n",
            " [-4.74258732e-02]]\n"
          ],
          "name": "stdout"
        }
      ]
    },
    {
      "cell_type": "code",
      "metadata": {
        "id": "GqtKta778lg8",
        "colab_type": "code",
        "colab": {
          "base_uri": "https://localhost:8080/",
          "height": 33
        },
        "outputId": "bb97ab67-478f-4a5b-f1bd-0fac5ba43215"
      },
      "source": [
        "# Đây là MSE !\n",
        "np.sum(error **2)/error.shape[0]"
      ],
      "execution_count": null,
      "outputs": [
        {
          "output_type": "execute_result",
          "data": {
            "text/plain": [
              "0.39143402922962667"
            ]
          },
          "metadata": {
            "tags": []
          },
          "execution_count": 47
        }
      ]
    },
    {
      "cell_type": "markdown",
      "metadata": {
        "id": "379lM0co_4y4",
        "colab_type": "text"
      },
      "source": [
        "#### Phân biệt cost function ,loss function và objective function.\n",
        "--------------------"
      ]
    },
    {
      "cell_type": "markdown",
      "metadata": {
        "id": "2R2QbwFTyBc-",
        "colab_type": "text"
      },
      "source": [
        "- [Nên phân việt giữa cost function , loss function và objective function!! ](https://stats.stackexchange.com/questions/179026/objective-function-cost-function-loss-function-are-they-the-same-thing)\n",
        "- Đại khái về Loss function:\n",
        " - [Loss function được định nghĩa chung chung như **square loss**.](https://en.wikipedia.org/wiki/Loss_functions_for_classification#Square_loss) loss function cho Regression.\n",
        " - [Hay Hinge loss thường thấy trong SVM.](https://en.wikipedia.org/wiki/Hinge_loss) loss function cho Classification.\n",
        "    -  Một hàm $f$ ánh xạ không gian đầu vào - giả sử là $\\mathbf{X}$ sẽ có đầu ra là không gian $Y$ = {0,1} (tùy vào cách định nghĩa của mình , có thể {-1,1} hay số phần tử hơn cũng được .\n",
        " \n",
        " $$f : X \\rightarrow \\mathbb{R}$$\n",
        "- Về cost function: \n",
        " - Nó thường tổng quát hơn và đôi khi nhìn dưới dạng tổng ( và lấy trung bình như MSE).\n",
        " - Và được coi trong đây như là **lỗi** của cả quá trình học tập.\n",
        "- Và objective function: thứ mà ta phải đi tối ưu - để ý trong các bài của anh Vũ Hữu Tiệp thì argmin hay argmax kèm theo biến giao động nào đó.\n",
        "\n",
        "![alt text](https://miro.medium.com/proxy/1*3MsFzl7zRZE3TihIC9JmaQ.png)"
      ]
    },
    {
      "cell_type": "markdown",
      "metadata": {
        "id": "h9jESDCF-kyw",
        "colab_type": "text"
      },
      "source": [
        "- Trong quá trình feed-forward và cả quá trình back-prop ta **không** được thay đổi gi vào cả , ta không thể sửa cả hàm actiavtion vì thế lựa chọn còn lại là trên ma trận trọng số **W** - và kèm theo luôn là bias **b**.\n",
        "- Thì có hàng tá cách để tối ưu - optimization - dùng Lagrange,analytical solution. Nhưng gradient descent lại được ưa chuộng trong tất thảy - nhất là trong ML , Data Mining: vì nó cực dễ cài đặt và tính toán vô cùng nhanh! -Thế thôi.\n",
        "- Nếu có thể làm sáng tỏ về điểm yếu của analytical solution thì các phương trình có đi kèm log là thứ không nhiều người muốn.\n",
        "- [Analytical solution of Linear Regression](https://towardsdatascience.com/analytical-solution-of-linear-regression-a0e870b038d5) "
      ]
    },
    {
      "cell_type": "markdown",
      "metadata": {
        "id": "EdIoOhUSAOMT",
        "colab_type": "text"
      },
      "source": [
        "#### Giải quyết hàm mục tiêu: nghiệm tối ưu\n",
        "------------------------"
      ]
    },
    {
      "cell_type": "markdown",
      "metadata": {
        "id": "Ti2JQmuoFSuH",
        "colab_type": "text"
      },
      "source": [
        "- Như đã nói ở trên thì ta có thể áp dụng phương pháp gradient descent vào ngay cho ma trận trọng số $W$\n",
        "$$\\mathbf{W}_{sau} = \\mathbf{W}_{trước} - \\text{learning rate} . \\frac{\\partial Error}{\\partial W_{trước}}$$"
      ]
    },
    {
      "cell_type": "markdown",
      "metadata": {
        "id": "JkOsKMlSA0f6",
        "colab_type": "text"
      },
      "source": [
        "Ta có hàm mất mất dưới dạng MSE - và đồng thời đây cũng là hàm mục tiêu của mình."
      ]
    },
    {
      "cell_type": "markdown",
      "metadata": {
        "id": "QPugqU_7Fl60",
        "colab_type": "text"
      },
      "source": [
        "$$\\text{Error} = J(\\mathbf{y}, \\mathbf{ \\hat y}) = \\sum_{i=1}^{N}(\\mathbf{ \\hat y_i} - \\mathbf{ \\ y_i})^2$$\n",
        "\n",
        "$$\\longrightarrow \\nabla \\mathbf({w}) J(\\mathbf{y}, \\mathbf{ \\hat y})$$\n",
        "\n",
        "$$ =\\frac {\\partial J} {\\partial \\hat {y} } . \\frac {\\partial \\hat y} {\\partial z } . \\frac {\\partial z} {\\partial {w} } $$\n"
      ]
    },
    {
      "cell_type": "markdown",
      "metadata": {
        "id": "mFqS7mLuEAxa",
        "colab_type": "text"
      },
      "source": [
        "- Tính từng cái từ trái sang:\n",
        "$$ \\frac {\\partial J} {\\partial \\hat {y} } = 2\\hat {y}( \\hat {y} - {y} )$$"
      ]
    },
    {
      "cell_type": "markdown",
      "metadata": {
        "id": "8u402ttrDTSQ",
        "colab_type": "text"
      },
      "source": [
        "$$\\begin{align*} \n",
        "\\frac {\\partial \\hat y} {\\partial z } =  1 \n",
        "\\end{align*}\n",
        " $$"
      ]
    },
    {
      "cell_type": "markdown",
      "metadata": {
        "id": "krh0zKeHBhZ0",
        "colab_type": "text"
      },
      "source": [
        "$$\\begin{align*} \n",
        "\\begin{split}\n",
        "\\frac {\\partial z} {\\partial w }\n",
        "& = \\frac{\\partial (xw)} {\\partial w } \\\\\n",
        "& = X\n",
        "\\end{split}\n",
        "\\end{align*}$$\n",
        "... vì X không phải là hàm theo w"
      ]
    },
    {
      "cell_type": "code",
      "metadata": {
        "id": "CAaT9Pjq3jkT",
        "colab_type": "code",
        "colab": {}
      },
      "source": [
        "np.random.seed(42)\n",
        "weights = np.random.rand(3,1)\n",
        "bias = np.random.rand(1)"
      ],
      "execution_count": null,
      "outputs": []
    },
    {
      "cell_type": "code",
      "metadata": {
        "id": "u-oxMDch6-09",
        "colab_type": "code",
        "colab": {
          "base_uri": "https://localhost:8080/",
          "height": 83
        },
        "outputId": "415dbc0b-815b-462c-fd45-11de2731a2cb"
      },
      "source": [
        "print(\"Ma trận trọng số:\",weights,\" \\nvà bias đi kèm:\",bias)"
      ],
      "execution_count": null,
      "outputs": [
        {
          "output_type": "stream",
          "text": [
            "Ma trận trọng số: [[0.37454012]\n",
            " [0.95071431]\n",
            " [0.73199394]]  \n",
            "và bias đi kèm: [0.59865848]\n"
          ],
          "name": "stdout"
        }
      ]
    },
    {
      "cell_type": "markdown",
      "metadata": {
        "id": "Foxw08X8E0GF",
        "colab_type": "text"
      },
      "source": [
        "##III. Thử code lại những gì đã nói"
      ]
    },
    {
      "cell_type": "code",
      "metadata": {
        "id": "janwkzkAkH7H",
        "colab_type": "code",
        "colab": {
          "base_uri": "https://localhost:8080/",
          "height": 133
        },
        "outputId": "d902b702-ab00-4206-f688-5abcef760004"
      },
      "source": [
        "2*z*(z-labels)"
      ],
      "execution_count": null,
      "outputs": [
        {
          "output_type": "execute_result",
          "data": {
            "text/plain": [
              "array([[-9.03533195e-02],\n",
              "       [ 1.92870217e+00],\n",
              "       [ 1.55160699e+00],\n",
              "       [-3.53254124e-02],\n",
              "       [-1.82044236e-03],\n",
              "       [ 1.99012174e+00],\n",
              "       [-9.03533195e-02]])"
            ]
          },
          "metadata": {
            "tags": []
          },
          "execution_count": 60
        }
      ]
    },
    {
      "cell_type": "markdown",
      "metadata": {
        "id": "9Q91RjRomlpK",
        "colab_type": "text"
      },
      "source": [
        "\\begin{eqnarray}\n",
        "\\mathbf{a}^{(0)} &=& \\mathbf{x} \\\\\n",
        "z_{i}^{(l)} &=& \\mathbf{w}_i^{(l)T}\\mathbf{a}^{(l-1)} + b_i^{(l)} \\\\\n",
        "\\mathbf{z}^{(l)}  &=& \\mathbf{W}^{(l)T}\\mathbf{a}^{(l-1)} + \\mathbf{b}^{(l)},~~ l =  1, 2, \\dots, L \\\\\n",
        "\\mathbf{a}^{(l)} &=& f(\\mathbf{z}^{(l)}), ~~ l =  1, 2, \\dots, L \\\\\n",
        "\\mathbf{\\hat{y}} &=& \\mathbf{a}^{(L)}\n",
        "\\end{eqnarray}"
      ]
    },
    {
      "cell_type": "code",
      "metadata": {
        "id": "uTBTKK1z7HZM",
        "colab_type": "code",
        "colab": {
          "base_uri": "https://localhost:8080/",
          "height": 450
        },
        "outputId": "6bb18c5a-4be6-424b-9630-7f7622575314"
      },
      "source": [
        "lr = 0.05 #learning rate\n",
        "np.random.seed(42)\n",
        "weights = np.random.rand(3,1)\n",
        "bias = np.random.uniform(-1,1,(7,1))\n",
        "start = time.time()\n",
        "for epoch in range(25000):\n",
        "  XW = np.dot(input_set,weights)\n",
        "  z = XW + bias\n",
        "  y_hat = sigmoid(z)\n",
        "  E_1 = (y_hat - labels)/labels.shape[0]\n",
        "  if epoch % 1000 ==0:\n",
        "      print(\"Tổng error tại epoch thứ\",epoch,\" là:\",E_1.sum())\n",
        "  dW_1 = np.dot(input_set.T,E_1)\n",
        "  db_1 = np.sum(E_1,axis = 1, keepdims= True)\n",
        "  weights = weights - lr*dW_1 #Gradient descent\n",
        "  bias = bias - lr*db_1\n",
        "end = time.time()\n",
        "print(\"Thời gian train 25000 vòng lặp là:\",end - start)"
      ],
      "execution_count": null,
      "outputs": [
        {
          "output_type": "stream",
          "text": [
            "Tổng error tại epoch thứ 0  là: 0.12974050467718554\n",
            "Tổng error tại epoch thứ 1000  là: 0.011462182159169497\n",
            "Tổng error tại epoch thứ 2000  là: 0.006565760526672729\n",
            "Tổng error tại epoch thứ 3000  là: 0.004583669363253681\n",
            "Tổng error tại epoch thứ 4000  là: 0.0035160188668926094\n",
            "Tổng error tại epoch thứ 5000  là: 0.002850394523020364\n",
            "Tổng error tại epoch thứ 6000  là: 0.002396252749528906\n",
            "Tổng error tại epoch thứ 7000  là: 0.002066820195498512\n",
            "Tổng error tại epoch thứ 8000  là: 0.0018170097072344534\n",
            "Tổng error tại epoch thứ 9000  là: 0.0016211017855099893\n",
            "Tổng error tại epoch thứ 10000  là: 0.0014633647951823653\n",
            "Tổng error tại epoch thứ 11000  là: 0.001333640283963791\n",
            "Tổng error tại epoch thứ 12000  là: 0.0012250778560136495\n",
            "Tổng error tại epoch thứ 13000  là: 0.0011328909623221086\n",
            "Tổng error tại epoch thứ 14000  là: 0.0010536346067647649\n",
            "Tổng error tại epoch thứ 15000  là: 0.000984766377410106\n",
            "Tổng error tại epoch thứ 16000  là: 0.0009243691647068185\n",
            "Tổng error tại epoch thứ 17000  là: 0.0008709701361616512\n",
            "Tổng error tại epoch thứ 18000  là: 0.0008234191318140511\n",
            "Tổng error tại epoch thứ 19000  là: 0.0007808049139698472\n",
            "Tổng error tại epoch thứ 20000  là: 0.0007423962063627085\n",
            "Tổng error tại epoch thứ 21000  là: 0.0007075993674496268\n",
            "Tổng error tại epoch thứ 22000  là: 0.0006759274702593362\n",
            "Tổng error tại epoch thứ 23000  là: 0.0006469773575996516\n",
            "Tổng error tại epoch thứ 24000  là: 0.000620412372124753\n",
            "Thời gian train 25000 vòng lặp là: 0.827852725982666\n"
          ],
          "name": "stdout"
        }
      ]
    },
    {
      "cell_type": "code",
      "metadata": {
        "id": "24lo7uOULQmb",
        "colab_type": "code",
        "colab": {
          "base_uri": "https://localhost:8080/",
          "height": 150
        },
        "outputId": "4f6d0f73-779f-40fe-ba1c-468ec43b0fa2"
      },
      "source": [
        "test_points = np.array(([0,0,1],[1,0,1],[1,1,1]))\n",
        "results = np.round_(sigmoid(np.dot(input_set,weights) + bias ))\n",
        "print(\"Giá trị dự đoán là:\\n\",results)"
      ],
      "execution_count": null,
      "outputs": [
        {
          "output_type": "stream",
          "text": [
            "Giá trị dự đoán là:\n",
            " [[1.]\n",
            " [0.]\n",
            " [0.]\n",
            " [1.]\n",
            " [1.]\n",
            " [0.]\n",
            " [1.]]\n"
          ],
          "name": "stdout"
        }
      ]
    },
    {
      "cell_type": "code",
      "metadata": {
        "id": "I7UWDK6K_5mm",
        "colab_type": "code",
        "colab": {
          "base_uri": "https://localhost:8080/",
          "height": 200
        },
        "outputId": "f57482f2-2702-483a-f990-4bae820275ed"
      },
      "source": [
        "start = time.time()\n",
        "for epoch in range(10000):\n",
        "  XW = np.dot(input_set,weights_1)\n",
        "  z = XW + b_1\n",
        "  y_hat = sigmoid(z)\n",
        "  E_1 = (y_hat - labels)/labels.shape[0]\n",
        "  if epoch % 1000 ==0:\n",
        "      print(\"Tổng error tại epoch thứ\",epoch,\" là:\",E_1.sum())\n",
        "  dW_1 = np.dot(input_set.T,E_1)\n",
        "  db_1 = np.sum(E_1,axis = 1, keepdims= True)\n",
        "  weights_1 = weights_1 - lr*dW_1 #Gradient descent\n",
        "  bias_1 = bias_1 - lr*db_1\n",
        "end = time.time()\n",
        "print(\"Thời gian train 10000 vòng lặp là:\",end - start)"
      ],
      "execution_count": null,
      "outputs": [
        {
          "output_type": "stream",
          "text": [
            "Tổng error tại epoch thứ 0  là: 0.28572764048937666\n",
            "Tổng error tại epoch thứ 1000  là: 0.1088133691616588\n",
            "Tổng error tại epoch thứ 2000  là: 0.08879507982879563\n",
            "Tổng error tại epoch thứ 3000  là: 0.08659585591441904\n",
            "Tổng error tại epoch thứ 4000  là: 0.086342712114255\n",
            "Tổng error tại epoch thứ 5000  là: 0.08631375073368265\n",
            "Tổng error tại epoch thứ 6000  là: 0.08631043818978516\n",
            "Tổng error tại epoch thứ 7000  là: 0.08631005919066956\n",
            "Tổng error tại epoch thứ 8000  là: 0.08631001570109523\n",
            "Tổng error tại epoch thứ 9000  là: 0.08631001058366576\n",
            "Thời gian train 10000 vòng lặp là: 0.28319454193115234\n"
          ],
          "name": "stdout"
        }
      ]
    },
    {
      "cell_type": "markdown",
      "metadata": {
        "id": "QeocmGKtFElv",
        "colab_type": "text"
      },
      "source": [
        "# Code bằng Python:\n",
        "-----------"
      ]
    },
    {
      "cell_type": "markdown",
      "metadata": {
        "id": "yL_OY5iRFUZ9",
        "colab_type": "text"
      },
      "source": [
        "Những thứ từ nãy đến giờ chỉ ta làm chỉ là một lớp input và một lớp ouput. Vậy để xây dựng mạng ANN ta cần thêm lớp ẩn **hidden layer**.\n",
        "Và để tránh lặp đi lặp lại việc viết các lớp này, ta nên đóng gói nó. Để cho tiện việc sử dụng sau này."
      ]
    },
    {
      "cell_type": "markdown",
      "metadata": {
        "id": "UmztuzukG56_",
        "colab_type": "text"
      },
      "source": [
        "## Định nghĩa class Layer:"
      ]
    },
    {
      "cell_type": "markdown",
      "metadata": {
        "id": "H4Xs1JLcGnjw",
        "colab_type": "text"
      },
      "source": [
        "![alt text](https://machinelearningcoban.com/assets/14_mlp/mlp_notation.png)"
      ]
    },
    {
      "cell_type": "markdown",
      "metadata": {
        "id": "T-Hb6wVDHDOf",
        "colab_type": "text"
      },
      "source": [
        "> Định nghĩa class Layer tại chỗ mà ta đang xét sẽ:\n",
        " - Có ma trận trọng số $W$ và bias $b$ - và cách khởi tạo là lấy random.\n",
        " - Giữ lại kết quả từ lớp tính toán trước. Vi ta không cập nhập ngay kết quả mà cần giữ lại thông tin để back-prop.\n",
        " - Có kết quả đầu ra được kích hoạt bởi **activation function**."
      ]
    },
    {
      "cell_type": "markdown",
      "metadata": {
        "id": "ZHh-wxw14YEK",
        "colab_type": "text"
      },
      "source": [
        "Định nghĩa hàm sigmoid với đạo hàm của nó:"
      ]
    },
    {
      "cell_type": "code",
      "metadata": {
        "id": "73NFHzd0JcHR",
        "colab_type": "code",
        "colab": {}
      },
      "source": [
        "def sigmoid(x, derivative=False):\n",
        "    if derivative:\n",
        "        return x*(1-x)\n",
        "    return 1/(1+np.exp(-x))"
      ],
      "execution_count": null,
      "outputs": []
    },
    {
      "cell_type": "code",
      "metadata": {
        "id": "liy8ko7zQ-WF",
        "colab_type": "code",
        "colab": {}
      },
      "source": [
        "class Layer:\n",
        "  def __init__(self,weight_mat_shape,previous_results):\n",
        "    '''\n",
        "    A layer object:\n",
        "     to compute cost of \n",
        "     Param:\n",
        "      weights : weights matrix with the shape depend on current layer's neurons and its previous layer's\n",
        "         neurons.\n",
        "      bias :\n",
        "      previous results : matrix to store results from back-prop to further transfer to its previous layer(s).\n",
        "      out : output matrix\n",
        "\n",
        "    '''\n",
        "    self.weights = self.init_weights(weight_mat_shape)\n",
        "    self.bias = np.random.uniform(-1,1)\n",
        "    self.previous_results = previous_results\n",
        "    self.out = None\n",
        "  def init_weights(self,weight_mat_shape):\n",
        "    return np.random.uniform(-1,1, weight_mat_shape)\n",
        "  \n",
        "  def compute_cost(self,previous_results,activation_function):\n",
        "    self.previous_results = previous_results\n",
        "    XW = self.previous_results.dot(self.weights) + self.bias\n",
        "    self.out = activation_function(XW) "
      ],
      "execution_count": null,
      "outputs": []
    },
    {
      "cell_type": "code",
      "metadata": {
        "id": "GnXvtGf2QU5I",
        "colab_type": "code",
        "colab": {}
      },
      "source": [
        "def mse(y_pred, y, derivative=False):\n",
        "    if derivative:\n",
        "        return y_pred*(y_pred-y)\n",
        "    return 0.5*(y_pred-y)**2"
      ],
      "execution_count": null,
      "outputs": []
    },
    {
      "cell_type": "markdown",
      "metadata": {
        "id": "5-R05jOcYzoK",
        "colab_type": "text"
      },
      "source": [
        "## Định nghĩa class ANN:"
      ]
    },
    {
      "cell_type": "markdown",
      "metadata": {
        "id": "3Uzjg29cKSP-",
        "colab_type": "text"
      },
      "source": [
        "> Để định nghĩa lớp ANN, ta cần:\n",
        " - input_features , input_matrix,... hay bất cứ tên nào bạn muốn, **nhưng** không có định nghĩa hàm nào làm thay đôi input này!.\n",
        " - output_values , output_labels ... cũng như trên.\n",
        " - Hyperparemeter learning rate , có giá trị mặc định là 0.05.\n",
        " - Activation function dùng trong đây là sigmoid.\n",
        "---------\n",
        "> Hàm của lớp ANN\n",
        " - add_layer; \n",
        " - feed_forward;\n",
        " - back_prop;\n",
        " - train;\n",
        " - predict."
      ]
    },
    {
      "cell_type": "code",
      "metadata": {
        "id": "XrksMwTmKQbs",
        "colab_type": "code",
        "colab": {}
      },
      "source": [
        "class ANN:\n",
        "  def __init__(self,input_values,output_values,learning_rate =  0.05 ,activation_function = sigmoid):\n",
        "    '''\n",
        "      Param:\n",
        "        input_values : the initialization feature vector/matrix.\n",
        "        output_values : the ground truth labels-vector.\n",
        "        learning_rate : hyperparameter \n",
        "        activation_function : default as sigmoid function.\n",
        "    '''\n",
        "    self.input_values = input_values\n",
        "    self.output_values = output_values\n",
        "    self.learning_rate = learning_rate\n",
        "    self.activation_function = activation_function\n",
        "\n",
        "    self.layers = []\n",
        "\n",
        "  def add_layer(self,neuron_nums):\n",
        "    '''\n",
        "      Param:\n",
        "        neuron_nums : numbers of neuron of the going-to-be initilized layer\n",
        "    '''\n",
        "    if len(self.layers) == 0:\n",
        "      # If it was the first layer, then the init layer would take the shape of\n",
        "        # First : the amount of columns in feature matrix ie numbers of features.\n",
        "        # Second : the neuron numbers  \n",
        "      init_weights_mat_shape = (self.input_values.shape[1],neuron_nums)\n",
        "\n",
        "      init_lay = Layer(init_weights_mat_shape,self.input_values)\n",
        "      self.layers.append(init_lay)\n",
        "    else:\n",
        "      last_weights_mat_shape = (self.layers[-1].weights.shape[1],neuron_nums)\n",
        "      last_out = self.layers[-1].out\n",
        "\n",
        "      layer = Layer(last_weights_mat_shape,last_out)\n",
        "      self.layers.append(layer)\n",
        "    ##lấy [-1] : lớp cuối , Python làm mọi thứ dễ dàng hơn.\n",
        "    ## Và còn chút bên sklearn The ith element represents the number of neurons in the ith hidden layer.\n",
        "\n",
        "  def feed_forward(self):\n",
        "    previous_results = self.layers[0].previous_results\n",
        "    for layer in self.layers:\n",
        "      layer.compute_cost(previous_results,self.activation_function)\n",
        "      # compute_cost -> cập nhật out cho layer hiện hành và cứ thế \n",
        "      previous_results  = layer.out\n",
        "    ## Đến đây phải chạy lên thêm self layers vào __init__ và đồng thời định nghĩa hàm add layer\n",
        "  \n",
        "  def back_prop(self):\n",
        "\n",
        "    previous_layer = last_layer = self.layers[-1]\n",
        "    d = mse(last_layer.out, self.output_values, True) * self.activation_function(last_layer.out, True)\n",
        "\n",
        "    last_layer.weights -= self.learning_rate * last_layer.previous_results.T.dot(d)\n",
        "    last_layer.bias -= self.learning_rate * np.mean(d)\n",
        "\n",
        "    for layer in np.flip(self.layers, axis=0)[1:]:\n",
        "      d = d.dot(previous_layer.weights.T) * self.activation_function(layer.out, True)\n",
        "      layer.weights -= self.learning_rate * layer.previous_results.T.dot(d)\n",
        "      layer.bias -= self.learning_rate * np.mean(d)\n",
        "      previous_layer = layer\n",
        "  \n",
        "  def train(self,epoch_nums):\n",
        "    self.layers = np.array(self.layers)\n",
        "    error_list = []\n",
        "    for i in range(epoch_nums):\n",
        "      self.feed_forward()\n",
        "      self.back_prop()\n",
        "      error_list.append(np.mean(mse(self.layers[-1].out, self.output_values)))\n",
        "      if error_list[-1] < 10**(-2):\n",
        "        break\n",
        "    return error_list\n",
        "  \n",
        "  def predict(self,test_values):\n",
        "    previous_results = np.array(test_values)\n",
        "    for layer in self.layers:\n",
        "        layer.compute_cost(previous_results, self.activation_function)\n",
        "        previous_results = layer.out\n",
        "    return previous_results "
      ],
      "execution_count": null,
      "outputs": []
    },
    {
      "cell_type": "code",
      "metadata": {
        "id": "QCeFMaP3YUJ7",
        "colab_type": "code",
        "colab": {
          "base_uri": "https://localhost:8080/",
          "height": 33
        },
        "outputId": "d4f8aa65-4e3e-4dac-e4e6-f4ee5340c103"
      },
      "source": [
        "import numpy as np\n",
        "input_set = np.array([[0,1,0],\n",
        "                      [0,0,1],\n",
        "                      [1,0,0],\n",
        "                      [1,1,0],\n",
        "                      [1,1,1],\n",
        "                      [0,1,1],\n",
        "                      [0,1,0]])\n",
        "labels = np.array([[1,\n",
        "                    0,\n",
        "                    0,\n",
        "                    1,\n",
        "                    1,\n",
        "                    0,\n",
        "                    1]])\n",
        "labels = labels.reshape(-1,1)\n",
        "labels.shape"
      ],
      "execution_count": null,
      "outputs": [
        {
          "output_type": "execute_result",
          "data": {
            "text/plain": [
              "(7, 1)"
            ]
          },
          "metadata": {
            "tags": []
          },
          "execution_count": 3
        }
      ]
    },
    {
      "cell_type": "code",
      "metadata": {
        "id": "KHSLOMycYVvt",
        "colab_type": "code",
        "colab": {}
      },
      "source": [
        "np.random.seed(42)\n",
        "ann = ANN(input_set, labels, learning_rate=0.05, activation_function=sigmoid)\n",
        "ann.add_layer(3)\n",
        "ann.add_layer(1)"
      ],
      "execution_count": null,
      "outputs": []
    },
    {
      "cell_type": "code",
      "metadata": {
        "id": "ekVS75B9WDTF",
        "colab_type": "code",
        "colab": {
          "base_uri": "https://localhost:8080/",
          "height": 33
        },
        "outputId": "f376858f-383e-4518-9ad0-63e7cab0527f"
      },
      "source": [
        "import time\n",
        "start = time.time()\n",
        "error = ann.train(epoch_nums=1000)\n",
        "end = time.time()\n",
        "print(\"Time to train\",len(error),\"epochs\",end-start)"
      ],
      "execution_count": null,
      "outputs": [
        {
          "output_type": "stream",
          "text": [
            "Time to train 1000 epochs 0.09484267234802246\n"
          ],
          "name": "stdout"
        }
      ]
    },
    {
      "cell_type": "code",
      "metadata": {
        "id": "NFeQ5Z4VXkaF",
        "colab_type": "code",
        "colab": {}
      },
      "source": [
        "ypred = ann.predict(input_set)\n",
        "ypred = np.round_(result)"
      ],
      "execution_count": null,
      "outputs": []
    },
    {
      "cell_type": "code",
      "metadata": {
        "id": "sfsLHp_DXwxj",
        "colab_type": "code",
        "colab": {
          "base_uri": "https://localhost:8080/",
          "height": 33
        },
        "outputId": "cd0e4160-f4e3-404a-dc32-381dd7a36988"
      },
      "source": [
        "np.mean(ypred == labels)"
      ],
      "execution_count": null,
      "outputs": [
        {
          "output_type": "execute_result",
          "data": {
            "text/plain": [
              "1.0"
            ]
          },
          "metadata": {
            "tags": []
          },
          "execution_count": 31
        }
      ]
    },
    {
      "cell_type": "code",
      "metadata": {
        "id": "m3-cCgTfN4K2",
        "colab_type": "code",
        "colab": {
          "base_uri": "https://localhost:8080/",
          "height": 133
        },
        "outputId": "04752e2b-0575-4457-ea52-de835007c828"
      },
      "source": [
        "ypred"
      ],
      "execution_count": null,
      "outputs": [
        {
          "output_type": "execute_result",
          "data": {
            "text/plain": [
              "array([[1.],\n",
              "       [0.],\n",
              "       [0.],\n",
              "       [1.],\n",
              "       [1.],\n",
              "       [0.],\n",
              "       [1.]])"
            ]
          },
          "metadata": {
            "tags": []
          },
          "execution_count": 27
        }
      ]
    },
    {
      "cell_type": "code",
      "metadata": {
        "id": "li1wY9v9YtK5",
        "colab_type": "code",
        "colab": {
          "base_uri": "https://localhost:8080/",
          "height": 281
        },
        "outputId": "27fc0d4a-4d11-486c-9be3-7a4765c082e1"
      },
      "source": [
        "import matplotlib.pyplot as plt\n",
        "plt.plot(error)"
      ],
      "execution_count": null,
      "outputs": [
        {
          "output_type": "execute_result",
          "data": {
            "text/plain": [
              "[<matplotlib.lines.Line2D at 0x7fd401731f98>]"
            ]
          },
          "metadata": {
            "tags": []
          },
          "execution_count": 32
        },
        {
          "output_type": "display_data",
          "data": {
            "image/png": "[encoded data removed]",
            "text/plain": [
              "<Figure size 432x288 with 1 Axes>"
            ]
          },
          "metadata": {
            "tags": [],
            "needs_background": "light"
          }
        }
      ]
    },
    {
      "cell_type": "code",
      "metadata": {
        "id": "5B3ZeokoFZrA",
        "colab_type": "code",
        "colab": {}
      },
      "source": [
        "def softmax(V):\n",
        "    e_V = np.exp(V - np.max(V, axis = 0, keepdims = True))\n",
        "    Z = e_V / e_V.sum(axis = 0)\n",
        "    return Z\n",
        "\n",
        "## One-hot coding\n",
        "from scipy import sparse\n",
        "def convert_labels(y, C = 3):\n",
        "    Y = sparse.coo_matrix((np.ones_like(y),\n",
        "        (y, np.arange(len(y)))), shape = (C, len(y))).toarray()\n",
        "    return Y\n",
        "\n",
        "# cost or loss function\n",
        "def cost_log(Y, Yhat):\n",
        "    return -np.sum(Y*np.log(Yhat))/Y.shape[1]\n",
        "\n",
        "def cost_MSE(Y, Yhat):\n",
        "    return np.sum(0.5*(Y-Yhat)**2)/Y.shape[1]"
      ],
      "execution_count": null,
      "outputs": []
    },
    {
      "cell_type": "code",
      "metadata": {
        "id": "GvWMGNwmPRmk",
        "colab_type": "code",
        "colab": {}
      },
      "source": [
        "# To support both python 2 and python 3\n",
        "from __future__ import division, print_function, unicode_literals\n",
        "import math\n",
        "import numpy as np\n",
        "import matplotlib.pyplot as plt\n",
        "\n",
        "N = 100 # number of points per class\n",
        "d0 = 2 # dimensionality\n",
        "C = 2 # number of classes\n",
        "X = np.zeros((d0, N*C)) # data matrix (each row = single example)\n",
        "y = np.zeros(N*C, dtype='uint8') # class labels\n",
        "for j in range(C):\n",
        "  ix = range(N*j,N*(j+1))\n",
        "  r = np.linspace(0.0,2,N) # radius\n",
        "  t = np.linspace(j*4,(j+1)*4,N) + np.random.randn(N)*0.2 # theta\n",
        "  X[:,ix] = np.c_[r*np.sin(t), r*np.cos(t)].T\n",
        "  y[ix] = j\n",
        "Y = convert_labels(y, C)\n",
        "N = X.shape[1]"
      ],
      "execution_count": null,
      "outputs": []
    },
    {
      "cell_type": "code",
      "metadata": {
        "id": "amwo9zJ5PR7S",
        "colab_type": "code",
        "colab": {
          "base_uri": "https://localhost:8080/",
          "height": 33
        },
        "outputId": "a3125fc3-71d5-4fc9-e058-b96ab9b9eace"
      },
      "source": [
        "X.shape"
      ],
      "execution_count": null,
      "outputs": [
        {
          "output_type": "execute_result",
          "data": {
            "text/plain": [
              "(2, 200)"
            ]
          },
          "metadata": {
            "tags": []
          },
          "execution_count": 39
        }
      ]
    },
    {
      "cell_type": "code",
      "metadata": {
        "id": "soafuYvQPVtq",
        "colab_type": "code",
        "colab": {
          "base_uri": "https://localhost:8080/",
          "height": 33
        },
        "outputId": "296062f3-9e80-4427-e1a9-a0b9b5d96898"
      },
      "source": [
        "y.shape"
      ],
      "execution_count": null,
      "outputs": [
        {
          "output_type": "execute_result",
          "data": {
            "text/plain": [
              "(200,)"
            ]
          },
          "metadata": {
            "tags": []
          },
          "execution_count": 40
        }
      ]
    },
    {
      "cell_type": "code",
      "metadata": {
        "id": "P7OrSxu7PfOS",
        "colab_type": "code",
        "colab": {}
      },
      "source": [
        "np.random.seed(42)\n",
        "ann = ANN(X.T, y, learning_rate=0.05, activation_function=sigmoid)\n",
        "ann.add_layer(2)\n",
        "ann.add_layer(2)"
      ],
      "execution_count": null,
      "outputs": []
    },
    {
      "cell_type": "code",
      "metadata": {
        "id": "WaoHp6e2PpUy",
        "colab_type": "code",
        "colab": {
          "base_uri": "https://localhost:8080/",
          "height": 353
        },
        "outputId": "7a2b6be1-3cd2-4c02-ac97-cf663bbe2d99"
      },
      "source": [
        "import time\n",
        "start = time.time()\n",
        "error = ann.train(epoch_nums=1000)\n",
        "end = time.time()\n",
        "print(\"Time to train\",len(error),\"epochs\",end-start)"
      ],
      "execution_count": null,
      "outputs": [
        {
          "output_type": "error",
          "ename": "ValueError",
          "evalue": "ignored",
          "traceback": [
            "\u001b[0;31m---------------------------------------------------------------------------\u001b[0m",
            "\u001b[0;31mValueError\u001b[0m                                Traceback (most recent call last)",
            "\u001b[0;32m<ipython-input-53-999489653768>\u001b[0m in \u001b[0;36m<module>\u001b[0;34m()\u001b[0m\n\u001b[1;32m      1\u001b[0m \u001b[0;32mimport\u001b[0m \u001b[0mtime\u001b[0m\u001b[0;34m\u001b[0m\u001b[0;34m\u001b[0m\u001b[0m\n\u001b[1;32m      2\u001b[0m \u001b[0mstart\u001b[0m \u001b[0;34m=\u001b[0m \u001b[0mtime\u001b[0m\u001b[0;34m.\u001b[0m\u001b[0mtime\u001b[0m\u001b[0;34m(\u001b[0m\u001b[0;34m)\u001b[0m\u001b[0;34m\u001b[0m\u001b[0;34m\u001b[0m\u001b[0m\n\u001b[0;32m----> 3\u001b[0;31m \u001b[0merror\u001b[0m \u001b[0;34m=\u001b[0m \u001b[0mann\u001b[0m\u001b[0;34m.\u001b[0m\u001b[0mtrain\u001b[0m\u001b[0;34m(\u001b[0m\u001b[0mepoch_nums\u001b[0m\u001b[0;34m=\u001b[0m\u001b[0;36m1000\u001b[0m\u001b[0;34m)\u001b[0m\u001b[0;34m\u001b[0m\u001b[0;34m\u001b[0m\u001b[0m\n\u001b[0m\u001b[1;32m      4\u001b[0m \u001b[0mend\u001b[0m \u001b[0;34m=\u001b[0m \u001b[0mtime\u001b[0m\u001b[0;34m.\u001b[0m\u001b[0mtime\u001b[0m\u001b[0;34m(\u001b[0m\u001b[0;34m)\u001b[0m\u001b[0;34m\u001b[0m\u001b[0;34m\u001b[0m\u001b[0m\n\u001b[1;32m      5\u001b[0m \u001b[0mprint\u001b[0m\u001b[0;34m(\u001b[0m\u001b[0;34m\"Time to train\"\u001b[0m\u001b[0;34m,\u001b[0m\u001b[0mlen\u001b[0m\u001b[0;34m(\u001b[0m\u001b[0merror\u001b[0m\u001b[0;34m)\u001b[0m\u001b[0;34m,\u001b[0m\u001b[0;34m\"epochs\"\u001b[0m\u001b[0;34m,\u001b[0m\u001b[0mend\u001b[0m\u001b[0;34m-\u001b[0m\u001b[0mstart\u001b[0m\u001b[0;34m)\u001b[0m\u001b[0;34m\u001b[0m\u001b[0;34m\u001b[0m\u001b[0m\n",
            "\u001b[0;32m<ipython-input-5-00306e343e8b>\u001b[0m in \u001b[0;36mtrain\u001b[0;34m(self, epoch_nums)\u001b[0m\n\u001b[1;32m     64\u001b[0m     \u001b[0;32mfor\u001b[0m \u001b[0mi\u001b[0m \u001b[0;32min\u001b[0m \u001b[0mrange\u001b[0m\u001b[0;34m(\u001b[0m\u001b[0mepoch_nums\u001b[0m\u001b[0;34m)\u001b[0m\u001b[0;34m:\u001b[0m\u001b[0;34m\u001b[0m\u001b[0;34m\u001b[0m\u001b[0m\n\u001b[1;32m     65\u001b[0m       \u001b[0mself\u001b[0m\u001b[0;34m.\u001b[0m\u001b[0mfeed_forward\u001b[0m\u001b[0;34m(\u001b[0m\u001b[0;34m)\u001b[0m\u001b[0;34m\u001b[0m\u001b[0;34m\u001b[0m\u001b[0m\n\u001b[0;32m---> 66\u001b[0;31m       \u001b[0mself\u001b[0m\u001b[0;34m.\u001b[0m\u001b[0mback_prop\u001b[0m\u001b[0;34m(\u001b[0m\u001b[0;34m)\u001b[0m\u001b[0;34m\u001b[0m\u001b[0;34m\u001b[0m\u001b[0m\n\u001b[0m\u001b[1;32m     67\u001b[0m       \u001b[0merror_list\u001b[0m\u001b[0;34m.\u001b[0m\u001b[0mappend\u001b[0m\u001b[0;34m(\u001b[0m\u001b[0mnp\u001b[0m\u001b[0;34m.\u001b[0m\u001b[0mmean\u001b[0m\u001b[0;34m(\u001b[0m\u001b[0mmse\u001b[0m\u001b[0;34m(\u001b[0m\u001b[0mself\u001b[0m\u001b[0;34m.\u001b[0m\u001b[0mlayers\u001b[0m\u001b[0;34m[\u001b[0m\u001b[0;34m-\u001b[0m\u001b[0;36m1\u001b[0m\u001b[0;34m]\u001b[0m\u001b[0;34m.\u001b[0m\u001b[0mout\u001b[0m\u001b[0;34m,\u001b[0m \u001b[0mself\u001b[0m\u001b[0;34m.\u001b[0m\u001b[0moutput_values\u001b[0m\u001b[0;34m)\u001b[0m\u001b[0;34m)\u001b[0m\u001b[0;34m)\u001b[0m\u001b[0;34m\u001b[0m\u001b[0;34m\u001b[0m\u001b[0m\n\u001b[1;32m     68\u001b[0m       \u001b[0;32mif\u001b[0m \u001b[0merror_list\u001b[0m\u001b[0;34m[\u001b[0m\u001b[0;34m-\u001b[0m\u001b[0;36m1\u001b[0m\u001b[0;34m]\u001b[0m \u001b[0;34m<\u001b[0m \u001b[0;36m10\u001b[0m\u001b[0;34m**\u001b[0m\u001b[0;34m(\u001b[0m\u001b[0;34m-\u001b[0m\u001b[0;36m2\u001b[0m\u001b[0;34m)\u001b[0m\u001b[0;34m:\u001b[0m\u001b[0;34m\u001b[0m\u001b[0;34m\u001b[0m\u001b[0m\n",
            "\u001b[0;32m<ipython-input-5-00306e343e8b>\u001b[0m in \u001b[0;36mback_prop\u001b[0;34m(self)\u001b[0m\n\u001b[1;32m     48\u001b[0m \u001b[0;34m\u001b[0m\u001b[0m\n\u001b[1;32m     49\u001b[0m     \u001b[0mprevious_layer\u001b[0m \u001b[0;34m=\u001b[0m \u001b[0mlast_layer\u001b[0m \u001b[0;34m=\u001b[0m \u001b[0mself\u001b[0m\u001b[0;34m.\u001b[0m\u001b[0mlayers\u001b[0m\u001b[0;34m[\u001b[0m\u001b[0;34m-\u001b[0m\u001b[0;36m1\u001b[0m\u001b[0;34m]\u001b[0m\u001b[0;34m\u001b[0m\u001b[0;34m\u001b[0m\u001b[0m\n\u001b[0;32m---> 50\u001b[0;31m     \u001b[0md\u001b[0m \u001b[0;34m=\u001b[0m \u001b[0mmse\u001b[0m\u001b[0;34m(\u001b[0m\u001b[0mlast_layer\u001b[0m\u001b[0;34m.\u001b[0m\u001b[0mout\u001b[0m\u001b[0;34m,\u001b[0m \u001b[0mself\u001b[0m\u001b[0;34m.\u001b[0m\u001b[0moutput_values\u001b[0m\u001b[0;34m,\u001b[0m \u001b[0;32mTrue\u001b[0m\u001b[0;34m)\u001b[0m \u001b[0;34m*\u001b[0m \u001b[0mself\u001b[0m\u001b[0;34m.\u001b[0m\u001b[0mactivation_function\u001b[0m\u001b[0;34m(\u001b[0m\u001b[0mlast_layer\u001b[0m\u001b[0;34m.\u001b[0m\u001b[0mout\u001b[0m\u001b[0;34m,\u001b[0m \u001b[0;32mTrue\u001b[0m\u001b[0;34m)\u001b[0m\u001b[0;34m\u001b[0m\u001b[0;34m\u001b[0m\u001b[0m\n\u001b[0m\u001b[1;32m     51\u001b[0m \u001b[0;34m\u001b[0m\u001b[0m\n\u001b[1;32m     52\u001b[0m     \u001b[0mlast_layer\u001b[0m\u001b[0;34m.\u001b[0m\u001b[0mweights\u001b[0m \u001b[0;34m-=\u001b[0m \u001b[0mself\u001b[0m\u001b[0;34m.\u001b[0m\u001b[0mlearning_rate\u001b[0m \u001b[0;34m*\u001b[0m \u001b[0mlast_layer\u001b[0m\u001b[0;34m.\u001b[0m\u001b[0mprevious_results\u001b[0m\u001b[0;34m.\u001b[0m\u001b[0mT\u001b[0m\u001b[0;34m.\u001b[0m\u001b[0mdot\u001b[0m\u001b[0;34m(\u001b[0m\u001b[0md\u001b[0m\u001b[0;34m)\u001b[0m\u001b[0;34m\u001b[0m\u001b[0;34m\u001b[0m\u001b[0m\n",
            "\u001b[0;32m<ipython-input-8-c41295e5ee96>\u001b[0m in \u001b[0;36mmse\u001b[0;34m(y_pred, y, derivative)\u001b[0m\n\u001b[1;32m      1\u001b[0m \u001b[0;32mdef\u001b[0m \u001b[0mmse\u001b[0m\u001b[0;34m(\u001b[0m\u001b[0my_pred\u001b[0m\u001b[0;34m,\u001b[0m \u001b[0my\u001b[0m\u001b[0;34m,\u001b[0m \u001b[0mderivative\u001b[0m\u001b[0;34m=\u001b[0m\u001b[0;32mFalse\u001b[0m\u001b[0;34m)\u001b[0m\u001b[0;34m:\u001b[0m\u001b[0;34m\u001b[0m\u001b[0;34m\u001b[0m\u001b[0m\n\u001b[1;32m      2\u001b[0m     \u001b[0;32mif\u001b[0m \u001b[0mderivative\u001b[0m\u001b[0;34m:\u001b[0m\u001b[0;34m\u001b[0m\u001b[0;34m\u001b[0m\u001b[0m\n\u001b[0;32m----> 3\u001b[0;31m         \u001b[0;32mreturn\u001b[0m \u001b[0my_pred\u001b[0m\u001b[0;34m*\u001b[0m\u001b[0;34m(\u001b[0m\u001b[0my_pred\u001b[0m\u001b[0;34m-\u001b[0m\u001b[0my\u001b[0m\u001b[0;34m)\u001b[0m\u001b[0;34m\u001b[0m\u001b[0;34m\u001b[0m\u001b[0m\n\u001b[0m\u001b[1;32m      4\u001b[0m     \u001b[0;32mreturn\u001b[0m \u001b[0;36m0.5\u001b[0m\u001b[0;34m*\u001b[0m\u001b[0;34m(\u001b[0m\u001b[0my_pred\u001b[0m\u001b[0;34m-\u001b[0m\u001b[0my\u001b[0m\u001b[0;34m)\u001b[0m\u001b[0;34m**\u001b[0m\u001b[0;36m2\u001b[0m\u001b[0;34m\u001b[0m\u001b[0;34m\u001b[0m\u001b[0m\n",
            "\u001b[0;31mValueError\u001b[0m: operands could not be broadcast together with shapes (200,2) (200,) "
          ]
        }
      ]
    },
    {
      "cell_type": "code",
      "metadata": {
        "id": "rfo49c87Ps_B",
        "colab_type": "code",
        "colab": {
          "base_uri": "https://localhost:8080/",
          "height": 33
        },
        "outputId": "9313bf8f-ad21-42a1-e1e2-548547dbaf65"
      },
      "source": [
        "ann.layers[0].weights.shape"
      ],
      "execution_count": null,
      "outputs": [
        {
          "output_type": "execute_result",
          "data": {
            "text/plain": [
              "(2, 2)"
            ]
          },
          "metadata": {
            "tags": []
          },
          "execution_count": 50
        }
      ]
    },
    {
      "cell_type": "code",
      "metadata": {
        "id": "DBvd9XA_QWPZ",
        "colab_type": "code",
        "colab": {}
      },
      "source": [
        ""
      ],
      "execution_count": null,
      "outputs": []
    }
  ]
}