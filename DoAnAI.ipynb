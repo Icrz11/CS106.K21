{
  "nbformat": 4,
  "nbformat_minor": 0,
  "metadata": {
    "colab": {
      "name": "DoAnAI",
      "provenance": [],
      "mount_file_id": "16ni68CLkHd4DLcaPjQfoed_v8f-fQvIY",
      "authorship_tag": "ABX9TyMfQ8blvuiMYS8QVUPPNAMS",
      "include_colab_link": true
    },
    "kernelspec": {
      "name": "python3",
      "display_name": "Python 3"
    }
  },
  "cells": [
    {
      "cell_type": "markdown",
      "metadata": {
        "id": "view-in-github",
        "colab_type": "text"
      },
      "source": [
        "<a href=\"https://colab.research.google.com/github/Icrz11/CS106.K21.RandomTeam/blob/master/DoAnAI.ipynb\" target=\"_parent\"><img src=\"https://colab.research.google.com/assets/colab-badge.svg\" alt=\"Open In Colab\"/></a>"
      ]
    },
    {
      "cell_type": "code",
      "metadata": {
        "id": "LChltciJIyu6",
        "colab_type": "code",
        "colab": {}
      },
      "source": [
        "from google.colab import drive\n",
        "drive.mount('/content/gdrive')"
      ],
      "execution_count": 0,
      "outputs": []
    },
    {
      "cell_type": "code",
      "metadata": {
        "id": "TZd_yUotP-JO",
        "colab_type": "code",
        "colab": {}
      },
      "source": [
        "import cv2\n",
        "from google.colab.patches import cv2_imshow\n",
        "import matplotlib.pyplot as plt\n",
        "import numpy as np\n",
        "import os \n",
        "from random import shuffle \n",
        "from skimage.feature import hog\n",
        "from tqdm import tqdm\n",
        "from sklearn.metrics import accuracy_score"
      ],
      "execution_count": 0,
      "outputs": []
    },
    {
      "cell_type": "code",
      "metadata": {
        "id": "sgLvJ5aJvZZX",
        "colab_type": "code",
        "colab": {}
      },
      "source": [
        "TRAIN_DIR = '/content/gdrive/My Drive/Colab Notebooks/DoAnAIData/train'\n",
        "TEST_DIR = '/content/gdrive/My Drive/Colab Notebooks/DoAnAIData/test'\n",
        "IMG_SIZE = 50\n",
        "Label = []"
      ],
      "execution_count": 0,
      "outputs": []
    },
    {
      "cell_type": "code",
      "metadata": {
        "id": "6MTCxx41wPN3",
        "colab_type": "code",
        "colab": {}
      },
      "source": [
        "def label_img(img):\n",
        "    word_label = img.split('.')[-3]\n",
        "    if word_label == 'cat': return [1]\n",
        "    elif word_label == 'dog': return [0]"
      ],
      "execution_count": 0,
      "outputs": []
    },
    {
      "cell_type": "code",
      "metadata": {
        "id": "C3vJBYpYY5mb",
        "colab_type": "code",
        "outputId": "64a9ad63-26d2-42c3-f10d-4393754ed573",
        "colab": {
          "base_uri": "https://localhost:8080/",
          "height": 34
        }
      },
      "source": [
        "def create_train_data():\n",
        "  trainning_data = []\n",
        "  labelss = []\n",
        "  for img in tqdm(os.listdir (TRAIN_DIR)):\n",
        "      label = label_img(img)\n",
        "      path = os.path.join(TRAIN_DIR,img)\n",
        "      img = cv2.imread(path,cv2.IMREAD_GRAYSCALE)\n",
        "      img = cv2.resize(img, (IMG_SIZE,IMG_SIZE))\n",
        "      trainning_data.append([np.array(img),np.array(label)])\n",
        "  np.save('/content/gdrive/My Drive/Colab Notebooks/DoAnAIData/train_data.npy', trainning_data)\n",
        "  return trainning_data\n",
        "train_data = create_train_data()"
      ],
      "execution_count": 0,
      "outputs": [
        {
          "output_type": "stream",
          "text": [
            "100%|██████████| 25000/25000 [3:05:12<00:00,  2.25it/s]\n"
          ],
          "name": "stderr"
        }
      ]
    },
    {
      "cell_type": "code",
      "metadata": {
        "id": "FToMAATkeUeZ",
        "colab_type": "code",
        "colab": {}
      },
      "source": [
        ""
      ],
      "execution_count": 0,
      "outputs": []
    },
    {
      "cell_type": "code",
      "metadata": {
        "id": "gIkC7vQief70",
        "colab_type": "code",
        "colab": {}
      },
      "source": [
        ""
      ],
      "execution_count": 0,
      "outputs": []
    },
    {
      "cell_type": "code",
      "metadata": {
        "id": "6CTHsXmmAiAU",
        "colab_type": "code",
        "colab": {}
      },
      "source": [
        "Data = np.load('/content/gdrive/My Drive/Colab Notebooks/DoAnAIData/train_data.npy', allow_pickle=True)"
      ],
      "execution_count": 0,
      "outputs": []
    },
    {
      "cell_type": "code",
      "metadata": {
        "id": "_lXg-dyKCsHT",
        "colab_type": "code",
        "outputId": "fc601163-3907-4045-a398-da4115c281fc",
        "colab": {
          "base_uri": "https://localhost:8080/",
          "height": 203
        }
      },
      "source": [
        "print (Data[1])\n",
        "cv2_imshow(Data[1][0])"
      ],
      "execution_count": 0,
      "outputs": [
        {
          "output_type": "stream",
          "text": [
            "[array([[129, 129, 127, ..., 168, 168, 168],\n",
            "       [127, 127, 127, ..., 166, 163, 165],\n",
            "       [127, 127, 127, ..., 167, 166, 164],\n",
            "       ...,\n",
            "       [ 20,  23,  32, ...,  46,  36,  35],\n",
            "       [ 39,  40,  31, ...,  32,  32,  31],\n",
            "       [ 50,  47,  54, ...,  34,  32,  30]], dtype=uint8)\n",
            " array([1])]\n"
          ],
          "name": "stdout"
        },
        {
          "output_type": "display_data",
          "data": {
            "image/png": "[encoded data removed]",
            "text/plain": [
              "<PIL.Image.Image image mode=L size=50x50 at 0x7FF8AF16BB70>"
            ]
          },
          "metadata": {
            "tags": []
          }
        }
      ]
    },
    {
      "cell_type": "code",
      "metadata": {
        "id": "DhZftG4VBIwB",
        "colab_type": "code",
        "outputId": "ba5b584b-9ff9-4710-cb9b-bdc880932150",
        "colab": {
          "base_uri": "https://localhost:8080/",
          "height": 214
        }
      },
      "source": [
        "plt.hist (labels)\n",
        "plt.title ('Categories')\n",
        "plt.xlabel ('type')\n",
        "plt.ylabel ('amount')"
      ],
      "execution_count": 0,
      "outputs": [
        {
          "output_type": "error",
          "ename": "NameError",
          "evalue": "ignored",
          "traceback": [
            "\u001b[0;31m---------------------------------------------------------------------------\u001b[0m",
            "\u001b[0;31mNameError\u001b[0m                                 Traceback (most recent call last)",
            "\u001b[0;32m<ipython-input-16-149fa1b3d171>\u001b[0m in \u001b[0;36m<module>\u001b[0;34m()\u001b[0m\n\u001b[0;32m----> 1\u001b[0;31m \u001b[0mplt\u001b[0m\u001b[0;34m.\u001b[0m\u001b[0mhist\u001b[0m \u001b[0;34m(\u001b[0m\u001b[0mlabels\u001b[0m\u001b[0;34m)\u001b[0m\u001b[0;34m\u001b[0m\u001b[0;34m\u001b[0m\u001b[0m\n\u001b[0m\u001b[1;32m      2\u001b[0m \u001b[0mplt\u001b[0m\u001b[0;34m.\u001b[0m\u001b[0mtitle\u001b[0m \u001b[0;34m(\u001b[0m\u001b[0;34m'Categories'\u001b[0m\u001b[0;34m)\u001b[0m\u001b[0;34m\u001b[0m\u001b[0;34m\u001b[0m\u001b[0m\n\u001b[1;32m      3\u001b[0m \u001b[0mplt\u001b[0m\u001b[0;34m.\u001b[0m\u001b[0mxlabel\u001b[0m \u001b[0;34m(\u001b[0m\u001b[0;34m'type'\u001b[0m\u001b[0;34m)\u001b[0m\u001b[0;34m\u001b[0m\u001b[0;34m\u001b[0m\u001b[0m\n\u001b[1;32m      4\u001b[0m \u001b[0mplt\u001b[0m\u001b[0;34m.\u001b[0m\u001b[0mylabel\u001b[0m \u001b[0;34m(\u001b[0m\u001b[0;34m'amount'\u001b[0m\u001b[0;34m)\u001b[0m\u001b[0;34m\u001b[0m\u001b[0;34m\u001b[0m\u001b[0m\n",
            "\u001b[0;31mNameError\u001b[0m: name 'labels' is not defined"
          ]
        }
      ]
    },
    {
      "cell_type": "markdown",
      "metadata": {
        "id": "29DMMyCbBrGp",
        "colab_type": "text"
      },
      "source": [
        "0 là chó, 1 là mèo\n"
      ]
    },
    {
      "cell_type": "code",
      "metadata": {
        "id": "62F-whMsLeD1",
        "colab_type": "code",
        "colab": {}
      },
      "source": [
        "X = []\n",
        "for i in range (len(Data)):\n",
        "  X.append(Data[i][0])\n",
        "Y = []\n",
        "for i in range (len(Data)):\n",
        "  Y.append(Data[i][1])"
      ],
      "execution_count": 0,
      "outputs": []
    },
    {
      "cell_type": "code",
      "metadata": {
        "id": "A1QPCCDnEhQK",
        "colab_type": "code",
        "colab": {}
      },
      "source": [
        "from sklearn.model_selection import train_test_split"
      ],
      "execution_count": 0,
      "outputs": []
    },
    {
      "cell_type": "code",
      "metadata": {
        "id": "NGNkqy9vG3tn",
        "colab_type": "code",
        "colab": {}
      },
      "source": [
        "X_train, X_test, y_train, y_test = train_test_split (X,Y, test_size = 0.2, random_state = 30)\n"
      ],
      "execution_count": 0,
      "outputs": []
    },
    {
      "cell_type": "code",
      "metadata": {
        "id": "ikY6YiuKA-05",
        "colab_type": "code",
        "colab": {}
      },
      "source": [
        "trainning_features = []\n",
        "for i in range (len(X_train)):\n",
        "  features = hog(X_train[i])\n",
        "  trainning_features.append (features)"
      ],
      "execution_count": 0,
      "outputs": []
    },
    {
      "cell_type": "code",
      "metadata": {
        "id": "dJoTlXSYcDQC",
        "colab_type": "code",
        "colab": {}
      },
      "source": [
        "testing_features = []\n",
        "for i in range (len(X_test)):\n",
        "  features = hog(X_test[i])\n",
        "  testing_features.append(features)"
      ],
      "execution_count": 0,
      "outputs": []
    },
    {
      "cell_type": "code",
      "metadata": {
        "id": "1SxGCxcPcN9K",
        "colab_type": "code",
        "outputId": "e3e4ad86-b2c5-4430-df70-afe840ec5771",
        "colab": {
          "base_uri": "https://localhost:8080/",
          "height": 139
        }
      },
      "source": [
        "from sklearn import svm\n",
        "model = svm.SVC()\n",
        "model.fit(trainning_features, y_train)"
      ],
      "execution_count": 0,
      "outputs": [
        {
          "output_type": "stream",
          "text": [
            "/usr/local/lib/python3.6/dist-packages/sklearn/utils/validation.py:760: DataConversionWarning: A column-vector y was passed when a 1d array was expected. Please change the shape of y to (n_samples, ), for example using ravel().\n",
            "  y = column_or_1d(y, warn=True)\n"
          ],
          "name": "stderr"
        },
        {
          "output_type": "execute_result",
          "data": {
            "text/plain": [
              "SVC(C=1.0, break_ties=False, cache_size=200, class_weight=None, coef0=0.0,\n",
              "    decision_function_shape='ovr', degree=3, gamma='scale', kernel='rbf',\n",
              "    max_iter=-1, probability=False, random_state=None, shrinking=True,\n",
              "    tol=0.001, verbose=False)"
            ]
          },
          "metadata": {
            "tags": []
          },
          "execution_count": 22
        }
      ]
    },
    {
      "cell_type": "code",
      "metadata": {
        "id": "YLov5hqAM77c",
        "colab_type": "code",
        "colab": {}
      },
      "source": [
        "pre = model.predict(testing_features)"
      ],
      "execution_count": 0,
      "outputs": []
    },
    {
      "cell_type": "code",
      "metadata": {
        "id": "Llz3HmqsNEMB",
        "colab_type": "code",
        "outputId": "b98db2c1-46b6-4381-fbcc-e8f0a7a9dd41",
        "colab": {
          "base_uri": "https://localhost:8080/",
          "height": 34
        }
      },
      "source": [
        "acc = accuracy_score(pre, y_test)\n",
        "print (acc)"
      ],
      "execution_count": 0,
      "outputs": [
        {
          "output_type": "stream",
          "text": [
            "0.7824\n"
          ],
          "name": "stdout"
        }
      ]
    },
    {
      "cell_type": "code",
      "metadata": {
        "id": "0WvwGIqQPQME",
        "colab_type": "code",
        "outputId": "86ca252c-077c-4f72-e766-b30e4e82ac3f",
        "colab": {
          "base_uri": "https://localhost:8080/",
          "height": 84
        }
      },
      "source": [
        "a = cv2.imread('/content/gdrive/My Drive/Colab Notebooks/DoAnAIData/test/1007.jpg', cv2.IMREAD_GRAYSCALE)\n",
        "a = cv2.resize(a, (IMG_SIZE,IMG_SIZE))\n",
        "cv2_imshow(a)\n",
        "f = hog (a)\n",
        "f = np.reshape (f, (1,-1))\n",
        "print (f)\n"
      ],
      "execution_count": 0,
      "outputs": [
        {
          "output_type": "display_data",
          "data": {
            "image/png": "[encoded data removed]",
            "text/plain": [
              "<PIL.Image.Image image mode=L size=50x50 at 0x7FF8AE0D4550>"
            ]
          },
          "metadata": {
            "tags": []
          }
        },
        {
          "output_type": "stream",
          "text": [
            "[[0.11292953 0.05116496 0.06777196 ... 0.20771538 0.13051351 0.17485465]]\n"
          ],
          "name": "stdout"
        }
      ]
    },
    {
      "cell_type": "code",
      "metadata": {
        "id": "pKSbGDDXQYmL",
        "colab_type": "code",
        "outputId": "8dfdb04d-070c-4cbf-be05-c9fce2e2d9ff",
        "colab": {
          "base_uri": "https://localhost:8080/",
          "height": 34
        }
      },
      "source": [
        "model.predict(f)"
      ],
      "execution_count": 0,
      "outputs": [
        {
          "output_type": "execute_result",
          "data": {
            "text/plain": [
              "array([0])"
            ]
          },
          "metadata": {
            "tags": []
          },
          "execution_count": 28
        }
      ]
    }
  ]
}