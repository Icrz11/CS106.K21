{
  "nbformat": 4,
  "nbformat_minor": 0,
  "metadata": {
    "colab": {
      "name": "DarkNet53-Trainning for Dog-Cat Classifier.ipynb",
      "provenance": [],
      "collapsed_sections": []
    },
    "kernelspec": {
      "name": "python3",
      "display_name": "Python 3"
    },
    "accelerator": "GPU"
  },
  "cells": [
    {
      "cell_type": "code",
      "metadata": {
        "id": "_izodcf0PPjS",
        "colab_type": "code",
        "colab": {}
      },
      "source": [
        "from keras.preprocessing import image\n",
        "from keras.applications.vgg16 import VGG16\n",
        "from keras.applications.vgg16 import preprocess_input\n",
        "\n",
        "from keras.layers import Dense, GlobalAveragePooling2D\n",
        "from keras.models import Model\n",
        "\n",
        "\n",
        "from tensorflow.keras.models import Sequential\n",
        "from tensorflow.keras.layers import Dense, Conv2D, Flatten, Dropout, MaxPooling2D\n",
        "\n",
        "# Tạo class ImageDataGenerator cho việc truyền dữ liệu vào model\n",
        "from tensorflow.keras.preprocessing.image import ImageDataGenerator\n",
        "\n",
        "# Xử lý các đường dẫn\n",
        "import os\n",
        "\n",
        "import cv2\n",
        "import tensorflow as tf\n",
        "import numpy as np\n",
        "import matplotlib.pyplot as plt"
      ],
      "execution_count": null,
      "outputs": []
    },
    {
      "cell_type": "code",
      "metadata": {
        "id": "eK9fuPQSeq95",
        "colab_type": "code",
        "colab": {}
      },
      "source": [
        "my_model.summary()"
      ],
      "execution_count": null,
      "outputs": []
    },
    {
      "cell_type": "code",
      "metadata": {
        "id": "KpXMRrzKf1Ni",
        "colab_type": "code",
        "colab": {}
      },
      "source": [
        "dense_model = Sequential([\n",
        "    Flatten(input_shape=(7, 7 ,512)),\n",
        "    Dense(4096),\n",
        "    Dense(4096),\n",
        "    Dense(1,activation='softmax')\n",
        "])\n",
        "dense_model.summary()"
      ],
      "execution_count": null,
      "outputs": []
    },
    {
      "cell_type": "code",
      "metadata": {
        "id": "n8Mta5jDe8bY",
        "colab_type": "code",
        "colab": {}
      },
      "source": [
        "merged_model = Sequential([my_model,dense_model])"
      ],
      "execution_count": null,
      "outputs": []
    },
    {
      "cell_type": "code",
      "metadata": {
        "id": "qtyQz6Clkfb8",
        "colab_type": "code",
        "colab": {}
      },
      "source": [
        "merged_model.summary()\n",
        "merged_model.compile(optimizer='adam',\n",
        "              loss=tf.keras.losses.BinaryCrossentropy(from_logits=True),\n",
        "              metrics=['accuracy'])"
      ],
      "execution_count": null,
      "outputs": []
    },
    {
      "cell_type": "code",
      "metadata": {
        "id": "ipNRXAXocztm",
        "colab_type": "code",
        "colab": {
          "base_uri": "https://localhost:8080/",
          "height": 516
        },
        "outputId": "f7d1ba15-45ec-46d7-8b4f-87d614a7c69d"
      },
      "source": [
        "history = merged_model.fit_generator(\n",
        "    train_data_gen,\n",
        "    steps_per_epoch=total_train // batch_size,\n",
        "    epochs=epochs,\n",
        "    validation_data=val_data_gen,\n",
        "    validation_steps=total_val // batch_size\n",
        ")"
      ],
      "execution_count": null,
      "outputs": [
        {
          "output_type": "stream",
          "text": [
            "Epoch 1/15\n",
            "15/15 [==============================] - 19s 1s/step - loss: 0.8138 - accuracy: 0.4995 - val_loss: 0.8166 - val_accuracy: 0.4967\n",
            "Epoch 2/15\n",
            "15/15 [==============================] - 18s 1s/step - loss: 0.8138 - accuracy: 0.4995 - val_loss: 0.8278 - val_accuracy: 0.4855\n",
            "Epoch 3/15\n",
            "15/15 [==============================] - 18s 1s/step - loss: 0.8127 - accuracy: 0.5005 - val_loss: 0.8043 - val_accuracy: 0.5089\n",
            "Epoch 4/15\n",
            "15/15 [==============================] - 18s 1s/step - loss: 0.8154 - accuracy: 0.4979 - val_loss: 0.8088 - val_accuracy: 0.5045\n",
            "Epoch 5/15\n",
            "15/15 [==============================] - 18s 1s/step - loss: 0.8138 - accuracy: 0.4995 - val_loss: 0.8121 - val_accuracy: 0.5011\n",
            "Epoch 6/15\n",
            "15/15 [==============================] - 18s 1s/step - loss: 0.8143 - accuracy: 0.4989 - val_loss: 0.8110 - val_accuracy: 0.5022\n",
            "Epoch 7/15\n",
            "15/15 [==============================] - 18s 1s/step - loss: 0.8143 - accuracy: 0.4989 - val_loss: 0.8099 - val_accuracy: 0.5033\n",
            "Epoch 8/15\n",
            "15/15 [==============================] - 18s 1s/step - loss: 0.8106 - accuracy: 0.5027 - val_loss: 0.8121 - val_accuracy: 0.5011\n",
            "Epoch 9/15\n",
            "15/15 [==============================] - 18s 1s/step - loss: 0.8117 - accuracy: 0.5016 - val_loss: 0.8133 - val_accuracy: 0.5000\n",
            "Epoch 10/15\n",
            "15/15 [==============================] - 19s 1s/step - loss: 0.8095 - accuracy: 0.5037 - val_loss: 0.8155 - val_accuracy: 0.4978\n",
            "Epoch 11/15\n",
            "15/15 [==============================] - 19s 1s/step - loss: 0.8095 - accuracy: 0.5037 - val_loss: 0.8200 - val_accuracy: 0.4933\n",
            "Epoch 12/15\n",
            "15/15 [==============================] - 19s 1s/step - loss: 0.8133 - accuracy: 0.5000 - val_loss: 0.8177 - val_accuracy: 0.4955\n",
            "Epoch 13/15\n",
            "15/15 [==============================] - 19s 1s/step - loss: 0.8138 - accuracy: 0.4995 - val_loss: 0.8177 - val_accuracy: 0.4955\n",
            "Epoch 14/15\n",
            "15/15 [==============================] - 19s 1s/step - loss: 0.8175 - accuracy: 0.4957 - val_loss: 0.8088 - val_accuracy: 0.5045\n",
            "Epoch 15/15\n",
            "15/15 [==============================] - 18s 1s/step - loss: 0.8095 - accuracy: 0.5037 - val_loss: 0.8144 - val_accuracy: 0.4989\n"
          ],
          "name": "stdout"
        }
      ]
    },
    {
      "cell_type": "code",
      "metadata": {
        "id": "qcGnxzQRzFPq",
        "colab_type": "code",
        "colab": {}
      },
      "source": [
        "my_model = VGG16(\n",
        "    weights='imagenet',\n",
        "    include_top=False,\n",
        "    input_tensor=None,\n",
        "    input_shape=(4128,2322,3),\n",
        "    pooling=\"Max\",\n",
        ")\n",
        "\n",
        "for layer in my_model.layers[:-4]:\n",
        "    layer.trainable = False\n"
      ],
      "execution_count": null,
      "outputs": []
    },
    {
      "cell_type": "code",
      "metadata": {
        "id": "1q7k5fLhFO3q",
        "colab_type": "code",
        "colab": {}
      },
      "source": [
        "model = models.Sequential()\n",
        "model.add(my_model)\n",
        "model.add(layers.Flatten())\n",
        "model.add(Dense(2048,activation='relu'))\n",
        "model.add(Dense(1024,activation='relu'))\n",
        "model.add(Dropout(0.5))\n",
        "model.add(Dense(32,activation='softmax'))"
      ],
      "execution_count": null,
      "outputs": []
    },
    {
      "cell_type": "code",
      "metadata": {
        "id": "uynZ8YI-vBID",
        "colab_type": "code",
        "colab": {}
      },
      "source": [
        "dense_model = Sequential([\n",
        "    Flatten(),\n",
        "    Dense(2048,activation='relu'),\n",
        "    Dense(1024,activation='relu'),\n",
        "    Dropout(0.5),\n",
        "    Dense(32,activation='softmax')\n",
        "])\n",
        "\n",
        "merged_model = Sequential([my_model,dense_model])"
      ],
      "execution_count": null,
      "outputs": []
    },
    {
      "cell_type": "code",
      "metadata": {
        "id": "SMCILN9MFD_m",
        "colab_type": "code",
        "colab": {
          "base_uri": "https://localhost:8080/",
          "height": 316
        },
        "outputId": "a6e7de37-3747-4f0d-fad3-6a76304eafb0"
      },
      "source": [
        "dense_model.summary()"
      ],
      "execution_count": null,
      "outputs": [
        {
          "output_type": "stream",
          "text": [
            "Model: \"sequential_45\"\n",
            "_________________________________________________________________\n",
            "Layer (type)                 Output Shape              Param #   \n",
            "=================================================================\n",
            "flatten_21 (Flatten)         (None, 25088)             0         \n",
            "_________________________________________________________________\n",
            "dense_63 (Dense)             (None, 2048)              51382272  \n",
            "_________________________________________________________________\n",
            "dense_64 (Dense)             (None, 1024)              2098176   \n",
            "_________________________________________________________________\n",
            "dropout_2 (Dropout)          (None, 1024)              0         \n",
            "_________________________________________________________________\n",
            "dense_65 (Dense)             (None, 32)                32800     \n",
            "=================================================================\n",
            "Total params: 53,513,248\n",
            "Trainable params: 53,513,248\n",
            "Non-trainable params: 0\n",
            "_________________________________________________________________\n"
          ],
          "name": "stdout"
        }
      ]
    },
    {
      "cell_type": "markdown",
      "metadata": {
        "id": "F19RCAcYCzGe",
        "colab_type": "text"
      },
      "source": [
        "---------------------------------\n",
        "Dữ liệu chưa phân chia thành train và test"
      ]
    },
    {
      "cell_type": "code",
      "metadata": {
        "id": "Uc_u_VliXHMj",
        "colab_type": "code",
        "colab": {
          "base_uri": "https://localhost:8080/",
          "height": 220
        },
        "outputId": "d16d700d-e8b7-4090-c7a0-d3df4d8a29c4"
      },
      "source": [
        "!wget \"https://storage.googleapis.com/kagglesdsdata/competitions/3362/31148/train.zip?GoogleAccessId=web-data@kaggle-161607.iam.gserviceaccount.com&Expires=1591788358&Signature=Jf075VZuvjj22e7q9OCncSAOvq66JISX3Rl7AoL3VPvFeFKhYlzThUBZrXTImMYd06O%2FWj3INUAh5h6sitPba64ubFVB2Mla%2FGSmvkMBpRceDjWaN%2Bhx84TojspOgN1I7S%2FxanaAG6lkNPxOE2o0G90eDguWPEbnvf7830iLqgRKS65JH97dq%2BC8UShVu4qEMVb4fM7L1kuLVJgusoEPOyWBb3B1hIjLwvnEqlc3b9Enpm%2BmsgrVA0smtwkuOb9WWJH48dJw4Y9xa%2B3GLiNbllukDXF%2F%2Bjx8vmoJcpOKWTh8Ry46pqhS0gRnlY9n7QZjoQa2LF7cvKeu%2FzfdcBUgIQ%3D%3D&response-content-disposition=attachment%3B+filename%3Dtrain.zip\" -O \"train.zip\"\n",
        "!wget \"https://storage.googleapis.com/kagglesdsdata/competitions/3362/31148/test1.zip?GoogleAccessId=web-data@kaggle-161607.iam.gserviceaccount.com&Expires=1591788592&Signature=VsSjl5BQutplb06b5bCL%2FuSxn9HF2nmjiytUJPTMlVI9SA%2BLulyofNy7lQSFII0JMon98LoQO4HhvSJMQLmqjRGFKt0PkwQDAEjEuGNYtbLvUFzz7UZWNH9K%2FqNxgrLLNQwAhGc8kauFAKtNDeXbJAZDmuqpwb9wFKKPrvAiKTKpeAdYZtOY6U4w5Lra%2FEKwHpwW0DwhQ96ejJIRejFRBcwjUtXBzJSX6Jt0JB3JbLLAUFOxoossF%2Bf9wDRiI69C92e5Ij2ikUKOJXrjuBIRJ3UYTGUL3cWWixVzegAjX9PEtMhYjGzZ76aqok7zg5KFVw1AvE9mL9uvn55Ld74ttg%3D%3D&response-content-disposition=attachment%3B+filename%3Dtest1.zip\" -O \"test.zip\""
      ],
      "execution_count": null,
      "outputs": [
        {
          "output_type": "stream",
          "text": [
            "--2020-06-07 11:30:25--  https://storage.googleapis.com/kagglesdsdata/competitions/3362/31148/test1.zip?GoogleAccessId=web-data@kaggle-161607.iam.gserviceaccount.com&Expires=1591788592&Signature=VsSjl5BQutplb06b5bCL%2FuSxn9HF2nmjiytUJPTMlVI9SA%2BLulyofNy7lQSFII0JMon98LoQO4HhvSJMQLmqjRGFKt0PkwQDAEjEuGNYtbLvUFzz7UZWNH9K%2FqNxgrLLNQwAhGc8kauFAKtNDeXbJAZDmuqpwb9wFKKPrvAiKTKpeAdYZtOY6U4w5Lra%2FEKwHpwW0DwhQ96ejJIRejFRBcwjUtXBzJSX6Jt0JB3JbLLAUFOxoossF%2Bf9wDRiI69C92e5Ij2ikUKOJXrjuBIRJ3UYTGUL3cWWixVzegAjX9PEtMhYjGzZ76aqok7zg5KFVw1AvE9mL9uvn55Ld74ttg%3D%3D&response-content-disposition=attachment%3B+filename%3Dtest1.zip\n",
            "Resolving storage.googleapis.com (storage.googleapis.com)... 74.125.23.128, 2404:6800:4008:c04::80\n",
            "Connecting to storage.googleapis.com (storage.googleapis.com)|74.125.23.128|:443... connected.\n",
            "HTTP request sent, awaiting response... 200 OK\n",
            "Length: 284321224 (271M) [application/zip]\n",
            "Saving to: ‘test.zip’\n",
            "\n",
            "test.zip            100%[===================>] 271.15M  54.1MB/s    in 5.0s    \n",
            "\n",
            "2020-06-07 11:30:31 (54.1 MB/s) - ‘test.zip’ saved [284321224/284321224]\n",
            "\n"
          ],
          "name": "stdout"
        }
      ]
    },
    {
      "cell_type": "code",
      "metadata": {
        "id": "AU5sdIcKiB3j",
        "colab_type": "code",
        "colab": {}
      },
      "source": [
        "!unzip \"/content/train.zip\" -d \"train\"\n",
        "!unzip \"/content/test.zip\" -d \"test\"\n",
        "train_dirs =[\"train/train/\"+ x for x in os.listdir(\"train/train/\")]\n",
        "test_dirs = [\"test/test1/\" + x for x in os.listdir(\"test/test1/\")]\n",
        "\n",
        "cat_train_dirs = []\n",
        "for x in train_dirs:\n",
        "  if \"cat\" in x:\n",
        "    cat_train_dirs.append(x)\n",
        "\n",
        "dog_train_dirs = []\n",
        "for x in train_dirs:\n",
        "  if \"dog\" in x:\n",
        "    dog_train_dirs.append(x)\n",
        "\n",
        "len(cat_train_dirs) + len(dog_train_dirs)"
      ],
      "execution_count": null,
      "outputs": []
    },
    {
      "cell_type": "code",
      "metadata": {
        "id": "pPO29qWEmbOq",
        "colab_type": "code",
        "colab": {}
      },
      "source": [
        "cat_label = np.zeros(shape = len(cat_train_dirs),dtype=np.int8)\n",
        "dog_label = np.ones(shape = len(dog_train_dirs),dtype=np.int8)\n",
        "label = np.hstack((cat_label,dog_label))\n",
        "sort_img_dirs = np.hstack((cat_train_dirs,dog_train_dirs))"
      ],
      "execution_count": null,
      "outputs": []
    },
    {
      "cell_type": "markdown",
      "metadata": {
        "id": "sjnUMi_ZC6So",
        "colab_type": "text"
      },
      "source": [
        ""
      ]
    },
    {
      "cell_type": "markdown",
      "metadata": {
        "id": "ccZbI0J6C-MO",
        "colab_type": "text"
      },
      "source": [
        "--------------------------------- Dùng tập dữ liệu này vì đã chia thành tập train và test:"
      ]
    },
    {
      "cell_type": "code",
      "metadata": {
        "id": "FzbHwwSen2pY",
        "colab_type": "code",
        "colab": {}
      },
      "source": [
        ""
      ],
      "execution_count": null,
      "outputs": []
    },
    {
      "cell_type": "code",
      "metadata": {
        "id": "zOZw9r8npAjV",
        "colab_type": "code",
        "colab": {
          "base_uri": "https://localhost:8080/",
          "height": 220
        },
        "outputId": "80d715e8-3ff6-4645-868e-975b2aac3d77"
      },
      "source": [
        "!wget \"https://storage.googleapis.com/kaggle-data-sets/22535%2F28903%2Fbundle%2Farchive.zip?GoogleAccessId=gcp-kaggle-com@kaggle-161607.iam.gserviceaccount.com&Expires=1591790708&Signature=JmktTXSJM3bG9VHs9MTzmMZ45saau19mCdD%2FpcqGcaJUhGk7Tu1VDcPcTI62z4LKhLUA7ah6GM7UybsZuqeGx51SQkyZ1FOi4lwo%2BFEwyG1dS5bUpuShNCr9w5RlW4hz2jQ%2F2y8fl5PAxIp%2Fji8NkFx1M0BlYbx3wkForcHQIWwpamVXEXiTN%2FdHapTxq0TT3FQfNTLfZO17sS%2BIMZcPl0fhfiiU%2FskrFIG1HL8ukczAbNRrubf0O0XA%2FYD9FnOCfA6JdW3aQyJR8pS%2FyPzJlPybeD1TxtmACxracnpdffcCzKD1KU0ZeHpzD6jThPj4uhVU%2F5EhA6UpUlj14QZj3A%3D%3D\" -O \"data.zip\""
      ],
      "execution_count": null,
      "outputs": [
        {
          "output_type": "stream",
          "text": [
            "--2020-06-07 12:05:28--  https://storage.googleapis.com/kaggle-data-sets/22535%2F28903%2Fbundle%2Farchive.zip?GoogleAccessId=gcp-kaggle-com@kaggle-161607.iam.gserviceaccount.com&Expires=1591790708&Signature=JmktTXSJM3bG9VHs9MTzmMZ45saau19mCdD%2FpcqGcaJUhGk7Tu1VDcPcTI62z4LKhLUA7ah6GM7UybsZuqeGx51SQkyZ1FOi4lwo%2BFEwyG1dS5bUpuShNCr9w5RlW4hz2jQ%2F2y8fl5PAxIp%2Fji8NkFx1M0BlYbx3wkForcHQIWwpamVXEXiTN%2FdHapTxq0TT3FQfNTLfZO17sS%2BIMZcPl0fhfiiU%2FskrFIG1HL8ukczAbNRrubf0O0XA%2FYD9FnOCfA6JdW3aQyJR8pS%2FyPzJlPybeD1TxtmACxracnpdffcCzKD1KU0ZeHpzD6jThPj4uhVU%2F5EhA6UpUlj14QZj3A%3D%3D\n",
            "Resolving storage.googleapis.com (storage.googleapis.com)... 64.233.189.128, 2404:6800:4008:c07::80\n",
            "Connecting to storage.googleapis.com (storage.googleapis.com)|64.233.189.128|:443... connected.\n",
            "HTTP request sent, awaiting response... 200 OK\n",
            "Length: 455718914 (435M) [application/zip]\n",
            "Saving to: ‘data.zip’\n",
            "\n",
            "data.zip            100%[===================>] 434.61M  45.7MB/s    in 13s     \n",
            "\n",
            "2020-06-07 12:05:42 (32.4 MB/s) - ‘data.zip’ saved [455718914/455718914]\n",
            "\n"
          ],
          "name": "stdout"
        }
      ]
    },
    {
      "cell_type": "code",
      "metadata": {
        "id": "txPyngqGoJ8H",
        "colab_type": "code",
        "colab": {}
      },
      "source": [
        "train_dir = \"/content/dataset/training_set\"\n",
        "validate_dir = \"/content/dataset/test_set\"\n",
        "nb_epochs = 2\n",
        "batch_size = 128\n",
        "nb_classes = len(glob.glob(train_dir + '/*'))"
      ],
      "execution_count": null,
      "outputs": []
    },
    {
      "cell_type": "code",
      "metadata": {
        "id": "iiowe5xInag4",
        "colab_type": "code",
        "colab": {
          "base_uri": "https://localhost:8080/",
          "height": 50
        },
        "outputId": "da71318a-a7c4-4b5c-9473-18abcc384796"
      },
      "source": [
        "train_datagen = ImageDataGenerator(preprocessing_function=preprocess_input)\n",
        "test_datagen = ImageDataGenerator(preprocessing_function=preprocess_input)\n",
        "train_data_gen = train_datagen.flow_from_directory(batch_size=128,\n",
        "                                                           directory=train_dir,\n",
        "                                                           shuffle=True,\n",
        "                                                           target_size=(IMG_HEIGHT, IMG_WIDTH),\n",
        "                                                           class_mode=\"categorical\")\n",
        "test_data_gen = test_datagen.flow_from_directory(batch_size=128,\n",
        "                                                           directory=validate_dir,\n",
        "                                                           shuffle=True,\n",
        "                                                           target_size=(IMG_HEIGHT, IMG_WIDTH),\n",
        "                                                           class_mode=\"categorical\")"
      ],
      "execution_count": null,
      "outputs": [
        {
          "output_type": "stream",
          "text": [
            "Found 8000 images belonging to 2 classes.\n",
            "Found 2000 images belonging to 2 classes.\n"
          ],
          "name": "stdout"
        }
      ]
    },
    {
      "cell_type": "code",
      "metadata": {
        "id": "P2DUciWjKFez",
        "colab_type": "code",
        "colab": {}
      },
      "source": [
        "#Load the VGG model\n",
        "vgg16_model  = VGG16(weights='imagenet', include_top=False,input_shape=(224,224,3))\n",
        "\n",
        "# freeze all layers of the pre-trained model\n",
        "for layer in vgg16_model.layers:\n",
        "    layer.trainable = False\n",
        "\n",
        "\n",
        "model_1 = models.Sequential()\n",
        "model_1.add(vgg16_model)\n",
        "# model.add(layers.Flatten())\n",
        "# model.add(layers.Dropout(0.5))\n",
        "# model.add(layers.Dense(256, activation='relu'))\n",
        "# model.add(layers.Dense(256, activation='relu'))\n",
        "# model.add(layers.Dense(2, activation='softmax'))\n",
        "\n",
        "\n",
        "# # model = Model(input = vgg16_model.input, output = predictions)\n",
        "\n",
        "\n",
        "# # Show a summary of the model. Check the number of trainable parameters\n",
        "# model.summary()\n",
        "\n",
        "# model.compile(optimizer='adam',\n",
        "#               loss=tf.keras.losses.CategoricalCrossentropy(from_logits=False,name='categorical_crossentropy'),\n",
        "#               metrics=['accuracy'])"
      ],
      "execution_count": null,
      "outputs": []
    },
    {
      "cell_type": "code",
      "metadata": {
        "id": "fkltSZCDlPiw",
        "colab_type": "code",
        "colab": {
          "base_uri": "https://localhost:8080/",
          "height": 350
        },
        "outputId": "9e466eff-7ca7-4de3-bb69-c0a46278a619"
      },
      "source": [
        "#Load the VGG model\n",
        "vgg16_model  = VGG16(weights='imagenet', include_top=False,input_shape=(224,224,3))\n",
        "\n",
        "# freeze all layers of the pre-trained model\n",
        "for layer in vgg16_model.layers:\n",
        "    layer.trainable = False\n",
        "\n",
        "\n",
        "model = models.Sequential()\n",
        "model.add(vgg16_model)\n",
        "model.add(layers.Flatten())\n",
        "model.add(layers.Dropout(0.5))\n",
        "model.add(layers.Dense(256, activation='relu'))\n",
        "model.add(layers.Dense(256, activation='relu'))\n",
        "model.add(layers.Dense(2, activation='softmax'))\n",
        "\n",
        "\n",
        "# model = Model(input = vgg16_model.input, output = predictions)\n",
        "\n",
        "\n",
        "# Show a summary of the model. Check the number of trainable parameters\n",
        "model.summary()\n",
        "\n",
        "model.compile(optimizer='adam',\n",
        "              loss=tf.keras.losses.CategoricalCrossentropy(from_logits=False,name='categorical_crossentropy'),\n",
        "              metrics=['accuracy'])"
      ],
      "execution_count": null,
      "outputs": [
        {
          "output_type": "stream",
          "text": [
            "Model: \"sequential_10\"\n",
            "_________________________________________________________________\n",
            "Layer (type)                 Output Shape              Param #   \n",
            "=================================================================\n",
            "vgg16 (Model)                (None, 7, 7, 512)         14714688  \n",
            "_________________________________________________________________\n",
            "flatten_7 (Flatten)          (None, 25088)             0         \n",
            "_________________________________________________________________\n",
            "dropout_7 (Dropout)          (None, 25088)             0         \n",
            "_________________________________________________________________\n",
            "dense_25 (Dense)             (None, 256)               6422784   \n",
            "_________________________________________________________________\n",
            "dense_26 (Dense)             (None, 256)               65792     \n",
            "_________________________________________________________________\n",
            "dense_27 (Dense)             (None, 2)                 514       \n",
            "=================================================================\n",
            "Total params: 21,203,778\n",
            "Trainable params: 6,489,090\n",
            "Non-trainable params: 14,714,688\n",
            "_________________________________________________________________\n"
          ],
          "name": "stdout"
        }
      ]
    },
    {
      "cell_type": "code",
      "metadata": {
        "id": "p13uV3IZK2-i",
        "colab_type": "code",
        "colab": {}
      },
      "source": [
        "model.load_weights(\"/content/dogsandcat_vgg16_model_tl.h5\")"
      ],
      "execution_count": null,
      "outputs": []
    },
    {
      "cell_type": "code",
      "metadata": {
        "id": "BdtvAxHTLFzQ",
        "colab_type": "code",
        "colab": {}
      },
      "source": [
        "model_json = model.to_json()\n",
        "with open(\"model.json\", \"w\") as json_file:\n",
        "    json_file.write(model_json)"
      ],
      "execution_count": null,
      "outputs": []
    },
    {
      "cell_type": "code",
      "metadata": {
        "id": "XB1aL6dBsPfI",
        "colab_type": "code",
        "colab": {
          "base_uri": "https://localhost:8080/",
          "height": 516
        },
        "outputId": "f030d0ed-7301-4743-dc3d-0e6ff2f671e5"
      },
      "source": [
        "history = model.fit_generator(\n",
        "    train_data_gen,\n",
        "    steps_per_epoch= 8000 // 128,\n",
        "    epochs=epochs,\n",
        "    validation_data=val_data_gen,\n",
        "    validation_steps= 2000 // 128\n",
        ")"
      ],
      "execution_count": null,
      "outputs": [
        {
          "output_type": "stream",
          "text": [
            "Epoch 1/15\n",
            "62/62 [==============================] - 132s 2s/step - loss: 0.6259 - accuracy: 0.7322\n",
            "Epoch 2/15\n",
            "62/62 [==============================] - 132s 2s/step - loss: 0.3125 - accuracy: 0.8598\n",
            "Epoch 3/15\n",
            "62/62 [==============================] - 132s 2s/step - loss: 0.2662 - accuracy: 0.8869\n",
            "Epoch 4/15\n",
            "62/62 [==============================] - 132s 2s/step - loss: 0.2467 - accuracy: 0.8962\n",
            "Epoch 5/15\n",
            "62/62 [==============================] - 132s 2s/step - loss: 0.2566 - accuracy: 0.8848\n",
            "Epoch 6/15\n",
            "62/62 [==============================] - 132s 2s/step - loss: 0.2514 - accuracy: 0.8885\n",
            "Epoch 7/15\n",
            "62/62 [==============================] - 132s 2s/step - loss: 0.2447 - accuracy: 0.8948\n",
            "Epoch 8/15\n",
            "62/62 [==============================] - 132s 2s/step - loss: 0.2396 - accuracy: 0.8998\n",
            "Epoch 9/15\n",
            "62/62 [==============================] - 132s 2s/step - loss: 0.2241 - accuracy: 0.9040\n",
            "Epoch 10/15\n",
            "62/62 [==============================] - 130s 2s/step - loss: 0.2237 - accuracy: 0.9070\n",
            "Epoch 11/15\n",
            "62/62 [==============================] - 131s 2s/step - loss: 0.2363 - accuracy: 0.8948\n",
            "Epoch 12/15\n",
            "62/62 [==============================] - 131s 2s/step - loss: 0.2213 - accuracy: 0.9049\n",
            "Epoch 13/15\n",
            "62/62 [==============================] - 132s 2s/step - loss: 0.2235 - accuracy: 0.9033\n",
            "Epoch 14/15\n",
            "62/62 [==============================] - 132s 2s/step - loss: 0.2332 - accuracy: 0.9017\n",
            "Epoch 15/15\n",
            "62/62 [==============================] - 133s 2s/step - loss: 0.2161 - accuracy: 0.9056\n"
          ],
          "name": "stdout"
        }
      ]
    },
    {
      "cell_type": "code",
      "metadata": {
        "id": "qYcpWELl4t_w",
        "colab_type": "code",
        "colab": {}
      },
      "source": [
        "# model.save('dogsandcat_vgg16_model_tl.h5')\n",
        "# !cp \"/content/dogsandcat_vgg16_model_tl.h5\" \"/content/drive/My Drive/vgg16_cats_dogs\""
      ],
      "execution_count": null,
      "outputs": []
    },
    {
      "cell_type": "code",
      "metadata": {
        "id": "hVgJGyb952Ao",
        "colab_type": "code",
        "colab": {}
      },
      "source": [
        "sample_training_images, sample_training_labels = next(test_data_gen)"
      ],
      "execution_count": null,
      "outputs": []
    },
    {
      "cell_type": "code",
      "metadata": {
        "id": "5Ir3t1OJ5r03",
        "colab_type": "code",
        "colab": {}
      },
      "source": [
        "predict_labels = model.predict(sample_training_images)\n",
        "predict_labels = np.round(predict_labels)"
      ],
      "execution_count": null,
      "outputs": []
    },
    {
      "cell_type": "code",
      "metadata": {
        "id": "R-h5pa9fEX_t",
        "colab_type": "code",
        "colab": {
          "base_uri": "https://localhost:8080/",
          "height": 33
        },
        "outputId": "ef323034-0248-4a5a-8cf5-701f7fbe82c4"
      },
      "source": [
        "np.mean(sample_training_labels[:,0] == predict_labels[:,0])\n",
        "#np.mean(sample_training_labels[:,1] == predict_labels[:,1]) #tương đương"
      ],
      "execution_count": null,
      "outputs": [
        {
          "output_type": "execute_result",
          "data": {
            "text/plain": [
              "0.90625"
            ]
          },
          "metadata": {
            "tags": []
          },
          "execution_count": 224
        }
      ]
    },
    {
      "cell_type": "code",
      "metadata": {
        "id": "fvuBFZZo5Ge8",
        "colab_type": "code",
        "colab": {
          "base_uri": "https://localhost:8080/",
          "height": 228
        },
        "outputId": "2e1db457-ad11-4b81-92c7-599bdb6c7719"
      },
      "source": [
        "acc = history.history['accuracy']\n",
        "val_acc = history.history['val_accuracy']\n",
        "\n",
        "loss=history.history['loss']\n",
        "val_loss=history.history['val_loss']\n",
        "\n",
        "epochs_range = range(epochs)\n",
        "\n",
        "plt.figure(figsize=(8, 8))\n",
        "plt.subplot(1, 2, 1)\n",
        "plt.plot(epochs_range, acc, label='Training Accuracy')\n",
        "plt.plot(epochs_range, val_acc, label='Validation Accuracy')\n",
        "plt.legend(loc='lower right')\n",
        "plt.title('Training and Validation Accuracy')\n",
        "\n",
        "plt.subplot(1, 2, 2)\n",
        "plt.plot(epochs_range, loss, label='Training Loss')\n",
        "plt.plot(epochs_range, val_loss, label='Validation Loss')\n",
        "plt.legend(loc='upper right')\n",
        "plt.title('Training and Validation Loss')\n",
        "plt.show()"
      ],
      "execution_count": null,
      "outputs": [
        {
          "output_type": "error",
          "ename": "KeyError",
          "evalue": "ignored",
          "traceback": [
            "\u001b[0;31m---------------------------------------------------------------------------\u001b[0m",
            "\u001b[0;31mKeyError\u001b[0m                                  Traceback (most recent call last)",
            "\u001b[0;32m<ipython-input-142-e8b0cf02d4d3>\u001b[0m in \u001b[0;36m<module>\u001b[0;34m()\u001b[0m\n\u001b[1;32m      1\u001b[0m \u001b[0macc\u001b[0m \u001b[0;34m=\u001b[0m \u001b[0mhistory\u001b[0m\u001b[0;34m.\u001b[0m\u001b[0mhistory\u001b[0m\u001b[0;34m[\u001b[0m\u001b[0;34m'accuracy'\u001b[0m\u001b[0;34m]\u001b[0m\u001b[0;34m\u001b[0m\u001b[0;34m\u001b[0m\u001b[0m\n\u001b[0;32m----> 2\u001b[0;31m \u001b[0mval_acc\u001b[0m \u001b[0;34m=\u001b[0m \u001b[0mhistory\u001b[0m\u001b[0;34m.\u001b[0m\u001b[0mhistory\u001b[0m\u001b[0;34m[\u001b[0m\u001b[0;34m'val_accuracy'\u001b[0m\u001b[0;34m]\u001b[0m\u001b[0;34m\u001b[0m\u001b[0;34m\u001b[0m\u001b[0m\n\u001b[0m\u001b[1;32m      3\u001b[0m \u001b[0;34m\u001b[0m\u001b[0m\n\u001b[1;32m      4\u001b[0m \u001b[0mloss\u001b[0m\u001b[0;34m=\u001b[0m\u001b[0mhistory\u001b[0m\u001b[0;34m.\u001b[0m\u001b[0mhistory\u001b[0m\u001b[0;34m[\u001b[0m\u001b[0;34m'loss'\u001b[0m\u001b[0;34m]\u001b[0m\u001b[0;34m\u001b[0m\u001b[0;34m\u001b[0m\u001b[0m\n\u001b[1;32m      5\u001b[0m \u001b[0mval_loss\u001b[0m\u001b[0;34m=\u001b[0m\u001b[0mhistory\u001b[0m\u001b[0;34m.\u001b[0m\u001b[0mhistory\u001b[0m\u001b[0;34m[\u001b[0m\u001b[0;34m'val_loss'\u001b[0m\u001b[0;34m]\u001b[0m\u001b[0;34m\u001b[0m\u001b[0;34m\u001b[0m\u001b[0m\n",
            "\u001b[0;31mKeyError\u001b[0m: 'val_accuracy'"
          ]
        }
      ]
    },
    {
      "cell_type": "code",
      "metadata": {
        "id": "cppeqhnFG7dL",
        "colab_type": "code",
        "colab": {
          "base_uri": "https://localhost:8080/",
          "height": 116
        },
        "outputId": "b99bc80a-4b29-4a31-a6b8-93c2cb00b96a"
      },
      "source": [
        "model.layers"
      ],
      "execution_count": null,
      "outputs": [
        {
          "output_type": "execute_result",
          "data": {
            "text/plain": [
              "[<keras.engine.training.Model at 0x7f14757ad898>,\n",
              " <keras.layers.core.Flatten at 0x7f1475c29860>,\n",
              " <keras.layers.core.Dropout at 0x7f14757b3278>,\n",
              " <keras.layers.core.Dense at 0x7f1477af70f0>,\n",
              " <keras.layers.core.Dense at 0x7f14778e8c18>,\n",
              " <keras.layers.core.Dense at 0x7f14757bd0f0>]"
            ]
          },
          "metadata": {
            "tags": []
          },
          "execution_count": 225
        }
      ]
    },
    {
      "cell_type": "code",
      "metadata": {
        "id": "7ynBxlL8H9c3",
        "colab_type": "code",
        "colab": {
          "base_uri": "https://localhost:8080/",
          "height": 353
        },
        "outputId": "053a0e82-a47b-4f61-d705-ad32553a2c75"
      },
      "source": [
        "from tensorflow import keras\n",
        "\n",
        "extractor = Model(model.layers[0].layers[0],\n",
        "                        outputs=[layer.output for layer in model.layers[0].layers])\n",
        "features = extractor(data)"
      ],
      "execution_count": null,
      "outputs": [
        {
          "output_type": "error",
          "ename": "AttributeError",
          "evalue": "ignored",
          "traceback": [
            "\u001b[0;31m---------------------------------------------------------------------------\u001b[0m",
            "\u001b[0;31mAttributeError\u001b[0m                            Traceback (most recent call last)",
            "\u001b[0;32m<ipython-input-230-a4adbe3f2ea0>\u001b[0m in \u001b[0;36m<module>\u001b[0;34m()\u001b[0m\n\u001b[1;32m      2\u001b[0m \u001b[0;34m\u001b[0m\u001b[0m\n\u001b[1;32m      3\u001b[0m extractor = Model(model.layers[0].layers[0],\n\u001b[0;32m----> 4\u001b[0;31m                         outputs=[layer.output for layer in model.layers[0].layers])\n\u001b[0m\u001b[1;32m      5\u001b[0m \u001b[0mfeatures\u001b[0m \u001b[0;34m=\u001b[0m \u001b[0mextractor\u001b[0m\u001b[0;34m(\u001b[0m\u001b[0mdata\u001b[0m\u001b[0;34m)\u001b[0m\u001b[0;34m\u001b[0m\u001b[0;34m\u001b[0m\u001b[0m\n",
            "\u001b[0;32m<ipython-input-230-a4adbe3f2ea0>\u001b[0m in \u001b[0;36m<listcomp>\u001b[0;34m(.0)\u001b[0m\n\u001b[1;32m      2\u001b[0m \u001b[0;34m\u001b[0m\u001b[0m\n\u001b[1;32m      3\u001b[0m extractor = Model(model.layers[0].layers[0],\n\u001b[0;32m----> 4\u001b[0;31m                         outputs=[layer.output for layer in model.layers[0].layers])\n\u001b[0m\u001b[1;32m      5\u001b[0m \u001b[0mfeatures\u001b[0m \u001b[0;34m=\u001b[0m \u001b[0mextractor\u001b[0m\u001b[0;34m(\u001b[0m\u001b[0mdata\u001b[0m\u001b[0;34m)\u001b[0m\u001b[0;34m\u001b[0m\u001b[0;34m\u001b[0m\u001b[0m\n",
            "\u001b[0;32m/usr/local/lib/python3.6/dist-packages/keras/engine/base_layer.py\u001b[0m in \u001b[0;36moutput\u001b[0;34m(self)\u001b[0m\n\u001b[1;32m    843\u001b[0m         \u001b[0;32mif\u001b[0m \u001b[0mlen\u001b[0m\u001b[0;34m(\u001b[0m\u001b[0mself\u001b[0m\u001b[0;34m.\u001b[0m\u001b[0m_inbound_nodes\u001b[0m\u001b[0;34m)\u001b[0m \u001b[0;34m>\u001b[0m \u001b[0;36m1\u001b[0m\u001b[0;34m:\u001b[0m\u001b[0;34m\u001b[0m\u001b[0;34m\u001b[0m\u001b[0m\n\u001b[1;32m    844\u001b[0m             raise AttributeError('Layer ' + self.name +\n\u001b[0;32m--> 845\u001b[0;31m                                  \u001b[0;34m' has multiple inbound nodes, '\u001b[0m\u001b[0;34m\u001b[0m\u001b[0;34m\u001b[0m\u001b[0m\n\u001b[0m\u001b[1;32m    846\u001b[0m                                  \u001b[0;34m'hence the notion of \"layer output\" '\u001b[0m\u001b[0;34m\u001b[0m\u001b[0;34m\u001b[0m\u001b[0m\n\u001b[1;32m    847\u001b[0m                                  \u001b[0;34m'is ill-defined. '\u001b[0m\u001b[0;34m\u001b[0m\u001b[0;34m\u001b[0m\u001b[0m\n",
            "\u001b[0;31mAttributeError\u001b[0m: Layer block1_conv1 has multiple inbound nodes, hence the notion of \"layer output\" is ill-defined. Use `get_output_at(node_index)` instead."
          ]
        }
      ]
    },
    {
      "cell_type": "code",
      "metadata": {
        "id": "RHdPJ1FzJCCS",
        "colab_type": "code",
        "colab": {}
      },
      "source": [
        "extractor = models.Sequential()\n",
        "for layer in model.layers[0].layers:\n",
        "  extractor.add(layer)"
      ],
      "execution_count": null,
      "outputs": []
    },
    {
      "cell_type": "code",
      "metadata": {
        "id": "bM9V2j1N-m_N",
        "colab_type": "code",
        "colab": {}
      },
      "source": [
        "from google.colab import drive\n",
        "drive.mount('/content/gdrive')"
      ],
      "execution_count": null,
      "outputs": []
    },
    {
      "cell_type": "code",
      "metadata": {
        "id": "3xKlwxNzKk6a",
        "colab_type": "code",
        "colab": {}
      },
      "source": [
        "sample_training_images, sample_training_labels = next(test_data_gen)\n",
        "extractor_predict = extractor.predict(sample_training_images)"
      ],
      "execution_count": null,
      "outputs": []
    },
    {
      "cell_type": "code",
      "metadata": {
        "id": "r-RmDqp0MSau",
        "colab_type": "code",
        "colab": {}
      },
      "source": [
        "vgg16_feature_list_np  = np.array(extractor_predict)\n",
        "feat_vec_1 = vgg16_feature_list_np[0].flatten()\n",
        "feat_vec_2 = vgg16_feature_list_np[1].flatten()\n",
        "feat = vgg16_feature_list_np[0:2].flatten()"
      ],
      "execution_count": null,
      "outputs": []
    },
    {
      "cell_type": "code",
      "metadata": {
        "id": "rEn9CsCnPcUd",
        "colab_type": "code",
        "colab": {}
      },
      "source": [
        "flatten_shape = 7*7*512"
      ],
      "execution_count": null,
      "outputs": []
    },
    {
      "cell_type": "code",
      "metadata": {
        "id": "ei2ZonsXPYjv",
        "colab_type": "code",
        "colab": {
          "base_uri": "https://localhost:8080/",
          "height": 50
        },
        "outputId": "ed2534f5-0dc3-4b54-f73d-1b67a5e47310"
      },
      "source": [
        "print((feat_vec_1[0:] - feat[0:flatten_shape]).sum())\n",
        "print((feat_vec_2[0:] - feat[flatten_shape:]).sum())"
      ],
      "execution_count": null,
      "outputs": [
        {
          "output_type": "stream",
          "text": [
            "0.0\n",
            "0.0\n"
          ],
          "name": "stdout"
        }
      ]
    },
    {
      "cell_type": "code",
      "metadata": {
        "id": "SAE9sIRdRNJj",
        "colab_type": "code",
        "colab": {}
      },
      "source": [
        "feat = vgg16_feature_list_np[0:].flatten().reshape((-1,7*7*512))"
      ],
      "execution_count": null,
      "outputs": []
    },
    {
      "cell_type": "code",
      "metadata": {
        "id": "8TuHH5mdRQkL",
        "colab_type": "code",
        "colab": {
          "base_uri": "https://localhost:8080/",
          "height": 33
        },
        "outputId": "e22f97dd-e683-45d8-9a15-93b267cfb5e5"
      },
      "source": [
        "feat.shape"
      ],
      "execution_count": null,
      "outputs": [
        {
          "output_type": "execute_result",
          "data": {
            "text/plain": [
              "(128, 25088)"
            ]
          },
          "metadata": {
            "tags": []
          },
          "execution_count": 343
        }
      ]
    },
    {
      "cell_type": "code",
      "metadata": {
        "id": "-3iMDKSwRmHo",
        "colab_type": "code",
        "colab": {}
      },
      "source": [
        "pred = np.argmax(sample_training_labels,axis = 1)"
      ],
      "execution_count": null,
      "outputs": []
    },
    {
      "cell_type": "code",
      "metadata": {
        "id": "kXcHb6voS7rY",
        "colab_type": "code",
        "colab": {
          "base_uri": "https://localhost:8080/",
          "height": 33
        },
        "outputId": "41a484ea-99cb-4649-b7e0-0bf5afd5c7f3"
      },
      "source": [
        "pred.shape"
      ],
      "execution_count": null,
      "outputs": [
        {
          "output_type": "execute_result",
          "data": {
            "text/plain": [
              "(128,)"
            ]
          },
          "metadata": {
            "tags": []
          },
          "execution_count": 325
        }
      ]
    },
    {
      "cell_type": "code",
      "metadata": {
        "id": "52hx6a7tNtpm",
        "colab_type": "code",
        "colab": {}
      },
      "source": [
        "kmeans_pred = kmeans.predict(feat)"
      ],
      "execution_count": null,
      "outputs": []
    },
    {
      "cell_type": "code",
      "metadata": {
        "id": "Zs_vWELZSwY5",
        "colab_type": "code",
        "colab": {
          "base_uri": "https://localhost:8080/",
          "height": 33
        },
        "outputId": "6e128f0c-9ca8-4c31-ee40-ec8430c38802"
      },
      "source": [
        "np.mean(pred == kmeans_pred)"
      ],
      "execution_count": null,
      "outputs": [
        {
          "output_type": "execute_result",
          "data": {
            "text/plain": [
              "0.953125"
            ]
          },
          "metadata": {
            "tags": []
          },
          "execution_count": 347
        }
      ]
    },
    {
      "cell_type": "code",
      "metadata": {
        "id": "T7b7ffMFShA8",
        "colab_type": "code",
        "colab": {}
      },
      "source": [
        "from sklearn.linear_model import LogisticRegression\n",
        "logis = LogisticRegression().fit(feat,pred)"
      ],
      "execution_count": null,
      "outputs": []
    },
    {
      "cell_type": "code",
      "metadata": {
        "id": "BcxjAxN3T6i4",
        "colab_type": "code",
        "colab": {
          "base_uri": "https://localhost:8080/",
          "height": 33
        },
        "outputId": "5f2f01cb-3c8b-4f3b-c59c-b340b5df5c64"
      },
      "source": [
        "logis.score(feat,pred)"
      ],
      "execution_count": null,
      "outputs": [
        {
          "output_type": "execute_result",
          "data": {
            "text/plain": [
              "1.0"
            ]
          },
          "metadata": {
            "tags": []
          },
          "execution_count": 349
        }
      ]
    },
    {
      "cell_type": "code",
      "metadata": {
        "id": "_u17nfzHUD7R",
        "colab_type": "code",
        "colab": {}
      },
      "source": [
        "from sklearn.model_selection import train_test_split"
      ],
      "execution_count": null,
      "outputs": []
    },
    {
      "cell_type": "code",
      "metadata": {
        "id": "8wlyMov7UYpU",
        "colab_type": "code",
        "colab": {}
      },
      "source": [
        "X_train , X_test , y_train , y_test  = train_test_split(feat,pred)"
      ],
      "execution_count": null,
      "outputs": []
    },
    {
      "cell_type": "code",
      "metadata": {
        "id": "ieJyFxagUjZw",
        "colab_type": "code",
        "colab": {}
      },
      "source": [
        "logis = LogisticRegression().fit(X_train,y_train)"
      ],
      "execution_count": null,
      "outputs": []
    },
    {
      "cell_type": "code",
      "metadata": {
        "id": "2SLX09ywUnf-",
        "colab_type": "code",
        "colab": {
          "base_uri": "https://localhost:8080/",
          "height": 33
        },
        "outputId": "c6db2b52-a024-4412-f07f-563b502675f5"
      },
      "source": [
        "logis.score(X_test,y_test)"
      ],
      "execution_count": null,
      "outputs": [
        {
          "output_type": "execute_result",
          "data": {
            "text/plain": [
              "0.96875"
            ]
          },
          "metadata": {
            "tags": []
          },
          "execution_count": 353
        }
      ]
    },
    {
      "cell_type": "code",
      "metadata": {
        "id": "stKzEoOXUrsW",
        "colab_type": "code",
        "colab": {
          "base_uri": "https://localhost:8080/",
          "height": 350
        },
        "outputId": "585a2789-5ec6-4997-d24e-a972c13af14c"
      },
      "source": [
        "#Load the VGG model\n",
        "vgg16_model  = VGG16(weights='imagenet', \n",
        "                     include_top=False,\n",
        "                     input_shape=(224,224,3))\n",
        "\n",
        "# # freeze all layers of the pre-trained model\n",
        "# for layer in vgg16_model.layers:\n",
        "#     layer.trainable = False\n",
        "\n",
        "\n",
        "model = models.Sequential()\n",
        "model.add(vgg16_model)\n",
        "model.add(layers.Flatten())\n",
        "model.add(layers.Dropout(0.5))\n",
        "model.add(layers.Dense(256, activation='relu'))\n",
        "model.add(layers.Dense(256, activation='relu'))\n",
        "model.add(layers.Dense(2, activation='softmax'))\n",
        "\n",
        "\n",
        "# model = Model(input = vgg16_model.input, output = predictions)\n",
        "\n",
        "\n",
        "# Show a summary of the model. Check the number of trainable parameters\n",
        "model.summary()\n",
        "\n",
        "model.compile(optimizer='adam',\n",
        "              loss=tf.keras.losses.CategoricalCrossentropy(from_logits=False,name='categorical_crossentropy'),\n",
        "              metrics=['accuracy'])"
      ],
      "execution_count": null,
      "outputs": [
        {
          "output_type": "stream",
          "text": [
            "Model: \"sequential_13\"\n",
            "_________________________________________________________________\n",
            "Layer (type)                 Output Shape              Param #   \n",
            "=================================================================\n",
            "vgg16 (Model)                (None, 7, 7, 512)         14714688  \n",
            "_________________________________________________________________\n",
            "flatten_9 (Flatten)          (None, 25088)             0         \n",
            "_________________________________________________________________\n",
            "dropout_9 (Dropout)          (None, 25088)             0         \n",
            "_________________________________________________________________\n",
            "dense_31 (Dense)             (None, 256)               6422784   \n",
            "_________________________________________________________________\n",
            "dense_32 (Dense)             (None, 256)               65792     \n",
            "_________________________________________________________________\n",
            "dense_33 (Dense)             (None, 2)                 514       \n",
            "=================================================================\n",
            "Total params: 21,203,778\n",
            "Trainable params: 21,203,778\n",
            "Non-trainable params: 0\n",
            "_________________________________________________________________\n"
          ],
          "name": "stdout"
        }
      ]
    },
    {
      "cell_type": "code",
      "metadata": {
        "id": "MReIIvShY_BE",
        "colab_type": "code",
        "colab": {
          "base_uri": "https://localhost:8080/",
          "height": 50
        },
        "outputId": "7710184f-d4ce-4d80-c1d2-82edebda05d0"
      },
      "source": [
        "train_datagen = ImageDataGenerator(preprocessing_function=preprocess_input)\n",
        "test_datagen = ImageDataGenerator(preprocessing_function=preprocess_input)\n",
        "train_data_gen = train_datagen.flow_from_directory(batch_size=64,\n",
        "                                                           directory=train_dir,\n",
        "                                                           shuffle=True,\n",
        "                                                           target_size=(IMG_HEIGHT, IMG_WIDTH),\n",
        "                                                           class_mode=\"categorical\")\n",
        "test_data_gen = test_datagen.flow_from_directory(batch_size=64,\n",
        "                                                           directory=validate_dir,\n",
        "                                                           shuffle=True,\n",
        "                                                           target_size=(IMG_HEIGHT, IMG_WIDTH),\n",
        "                                                           class_mode=\"categorical\")"
      ],
      "execution_count": null,
      "outputs": [
        {
          "output_type": "stream",
          "text": [
            "Found 8000 images belonging to 2 classes.\n",
            "Found 2000 images belonging to 2 classes.\n"
          ],
          "name": "stdout"
        }
      ]
    },
    {
      "cell_type": "code",
      "metadata": {
        "id": "TPUSjaUnWSLS",
        "colab_type": "code",
        "colab": {
          "base_uri": "https://localhost:8080/",
          "height": 516
        },
        "outputId": "68f6ef5b-6144-461f-984b-d29ea6a8d7f1"
      },
      "source": [
        "history = model.fit_generator(\n",
        "    train_data_gen,\n",
        "    steps_per_epoch= 8000 // 64,\n",
        "    epochs=epochs,\n",
        "    validation_data=test_data_gen,\n",
        "    validation_steps= 2000 // 64\n",
        ")"
      ],
      "execution_count": null,
      "outputs": [
        {
          "output_type": "stream",
          "text": [
            "Epoch 1/15\n",
            "125/125 [==============================] - 221s 2s/step - loss: 0.6895 - accuracy: 0.5264 - val_loss: 0.7044 - val_accuracy: 0.5101\n",
            "Epoch 2/15\n",
            "125/125 [==============================] - 222s 2s/step - loss: 0.6818 - accuracy: 0.5475 - val_loss: 0.6933 - val_accuracy: 0.5997\n",
            "Epoch 3/15\n",
            "125/125 [==============================] - 221s 2s/step - loss: 0.6911 - accuracy: 0.5552 - val_loss: 0.6835 - val_accuracy: 0.6038\n",
            "Epoch 4/15\n",
            "125/125 [==============================] - 222s 2s/step - loss: 0.6649 - accuracy: 0.6043 - val_loss: 0.6504 - val_accuracy: 0.6436\n",
            "Epoch 5/15\n",
            "125/125 [==============================] - 221s 2s/step - loss: 0.6685 - accuracy: 0.5953 - val_loss: 0.7481 - val_accuracy: 0.6281\n",
            "Epoch 6/15\n",
            "125/125 [==============================] - 222s 2s/step - loss: 0.6410 - accuracy: 0.6359 - val_loss: 0.6420 - val_accuracy: 0.5780\n",
            "Epoch 7/15\n",
            "125/125 [==============================] - 222s 2s/step - loss: 0.6014 - accuracy: 0.6759 - val_loss: 0.5863 - val_accuracy: 0.7221\n",
            "Epoch 8/15\n",
            "125/125 [==============================] - 222s 2s/step - loss: 0.5509 - accuracy: 0.7214 - val_loss: 0.6356 - val_accuracy: 0.7583\n",
            "Epoch 9/15\n",
            "125/125 [==============================] - 222s 2s/step - loss: 0.5253 - accuracy: 0.7411 - val_loss: 0.5760 - val_accuracy: 0.7030\n",
            "Epoch 10/15\n",
            "125/125 [==============================] - 222s 2s/step - loss: 0.5061 - accuracy: 0.7510 - val_loss: 0.5441 - val_accuracy: 0.7784\n",
            "Epoch 11/15\n",
            "125/125 [==============================] - 222s 2s/step - loss: 0.4746 - accuracy: 0.7771 - val_loss: 0.4938 - val_accuracy: 0.7650\n",
            "Epoch 12/15\n",
            "125/125 [==============================] - 222s 2s/step - loss: 0.4358 - accuracy: 0.7990 - val_loss: 0.4048 - val_accuracy: 0.7552\n",
            "Epoch 13/15\n",
            "125/125 [==============================] - 222s 2s/step - loss: 0.4239 - accuracy: 0.8069 - val_loss: 0.4890 - val_accuracy: 0.8202\n",
            "Epoch 14/15\n",
            "125/125 [==============================] - 222s 2s/step - loss: 0.3970 - accuracy: 0.8234 - val_loss: 0.5378 - val_accuracy: 0.8125\n",
            "Epoch 15/15\n",
            "125/125 [==============================] - 222s 2s/step - loss: 0.3573 - accuracy: 0.8440 - val_loss: 0.3087 - val_accuracy: 0.8151\n"
          ],
          "name": "stdout"
        }
      ]
    },
    {
      "cell_type": "code",
      "metadata": {
        "id": "dckRRYLhoGdV",
        "colab_type": "code",
        "colab": {
          "base_uri": "https://localhost:8080/",
          "height": 498
        },
        "outputId": "7bb2da5b-b72c-444c-966f-25acacd669c6"
      },
      "source": [
        "acc = history.history['accuracy']\n",
        "val_acc = history.history['val_accuracy']\n",
        "\n",
        "loss=history.history['loss']\n",
        "val_loss=history.history['val_loss']\n",
        "\n",
        "epochs_range = range(epochs)\n",
        "\n",
        "plt.figure(figsize=(8, 8))\n",
        "plt.subplot(1, 2, 1)\n",
        "plt.plot(epochs_range, acc, label='Training Accuracy')\n",
        "plt.plot(epochs_range, val_acc, label='Validation Accuracy')\n",
        "plt.legend(loc='lower right')\n",
        "plt.title('Training and Validation Accuracy')\n",
        "\n",
        "plt.subplot(1, 2, 2)\n",
        "plt.plot(epochs_range, loss, label='Training Loss')\n",
        "plt.plot(epochs_range, val_loss, label='Validation Loss')\n",
        "plt.legend(loc='upper right')\n",
        "plt.title('Training and Validation Loss')\n",
        "plt.show()"
      ],
      "execution_count": null,
      "outputs": [
        {
          "output_type": "display_data",
          "data": {
            "image/png": "[encoded data removed]",
            "text/plain": [
              "<Figure size 576x576 with 2 Axes>"
            ]
          },
          "metadata": {
            "tags": [],
            "needs_background": "light"
          }
        }
      ]
    },
    {
      "cell_type": "code",
      "metadata": {
        "id": "h0cUy_4ImWsf",
        "colab_type": "code",
        "colab": {}
      },
      "source": [
        "model.save('dogsandcat_from_beginning_vgg16_model_tl.h5')"
      ],
      "execution_count": null,
      "outputs": []
    },
    {
      "cell_type": "code",
      "metadata": {
        "id": "8j9sqNSCmix-",
        "colab_type": "code",
        "colab": {}
      },
      "source": [
        "!cp \"/content/dogsandcat_from_beginning_vgg16_model_tl.h5\" \"/content/drive/My Drive/vgg16_cats_dogs\""
      ],
      "execution_count": null,
      "outputs": []
    },
    {
      "cell_type": "code",
      "metadata": {
        "id": "YG0mpWWZmxKo",
        "colab_type": "code",
        "colab": {}
      },
      "source": [
        "model_json = model.to_json()\n",
        "with open(\"model_cat_dog_from_beginning.json\", \"w\") as json_file:\n",
        "    json_file.write(model_json)"
      ],
      "execution_count": null,
      "outputs": []
    },
    {
      "cell_type": "code",
      "metadata": {
        "id": "UlDnaUkzYUe2",
        "colab_type": "code",
        "colab": {
          "base_uri": "https://localhost:8080/",
          "height": 53
        },
        "outputId": "0b94489c-e709-4e00-c43a-0bd9f5599540"
      },
      "source": [
        "model_json"
      ],
      "execution_count": null,
      "outputs": [
        {
          "output_type": "execute_result",
          "data": {
            "text/plain": [
              "'{\"class_name\": \"Sequential\", \"config\": {\"name\": \"sequential_13\", \"layers\": [{\"class_name\": \"Model\", \"config\": {\"name\": \"vgg16\", \"layers\": [{\"name\": \"input_14\", \"class_name\": \"InputLayer\", \"config\": {\"batch_input_shape\": [null, 224, 224, 3], \"dtype\": \"float32\", \"sparse\": false, \"name\": \"input_14\"}, \"inbound_nodes\": []}, {\"name\": \"block1_conv1\", \"class_name\": \"Conv2D\", \"config\": {\"name\": \"block1_conv1\", \"trainable\": true, \"dtype\": \"float32\", \"filters\": 64, \"kernel_size\": [3, 3], \"strides\": [1, 1], \"padding\": \"same\", \"data_format\": \"channels_last\", \"dilation_rate\": [1, 1], \"activation\": \"relu\", \"use_bias\": true, \"kernel_initializer\": {\"class_name\": \"VarianceScaling\", \"config\": {\"scale\": 1.0, \"mode\": \"fan_avg\", \"distribution\": \"uniform\", \"seed\": null}}, \"bias_initializer\": {\"class_name\": \"Zeros\", \"config\": {}}, \"kernel_regularizer\": null, \"bias_regularizer\": null, \"activity_regularizer\": null, \"kernel_constraint\": null, \"bias_constraint\": null}, \"inbound_nodes\": [[[\"input_14\", 0, 0, {}]]]}, {\"name\": \"block1_conv2\", \"class_name\": \"Conv2D\", \"config\": {\"name\": \"block1_conv2\", \"trainable\": true, \"dtype\": \"float32\", \"filters\": 64, \"kernel_size\": [3, 3], \"strides\": [1, 1], \"padding\": \"same\", \"data_format\": \"channels_last\", \"dilation_rate\": [1, 1], \"activation\": \"relu\", \"use_bias\": true, \"kernel_initializer\": {\"class_name\": \"VarianceScaling\", \"config\": {\"scale\": 1.0, \"mode\": \"fan_avg\", \"distribution\": \"uniform\", \"seed\": null}}, \"bias_initializer\": {\"class_name\": \"Zeros\", \"config\": {}}, \"kernel_regularizer\": null, \"bias_regularizer\": null, \"activity_regularizer\": null, \"kernel_constraint\": null, \"bias_constraint\": null}, \"inbound_nodes\": [[[\"block1_conv1\", 0, 0, {}]]]}, {\"name\": \"block1_pool\", \"class_name\": \"MaxPooling2D\", \"config\": {\"name\": \"block1_pool\", \"trainable\": true, \"dtype\": \"float32\", \"pool_size\": [2, 2], \"padding\": \"valid\", \"strides\": [2, 2], \"data_format\": \"channels_last\"}, \"inbound_nodes\": [[[\"block1_conv2\", 0, 0, {}]]]}, {\"name\": \"block2_conv1\", \"class_name\": \"Conv2D\", \"config\": {\"name\": \"block2_conv1\", \"trainable\": true, \"dtype\": \"float32\", \"filters\": 128, \"kernel_size\": [3, 3], \"strides\": [1, 1], \"padding\": \"same\", \"data_format\": \"channels_last\", \"dilation_rate\": [1, 1], \"activation\": \"relu\", \"use_bias\": true, \"kernel_initializer\": {\"class_name\": \"VarianceScaling\", \"config\": {\"scale\": 1.0, \"mode\": \"fan_avg\", \"distribution\": \"uniform\", \"seed\": null}}, \"bias_initializer\": {\"class_name\": \"Zeros\", \"config\": {}}, \"kernel_regularizer\": null, \"bias_regularizer\": null, \"activity_regularizer\": null, \"kernel_constraint\": null, \"bias_constraint\": null}, \"inbound_nodes\": [[[\"block1_pool\", 0, 0, {}]]]}, {\"name\": \"block2_conv2\", \"class_name\": \"Conv2D\", \"config\": {\"name\": \"block2_conv2\", \"trainable\": true, \"dtype\": \"float32\", \"filters\": 128, \"kernel_size\": [3, 3], \"strides\": [1, 1], \"padding\": \"same\", \"data_format\": \"channels_last\", \"dilation_rate\": [1, 1], \"activation\": \"relu\", \"use_bias\": true, \"kernel_initializer\": {\"class_name\": \"VarianceScaling\", \"config\": {\"scale\": 1.0, \"mode\": \"fan_avg\", \"distribution\": \"uniform\", \"seed\": null}}, \"bias_initializer\": {\"class_name\": \"Zeros\", \"config\": {}}, \"kernel_regularizer\": null, \"bias_regularizer\": null, \"activity_regularizer\": null, \"kernel_constraint\": null, \"bias_constraint\": null}, \"inbound_nodes\": [[[\"block2_conv1\", 0, 0, {}]]]}, {\"name\": \"block2_pool\", \"class_name\": \"MaxPooling2D\", \"config\": {\"name\": \"block2_pool\", \"trainable\": true, \"dtype\": \"float32\", \"pool_size\": [2, 2], \"padding\": \"valid\", \"strides\": [2, 2], \"data_format\": \"channels_last\"}, \"inbound_nodes\": [[[\"block2_conv2\", 0, 0, {}]]]}, {\"name\": \"block3_conv1\", \"class_name\": \"Conv2D\", \"config\": {\"name\": \"block3_conv1\", \"trainable\": true, \"dtype\": \"float32\", \"filters\": 256, \"kernel_size\": [3, 3], \"strides\": [1, 1], \"padding\": \"same\", \"data_format\": \"channels_last\", \"dilation_rate\": [1, 1], \"activation\": \"relu\", \"use_bias\": true, \"kernel_initializer\": {\"class_name\": \"VarianceScaling\", \"config\": {\"scale\": 1.0, \"mode\": \"fan_avg\", \"distribution\": \"uniform\", \"seed\": null}}, \"bias_initializer\": {\"class_name\": \"Zeros\", \"config\": {}}, \"kernel_regularizer\": null, \"bias_regularizer\": null, \"activity_regularizer\": null, \"kernel_constraint\": null, \"bias_constraint\": null}, \"inbound_nodes\": [[[\"block2_pool\", 0, 0, {}]]]}, {\"name\": \"block3_conv2\", \"class_name\": \"Conv2D\", \"config\": {\"name\": \"block3_conv2\", \"trainable\": true, \"dtype\": \"float32\", \"filters\": 256, \"kernel_size\": [3, 3], \"strides\": [1, 1], \"padding\": \"same\", \"data_format\": \"channels_last\", \"dilation_rate\": [1, 1], \"activation\": \"relu\", \"use_bias\": true, \"kernel_initializer\": {\"class_name\": \"VarianceScaling\", \"config\": {\"scale\": 1.0, \"mode\": \"fan_avg\", \"distribution\": \"uniform\", \"seed\": null}}, \"bias_initializer\": {\"class_name\": \"Zeros\", \"config\": {}}, \"kernel_regularizer\": null, \"bias_regularizer\": null, \"activity_regularizer\": null, \"kernel_constraint\": null, \"bias_constraint\": null}, \"inbound_nodes\": [[[\"block3_conv1\", 0, 0, {}]]]}, {\"name\": \"block3_conv3\", \"class_name\": \"Conv2D\", \"config\": {\"name\": \"block3_conv3\", \"trainable\": true, \"dtype\": \"float32\", \"filters\": 256, \"kernel_size\": [3, 3], \"strides\": [1, 1], \"padding\": \"same\", \"data_format\": \"channels_last\", \"dilation_rate\": [1, 1], \"activation\": \"relu\", \"use_bias\": true, \"kernel_initializer\": {\"class_name\": \"VarianceScaling\", \"config\": {\"scale\": 1.0, \"mode\": \"fan_avg\", \"distribution\": \"uniform\", \"seed\": null}}, \"bias_initializer\": {\"class_name\": \"Zeros\", \"config\": {}}, \"kernel_regularizer\": null, \"bias_regularizer\": null, \"activity_regularizer\": null, \"kernel_constraint\": null, \"bias_constraint\": null}, \"inbound_nodes\": [[[\"block3_conv2\", 0, 0, {}]]]}, {\"name\": \"block3_pool\", \"class_name\": \"MaxPooling2D\", \"config\": {\"name\": \"block3_pool\", \"trainable\": true, \"dtype\": \"float32\", \"pool_size\": [2, 2], \"padding\": \"valid\", \"strides\": [2, 2], \"data_format\": \"channels_last\"}, \"inbound_nodes\": [[[\"block3_conv3\", 0, 0, {}]]]}, {\"name\": \"block4_conv1\", \"class_name\": \"Conv2D\", \"config\": {\"name\": \"block4_conv1\", \"trainable\": true, \"dtype\": \"float32\", \"filters\": 512, \"kernel_size\": [3, 3], \"strides\": [1, 1], \"padding\": \"same\", \"data_format\": \"channels_last\", \"dilation_rate\": [1, 1], \"activation\": \"relu\", \"use_bias\": true, \"kernel_initializer\": {\"class_name\": \"VarianceScaling\", \"config\": {\"scale\": 1.0, \"mode\": \"fan_avg\", \"distribution\": \"uniform\", \"seed\": null}}, \"bias_initializer\": {\"class_name\": \"Zeros\", \"config\": {}}, \"kernel_regularizer\": null, \"bias_regularizer\": null, \"activity_regularizer\": null, \"kernel_constraint\": null, \"bias_constraint\": null}, \"inbound_nodes\": [[[\"block3_pool\", 0, 0, {}]]]}, {\"name\": \"block4_conv2\", \"class_name\": \"Conv2D\", \"config\": {\"name\": \"block4_conv2\", \"trainable\": true, \"dtype\": \"float32\", \"filters\": 512, \"kernel_size\": [3, 3], \"strides\": [1, 1], \"padding\": \"same\", \"data_format\": \"channels_last\", \"dilation_rate\": [1, 1], \"activation\": \"relu\", \"use_bias\": true, \"kernel_initializer\": {\"class_name\": \"VarianceScaling\", \"config\": {\"scale\": 1.0, \"mode\": \"fan_avg\", \"distribution\": \"uniform\", \"seed\": null}}, \"bias_initializer\": {\"class_name\": \"Zeros\", \"config\": {}}, \"kernel_regularizer\": null, \"bias_regularizer\": null, \"activity_regularizer\": null, \"kernel_constraint\": null, \"bias_constraint\": null}, \"inbound_nodes\": [[[\"block4_conv1\", 0, 0, {}]]]}, {\"name\": \"block4_conv3\", \"class_name\": \"Conv2D\", \"config\": {\"name\": \"block4_conv3\", \"trainable\": true, \"dtype\": \"float32\", \"filters\": 512, \"kernel_size\": [3, 3], \"strides\": [1, 1], \"padding\": \"same\", \"data_format\": \"channels_last\", \"dilation_rate\": [1, 1], \"activation\": \"relu\", \"use_bias\": true, \"kernel_initializer\": {\"class_name\": \"VarianceScaling\", \"config\": {\"scale\": 1.0, \"mode\": \"fan_avg\", \"distribution\": \"uniform\", \"seed\": null}}, \"bias_initializer\": {\"class_name\": \"Zeros\", \"config\": {}}, \"kernel_regularizer\": null, \"bias_regularizer\": null, \"activity_regularizer\": null, \"kernel_constraint\": null, \"bias_constraint\": null}, \"inbound_nodes\": [[[\"block4_conv2\", 0, 0, {}]]]}, {\"name\": \"block4_pool\", \"class_name\": \"MaxPooling2D\", \"config\": {\"name\": \"block4_pool\", \"trainable\": true, \"dtype\": \"float32\", \"pool_size\": [2, 2], \"padding\": \"valid\", \"strides\": [2, 2], \"data_format\": \"channels_last\"}, \"inbound_nodes\": [[[\"block4_conv3\", 0, 0, {}]]]}, {\"name\": \"block5_conv1\", \"class_name\": \"Conv2D\", \"config\": {\"name\": \"block5_conv1\", \"trainable\": true, \"dtype\": \"float32\", \"filters\": 512, \"kernel_size\": [3, 3], \"strides\": [1, 1], \"padding\": \"same\", \"data_format\": \"channels_last\", \"dilation_rate\": [1, 1], \"activation\": \"relu\", \"use_bias\": true, \"kernel_initializer\": {\"class_name\": \"VarianceScaling\", \"config\": {\"scale\": 1.0, \"mode\": \"fan_avg\", \"distribution\": \"uniform\", \"seed\": null}}, \"bias_initializer\": {\"class_name\": \"Zeros\", \"config\": {}}, \"kernel_regularizer\": null, \"bias_regularizer\": null, \"activity_regularizer\": null, \"kernel_constraint\": null, \"bias_constraint\": null}, \"inbound_nodes\": [[[\"block4_pool\", 0, 0, {}]]]}, {\"name\": \"block5_conv2\", \"class_name\": \"Conv2D\", \"config\": {\"name\": \"block5_conv2\", \"trainable\": true, \"dtype\": \"float32\", \"filters\": 512, \"kernel_size\": [3, 3], \"strides\": [1, 1], \"padding\": \"same\", \"data_format\": \"channels_last\", \"dilation_rate\": [1, 1], \"activation\": \"relu\", \"use_bias\": true, \"kernel_initializer\": {\"class_name\": \"VarianceScaling\", \"config\": {\"scale\": 1.0, \"mode\": \"fan_avg\", \"distribution\": \"uniform\", \"seed\": null}}, \"bias_initializer\": {\"class_name\": \"Zeros\", \"config\": {}}, \"kernel_regularizer\": null, \"bias_regularizer\": null, \"activity_regularizer\": null, \"kernel_constraint\": null, \"bias_constraint\": null}, \"inbound_nodes\": [[[\"block5_conv1\", 0, 0, {}]]]}, {\"name\": \"block5_conv3\", \"class_name\": \"Conv2D\", \"config\": {\"name\": \"block5_conv3\", \"trainable\": true, \"dtype\": \"float32\", \"filters\": 512, \"kernel_size\": [3, 3], \"strides\": [1, 1], \"padding\": \"same\", \"data_format\": \"channels_last\", \"dilation_rate\": [1, 1], \"activation\": \"relu\", \"use_bias\": true, \"kernel_initializer\": {\"class_name\": \"VarianceScaling\", \"config\": {\"scale\": 1.0, \"mode\": \"fan_avg\", \"distribution\": \"uniform\", \"seed\": null}}, \"bias_initializer\": {\"class_name\": \"Zeros\", \"config\": {}}, \"kernel_regularizer\": null, \"bias_regularizer\": null, \"activity_regularizer\": null, \"kernel_constraint\": null, \"bias_constraint\": null}, \"inbound_nodes\": [[[\"block5_conv2\", 0, 0, {}]]]}, {\"name\": \"block5_pool\", \"class_name\": \"MaxPooling2D\", \"config\": {\"name\": \"block5_pool\", \"trainable\": true, \"dtype\": \"float32\", \"pool_size\": [2, 2], \"padding\": \"valid\", \"strides\": [2, 2], \"data_format\": \"channels_last\"}, \"inbound_nodes\": [[[\"block5_conv3\", 0, 0, {}]]]}], \"input_layers\": [[\"input_14\", 0, 0]], \"output_layers\": [[\"block5_pool\", 0, 0]]}}, {\"class_name\": \"Flatten\", \"config\": {\"name\": \"flatten_9\", \"trainable\": true, \"dtype\": \"float32\", \"data_format\": \"channels_last\"}}, {\"class_name\": \"Dropout\", \"config\": {\"name\": \"dropout_9\", \"trainable\": true, \"dtype\": \"float32\", \"rate\": 0.5, \"noise_shape\": null, \"seed\": null}}, {\"class_name\": \"Dense\", \"config\": {\"name\": \"dense_31\", \"trainable\": true, \"dtype\": \"float32\", \"units\": 256, \"activation\": \"relu\", \"use_bias\": true, \"kernel_initializer\": {\"class_name\": \"VarianceScaling\", \"config\": {\"scale\": 1.0, \"mode\": \"fan_avg\", \"distribution\": \"uniform\", \"seed\": null}}, \"bias_initializer\": {\"class_name\": \"Zeros\", \"config\": {}}, \"kernel_regularizer\": null, \"bias_regularizer\": null, \"activity_regularizer\": null, \"kernel_constraint\": null, \"bias_constraint\": null}}, {\"class_name\": \"Dense\", \"config\": {\"name\": \"dense_32\", \"trainable\": true, \"dtype\": \"float32\", \"units\": 256, \"activation\": \"relu\", \"use_bias\": true, \"kernel_initializer\": {\"class_name\": \"VarianceScaling\", \"config\": {\"scale\": 1.0, \"mode\": \"fan_avg\", \"distribution\": \"uniform\", \"seed\": null}}, \"bias_initializer\": {\"class_name\": \"Zeros\", \"config\": {}}, \"kernel_regularizer\": null, \"bias_regularizer\": null, \"activity_regularizer\": null, \"kernel_constraint\": null, \"bias_constraint\": null}}, {\"class_name\": \"Dense\", \"config\": {\"name\": \"dense_33\", \"trainable\": true, \"dtype\": \"float32\", \"units\": 2, \"activation\": \"softmax\", \"use_bias\": true, \"kernel_initializer\": {\"class_name\": \"VarianceScaling\", \"config\": {\"scale\": 1.0, \"mode\": \"fan_avg\", \"distribution\": \"uniform\", \"seed\": null}}, \"bias_initializer\": {\"class_name\": \"Zeros\", \"config\": {}}, \"kernel_regularizer\": null, \"bias_regularizer\": null, \"activity_regularizer\": null, \"kernel_constraint\": null, \"bias_constraint\": null}}]}, \"keras_version\": \"2.3.1\", \"backend\": \"tensorflow\"}'"
            ]
          },
          "metadata": {
            "tags": []
          },
          "execution_count": 370
        }
      ]
    },
    {
      "cell_type": "code",
      "metadata": {
        "id": "ZN_E3xivm5cn",
        "colab_type": "code",
        "colab": {}
      },
      "source": [
        "!cp \"model.json\" \"/content/drive/My Drive/vgg16_cats_dogs\"\n",
        "!cp \"model_cat_dog_from_beginning.json\" \"/content/drive/My Drive/vgg16_cats_dogs\""
      ],
      "execution_count": null,
      "outputs": []
    },
    {
      "cell_type": "markdown",
      "metadata": {
        "id": "5AlD8d43-5xn",
        "colab_type": "text"
      },
      "source": [
        "# Load model:"
      ]
    },
    {
      "cell_type": "code",
      "metadata": {
        "id": "fr4QM7VdnbDG",
        "colab_type": "code",
        "colab": {}
      },
      "source": [
        "json_file = open('/content/drive/My Drive/vgg16_cats_dogs/model.json', 'r')\n",
        "loaded_model_json = json_file.read()\n",
        "json_file.close()"
      ],
      "execution_count": 1,
      "outputs": []
    },
    {
      "cell_type": "code",
      "metadata": {
        "id": "VBbQZYoD_rtB",
        "colab_type": "code",
        "colab": {
          "base_uri": "https://localhost:8080/",
          "height": 33
        },
        "outputId": "e9d554db-a952-4923-df8a-b8d4e5198a84"
      },
      "source": [
        "import tensorflow as tf\n",
        "import keras\n",
        "from tensorflow.keras.models import Sequential"
      ],
      "execution_count": 2,
      "outputs": [
        {
          "output_type": "stream",
          "text": [
            "Using TensorFlow backend.\n"
          ],
          "name": "stderr"
        }
      ]
    },
    {
      "cell_type": "code",
      "metadata": {
        "id": "Ak2IOOjgnsil",
        "colab_type": "code",
        "colab": {}
      },
      "source": [
        "from keras.models import model_from_json\n",
        "loaded_model = model_from_json(loaded_model_json)"
      ],
      "execution_count": 3,
      "outputs": []
    },
    {
      "cell_type": "code",
      "metadata": {
        "id": "j3lw6hrunx72",
        "colab_type": "code",
        "colab": {
          "base_uri": "https://localhost:8080/",
          "height": 350
        },
        "outputId": "711ac3f1-4c53-4eca-dfc9-78b2f2cb12df"
      },
      "source": [
        "loaded_model.load_weights(\"/content/drive/My Drive/vgg16_cats_dogs/dogsandcat_vgg16_model_tl.h5\")\n",
        "loaded_model.summary()\n",
        "\n",
        "loaded_model.compile(optimizer='adam',\n",
        "              loss=tf.keras.losses.CategoricalCrossentropy(from_logits=False,name='categorical_crossentropy'),\n",
        "              metrics=['accuracy'])"
      ],
      "execution_count": 4,
      "outputs": [
        {
          "output_type": "stream",
          "text": [
            "Model: \"sequential_10\"\n",
            "_________________________________________________________________\n",
            "Layer (type)                 Output Shape              Param #   \n",
            "=================================================================\n",
            "vgg16 (Model)                (None, 7, 7, 512)         14714688  \n",
            "_________________________________________________________________\n",
            "flatten_7 (Flatten)          (None, 25088)             0         \n",
            "_________________________________________________________________\n",
            "dropout_7 (Dropout)          (None, 25088)             0         \n",
            "_________________________________________________________________\n",
            "dense_25 (Dense)             (None, 256)               6422784   \n",
            "_________________________________________________________________\n",
            "dense_26 (Dense)             (None, 256)               65792     \n",
            "_________________________________________________________________\n",
            "dense_27 (Dense)             (None, 2)                 514       \n",
            "=================================================================\n",
            "Total params: 21,203,778\n",
            "Trainable params: 6,489,090\n",
            "Non-trainable params: 14,714,688\n",
            "_________________________________________________________________\n"
          ],
          "name": "stdout"
        }
      ]
    },
    {
      "cell_type": "code",
      "metadata": {
        "id": "JdRV_sSZ1Om9",
        "colab_type": "code",
        "colab": {}
      },
      "source": [
        "extractor = keras.models.Sequential()\n",
        "for layer in loaded_model.layers[0].layers:\n",
        "  extractor.add(layer)"
      ],
      "execution_count": null,
      "outputs": []
    },
    {
      "cell_type": "code",
      "metadata": {
        "id": "r3ACMV6V_yDX",
        "colab_type": "code",
        "colab": {
          "base_uri": "https://localhost:8080/",
          "height": 750
        },
        "outputId": "eb4370aa-309a-4bbf-f3c4-3e27d914abec"
      },
      "source": [
        "extractor.summary()"
      ],
      "execution_count": null,
      "outputs": [
        {
          "output_type": "stream",
          "text": [
            "Model: \"sequential_1\"\n",
            "_________________________________________________________________\n",
            "Layer (type)                 Output Shape              Param #   \n",
            "=================================================================\n",
            "block1_conv1 (Conv2D)        (None, 224, 224, 64)      1792      \n",
            "_________________________________________________________________\n",
            "block1_conv2 (Conv2D)        (None, 224, 224, 64)      36928     \n",
            "_________________________________________________________________\n",
            "block1_pool (MaxPooling2D)   (None, 112, 112, 64)      0         \n",
            "_________________________________________________________________\n",
            "block2_conv1 (Conv2D)        (None, 112, 112, 128)     73856     \n",
            "_________________________________________________________________\n",
            "block2_conv2 (Conv2D)        (None, 112, 112, 128)     147584    \n",
            "_________________________________________________________________\n",
            "block2_pool (MaxPooling2D)   (None, 56, 56, 128)       0         \n",
            "_________________________________________________________________\n",
            "block3_conv1 (Conv2D)        (None, 56, 56, 256)       295168    \n",
            "_________________________________________________________________\n",
            "block3_conv2 (Conv2D)        (None, 56, 56, 256)       590080    \n",
            "_________________________________________________________________\n",
            "block3_conv3 (Conv2D)        (None, 56, 56, 256)       590080    \n",
            "_________________________________________________________________\n",
            "block3_pool (MaxPooling2D)   (None, 28, 28, 256)       0         \n",
            "_________________________________________________________________\n",
            "block4_conv1 (Conv2D)        (None, 28, 28, 512)       1180160   \n",
            "_________________________________________________________________\n",
            "block4_conv2 (Conv2D)        (None, 28, 28, 512)       2359808   \n",
            "_________________________________________________________________\n",
            "block4_conv3 (Conv2D)        (None, 28, 28, 512)       2359808   \n",
            "_________________________________________________________________\n",
            "block4_pool (MaxPooling2D)   (None, 14, 14, 512)       0         \n",
            "_________________________________________________________________\n",
            "block5_conv1 (Conv2D)        (None, 14, 14, 512)       2359808   \n",
            "_________________________________________________________________\n",
            "block5_conv2 (Conv2D)        (None, 14, 14, 512)       2359808   \n",
            "_________________________________________________________________\n",
            "block5_conv3 (Conv2D)        (None, 14, 14, 512)       2359808   \n",
            "_________________________________________________________________\n",
            "block5_pool (MaxPooling2D)   (None, 7, 7, 512)         0         \n",
            "=================================================================\n",
            "Total params: 14,714,688\n",
            "Trainable params: 0\n",
            "Non-trainable params: 14,714,688\n",
            "_________________________________________________________________\n"
          ],
          "name": "stdout"
        }
      ]
    },
    {
      "cell_type": "code",
      "metadata": {
        "id": "__s4Vrtb-gHP",
        "colab_type": "code",
        "colab": {
          "base_uri": "https://localhost:8080/",
          "height": 200
        },
        "outputId": "9b266b60-ef1f-4e2b-d7a9-d277f915f3b3"
      },
      "source": [
        "!wget \"https://i.ytimg.com/vi/MPV2METPeJU/maxresdefault.jpg\" -O \"dog-image.jpg\""
      ],
      "execution_count": 5,
      "outputs": [
        {
          "output_type": "stream",
          "text": [
            "--2020-06-30 07:20:09--  https://i.ytimg.com/vi/MPV2METPeJU/maxresdefault.jpg\n",
            "Resolving i.ytimg.com (i.ytimg.com)... 108.177.126.119, 2a00:1450:4013:c00::77\n",
            "Connecting to i.ytimg.com (i.ytimg.com)|108.177.126.119|:443... connected.\n",
            "HTTP request sent, awaiting response... 200 OK\n",
            "Length: 72972 (71K) [image/jpeg]\n",
            "Saving to: ‘dog-image.jpg’\n",
            "\n",
            "\rdog-image.jpg         0%[                    ]       0  --.-KB/s               \rdog-image.jpg       100%[===================>]  71.26K  --.-KB/s    in 0.001s  \n",
            "\n",
            "2020-06-30 07:20:09 (108 MB/s) - ‘dog-image.jpg’ saved [72972/72972]\n",
            "\n"
          ],
          "name": "stdout"
        }
      ]
    },
    {
      "cell_type": "code",
      "metadata": {
        "id": "CRLYehVq-nqc",
        "colab_type": "code",
        "colab": {
          "base_uri": "https://localhost:8080/",
          "height": 285
        },
        "outputId": "9a0e5057-f21e-48f9-9fd5-d0355ea36e43"
      },
      "source": [
        "import cv2\n",
        "import tensorflow as tf\n",
        "import numpy as np\n",
        "import matplotlib.pyplot as plt\n",
        "image = cv2.imread(\"/content/dog-image.jpg\")\n",
        "image = cv2.resize(image,(224,224))\n",
        "plt.imshow(image)"
      ],
      "execution_count": 15,
      "outputs": [
        {
          "output_type": "execute_result",
          "data": {
            "text/plain": [
              "<matplotlib.image.AxesImage at 0x7f818ff2a320>"
            ]
          },
          "metadata": {
            "tags": []
          },
          "execution_count": 15
        },
        {
          "output_type": "display_data",
          "data": {
            "image/png": "[encoded data removed]",
            "text/plain": [
              "<Figure size 432x288 with 1 Axes>"
            ]
          },
          "metadata": {
            "tags": [],
            "needs_background": "light"
          }
        }
      ]
    },
    {
      "cell_type": "code",
      "metadata": {
        "id": "3s5VxoAT_t-g",
        "colab_type": "code",
        "colab": {}
      },
      "source": [
        "img = np.reshape(image,[1,224,224,3])"
      ],
      "execution_count": 16,
      "outputs": []
    },
    {
      "cell_type": "code",
      "metadata": {
        "id": "j_3PK_oWC2mH",
        "colab_type": "code",
        "colab": {
          "base_uri": "https://localhost:8080/",
          "height": 33
        },
        "outputId": "a1ff8b20-7d32-403f-d397-36719914ddc1"
      },
      "source": [
        "loaded_model.predict_classes(img)"
      ],
      "execution_count": 17,
      "outputs": [
        {
          "output_type": "execute_result",
          "data": {
            "text/plain": [
              "array([1])"
            ]
          },
          "metadata": {
            "tags": []
          },
          "execution_count": 17
        }
      ]
    },
    {
      "cell_type": "code",
      "metadata": {
        "id": "ItBjn8_CC8zq",
        "colab_type": "code",
        "colab": {
          "base_uri": "https://localhost:8080/",
          "height": 220
        },
        "outputId": "74fcf257-cc12-4f54-a976-420da306b5bb"
      },
      "source": [
        "!wget \"https://img.webmd.com/dtmcms/live/webmd/consumer_assets/site_images/article_thumbnails/other/cat_relaxing_on_patio_other/1800x1200_cat_relaxing_on_patio_other.jpg\" -O \"cat-image.jpg\""
      ],
      "execution_count": 9,
      "outputs": [
        {
          "output_type": "stream",
          "text": [
            "--2020-06-30 07:22:33--  https://img.webmd.com/dtmcms/live/webmd/consumer_assets/site_images/article_thumbnails/other/cat_relaxing_on_patio_other/1800x1200_cat_relaxing_on_patio_other.jpg\n",
            "Resolving img.webmd.com (img.webmd.com)... 104.18.5.176, 104.18.4.176\n",
            "Connecting to img.webmd.com (img.webmd.com)|104.18.5.176|:443... connected.\n",
            "HTTP request sent, awaiting response... 200 OK\n",
            "Length: 389534 (380K) [image/jpeg]\n",
            "Saving to: ‘cat-image.jpg’\n",
            "\n",
            "\rcat-image.jpg         0%[                    ]       0  --.-KB/s               \rcat-image.jpg       100%[===================>] 380.40K  --.-KB/s    in 0.02s   \n",
            "\n",
            "2020-06-30 07:22:33 (23.4 MB/s) - ‘cat-image.jpg’ saved [389534/389534]\n",
            "\n"
          ],
          "name": "stdout"
        }
      ]
    },
    {
      "cell_type": "code",
      "metadata": {
        "id": "fMbplA54DLMp",
        "colab_type": "code",
        "colab": {}
      },
      "source": [
        "image = cv2.imread(\"/content/cat-image.jpg\")\n",
        "image = cv2.resize(image,(224,224))\n",
        "img = np.reshape(image,[1,224,224,3])"
      ],
      "execution_count": 18,
      "outputs": []
    },
    {
      "cell_type": "code",
      "metadata": {
        "id": "bsuWtiYrGzov",
        "colab_type": "code",
        "colab": {
          "base_uri": "https://localhost:8080/",
          "height": 302
        },
        "outputId": "47729a6c-18d7-4545-a319-3162a65da240"
      },
      "source": [
        "print(loaded_model.predict_classes(img))\n",
        "plt.imshow(image)"
      ],
      "execution_count": 20,
      "outputs": [
        {
          "output_type": "stream",
          "text": [
            "[0]\n"
          ],
          "name": "stdout"
        },
        {
          "output_type": "execute_result",
          "data": {
            "text/plain": [
              "<matplotlib.image.AxesImage at 0x7f818e219d30>"
            ]
          },
          "metadata": {
            "tags": []
          },
          "execution_count": 20
        },
        {
          "output_type": "display_data",
          "data": {
            "image/png": "[encoded data removed]",
            "text/plain": [
              "<Figure size 432x288 with 1 Axes>"
            ]
          },
          "metadata": {
            "tags": [],
            "needs_background": "light"
          }
        }
      ]
    },
    {
      "cell_type": "code",
      "metadata": {
        "id": "P3KtWNn9G6ik",
        "colab_type": "code",
        "colab": {}
      },
      "source": [
        "from pydrive.auth import GoogleAuth\n",
        "from pydrive.drive import GoogleDrive\n",
        "auth.authenticate_user()\n",
        "gauth = GoogleAuth()\n",
        "gauth.credentials = GoogleCredentials.get_application_default()\n",
        "drive = GoogleDrive(gauth)\n",
        "file_id = \"YOUR_FILE_ID\"\n",
        "# For example: \"1-sltCi9nCSQmA-xaBPutq6Yfl6YONC_H\" id of Tokenizer file\n",
        "downloaded = drive.CreateFile({'id': file_id})\n",
        "downloaded.GetContentFile(os.path.join(data_dir, 'file_name.zip'))"
      ],
      "execution_count": null,
      "outputs": []
    }
  ]
}