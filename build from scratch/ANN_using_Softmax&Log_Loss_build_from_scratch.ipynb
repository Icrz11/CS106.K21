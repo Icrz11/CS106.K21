{
  "nbformat": 4,
  "nbformat_minor": 0,
  "metadata": {
    "colab": {
      "name": "ANN-using Softmax&Log Loss build from scratch.ipynb",
      "provenance": [],
      "collapsed_sections": []
    },
    "kernelspec": {
      "name": "python3",
      "display_name": "Python 3"
    }
  },
  "cells": [
    {
      "cell_type": "markdown",
      "metadata": {
        "id": "7L4XnmGHZxMT",
        "colab_type": "text"
      },
      "source": [
        "Các thư viện sẽ dùng:"
      ]
    },
    {
      "cell_type": "code",
      "metadata": {
        "id": "mnV0OLDTpaYS",
        "colab_type": "code",
        "colab": {}
      },
      "source": [
        "import matplotlib.pyplot as plt\n",
        "import numpy as np\n",
        "from __future__ import division, print_function, unicode_literals\n",
        "import time\n",
        "import math\n",
        "from math import floor,ceil\n",
        "import sklearn.linear_model,sklearn.datasets"
      ],
      "execution_count": null,
      "outputs": []
    },
    {
      "cell_type": "markdown",
      "metadata": {
        "id": "7hhaccsCZx5D",
        "colab_type": "text"
      },
      "source": [
        "Các hàm phụ trợ:\n",
        "- Softmax;\n",
        "- convert_labels;\n",
        "- hàm tính cost cho log loss;\n",
        "- plot_decision_boundary"
      ]
    },
    {
      "cell_type": "code",
      "metadata": {
        "id": "9Ed8ERg4V55b",
        "colab_type": "code",
        "colab": {}
      },
      "source": [
        "def softmax(V):\n",
        "    e_V = np.exp(V - np.max(V, axis = 0, keepdims = True))\n",
        "    Z = e_V / e_V.sum(axis = 0)\n",
        "    return Z\n",
        "\n",
        "## One-hot coding\n",
        "from scipy import sparse\n",
        "def convert_labels(y, C = 3):\n",
        "    Y = sparse.coo_matrix((np.ones_like(y),\n",
        "        (y, np.arange(len(y)))), shape = (C, len(y))).toarray()\n",
        "    return Y\n",
        "\n",
        "# cost or loss function\n",
        "def cost_log(Y, Yhat):\n",
        "    return -np.sum(Y*np.log(Yhat))/Y.shape[1]\n",
        "\n",
        "def cost_MSE(Y, Yhat):\n",
        "    return np.sum(0.5*(Y-Yhat)**2)/Y.shape[1]"
      ],
      "execution_count": null,
      "outputs": []
    },
    {
      "cell_type": "code",
      "metadata": {
        "id": "8M9n2XX4t-N5",
        "colab_type": "code",
        "colab": {}
      },
      "source": [
        "def plot_decision_boundary(pred_func):\n",
        "    # Min and Max values on X and Y axis ,  give them some padding.\n",
        "    # x_min, x_max = X[:, 0].min() - .5, X[:, 0].max() + .5\n",
        "    # y_min, y_max = X[:, 1].min() - .5, X[:, 1].max() + .5\n",
        "    # h = 0.01\n",
        "    x_min, x_max = floor(X.T[:, 0].min()) - 1, ceil(X.T[:, 0].max()) + 1\n",
        "    y_min, y_max = floor(X.T[:, 1].min()) - 1, ceil(X.T[:, 1].max())+ 1\n",
        "    h_x = (x_max - x_min)/y.shape[0]\n",
        "    h_y = (y_max - y_min)/y.shape[0]\n",
        "    xx, yy = np.meshgrid(np.arange(x_min, x_max, h_x), \n",
        "                         np.arange(y_min, y_max, h_y), \n",
        "                         indexing='xy')\n",
        "    # Generate a grid of points with distance h between each one of them\n",
        "    \n",
        "    # Predict the function value for the whole gid\n",
        "    Z = pred_func(np.c_[xx.ravel(), yy.ravel()])\n",
        "    Z = Z.reshape(xx.shape)\n",
        "    # Plot the contour and training examples\n",
        "    plt.contourf(xx, yy, Z, cmap=plt.cm.Spectral)\n",
        "    plt.scatter(X[:, 0], X[:, 1], c=y, cmap=plt.cm.Spectral)"
      ],
      "execution_count": null,
      "outputs": []
    },
    {
      "cell_type": "code",
      "metadata": {
        "id": "aCFhrVRIuZOx",
        "colab_type": "code",
        "colab": {
          "base_uri": "https://localhost:8080/",
          "height": 297
        },
        "outputId": "fcc3bd6d-028c-48c5-e452-ac39c5a3b962"
      },
      "source": [
        "np.random.seed(0)\n",
        "X, y = sklearn.datasets.make_moons(200, noise=0.20)\n",
        "plt.scatter(X[:,0], X[:,1], s=40, c=y, cmap=plt.cm.Spectral)\n",
        "clf = sklearn.linear_model.LogisticRegressionCV()\n",
        "clf.fit(X, y)\n",
        "plot_decision_boundary(lambda x: clf.predict(x))\n",
        "plt.title(\"Logistic Regression\")"
      ],
      "execution_count": null,
      "outputs": [
        {
          "output_type": "execute_result",
          "data": {
            "text/plain": [
              "Text(0.5, 1.0, 'Logistic Regression')"
            ]
          },
          "metadata": {
            "tags": []
          },
          "execution_count": 510
        },
        {
          "output_type": "display_data",
          "data": {
            "image/png": "[encoded data removed]",
            "text/plain": [
              "<Figure size 432x288 with 1 Axes>"
            ]
          },
          "metadata": {
            "tags": [],
            "needs_background": "light"
          }
        }
      ]
    },
    {
      "cell_type": "markdown",
      "metadata": {
        "id": "d65djeksqBPY",
        "colab_type": "text"
      },
      "source": [
        "Tạo dữ liệu giả lấy từ : https://machinelearningcoban.com/2017/02/24/mlp/#-vi-du-tren-python"
      ]
    },
    {
      "cell_type": "code",
      "metadata": {
        "id": "sf4WAMtIfJUh",
        "colab_type": "code",
        "colab": {}
      },
      "source": [
        "N = 100 # number of points per class\n",
        "d0 = 2 # dimensionality\n",
        "C = 3 # number of classes\n",
        "X = np.zeros((d0, N*C)) # data matrix (each row = single example)\n",
        "y = np.zeros(N*C, dtype='uint8') # class labels\n",
        "for j in range(C):\n",
        "  ix = range(N*j,N*(j+1))\n",
        "  r = np.linspace(0.0,2,N) # radius\n",
        "  t = np.linspace(j*4,(j+1)*4,N) + np.random.randn(N)*0.2 # theta\n",
        "  X[:,ix] = np.c_[r*np.sin(t), r*np.cos(t)].T\n",
        "  y[ix] = j\n",
        "d1 = 20 # size of first hidden layer\n",
        "d2 = 15 # size of second hidden layer \n",
        "d3 = C \n",
        "Y = convert_labels(y, C)\n",
        "N = X.shape[1]"
      ],
      "execution_count": null,
      "outputs": []
    },
    {
      "cell_type": "markdown",
      "metadata": {
        "id": "YuFO9YmsqNGB",
        "colab_type": "text"
      },
      "source": [
        "Khởi tạo model parameters: ma trận trọng số và bias tương ứng với từng layer"
      ]
    },
    {
      "cell_type": "code",
      "metadata": {
        "id": "_4lD3c48TZRr",
        "colab_type": "code",
        "colab": {}
      },
      "source": [
        "# initialize weights and bias randomly\n",
        "np.random.seed(42)\n",
        "W1 = 0.01*np.random.randn(d0, d1)\n",
        "b1 = np.zeros((d1, 1))\n",
        "W2 = 0.01*np.random.randn(d1, d2)\n",
        "b2 = np.zeros((d2, 1))\n",
        "W3 = 0.01*np.random.randn(d2, d3)\n",
        "b3 = np.zeros((d3, 1))"
      ],
      "execution_count": null,
      "outputs": []
    },
    {
      "cell_type": "markdown",
      "metadata": {
        "id": "FL-waKAHqZqD",
        "colab_type": "text"
      },
      "source": [
        "Khởi tạo hyperparameter learning rate,random state , n_iters/epochs\n"
      ]
    },
    {
      "cell_type": "code",
      "metadata": {
        "id": "2zJwHkb3qes3",
        "colab_type": "code",
        "colab": {}
      },
      "source": [
        "lr = 0.05 # learning rate\n",
        "np.random.seed(42)\n",
        "epochs = 10000"
      ],
      "execution_count": null,
      "outputs": []
    },
    {
      "cell_type": "code",
      "metadata": {
        "id": "1HGkheVKfL2m",
        "colab_type": "code",
        "colab": {
          "base_uri": "https://localhost:8080/",
          "height": 200
        },
        "outputId": "d7f358fa-d918-45cb-95c3-15a3a7e6c7e3"
      },
      "source": [
        "for i in range(epochs+1):\n",
        "    ## Feedforward\n",
        "    Z1 = np.dot(W1.T, X) + b1   # [d1,d0] * [d0,N*C] + [d1,1]:broad-cast -> [d1,N*C]\n",
        "    A1 = np.maximum(Z1, 0)     # [d1,N*C] : element-wise\n",
        "    Z2 = np.dot(W2.T, A1) + b2 # [d2,d1] * [d1,N*C] + [d2,1]:broad-cast -> [d2,N*C]\n",
        "    A2 = np.maximum(Z2, 0)     # [d2,N*C] : ...\n",
        "    Z3 = np.dot(W3.T, A2) + b3 # [d3,d2] * [d2,N*C] + [d3,1]:broad-cast -> [d3,N*C]\n",
        "    A3 = softmax(Z3)                 # [d3,N*C]\n",
        "\n",
        "    Yhat  = A3\n",
        "    # print loss after each 1000 iterations\n",
        "    if i %1000 == 0:\n",
        "        # compute the loss: average cross-entropy loss\n",
        "        loss = cost_log(Y, Yhat)\n",
        "        print(\"iter %d, loss: %f\" %(i, loss))\n",
        "\n",
        "    # backpropagation\n",
        "    E3 = (Yhat - Y )/N\n",
        "    dW3 = np.dot(A2, E3.T)\n",
        "    db3 = np.sum(E3, axis = 1, keepdims = True)\n",
        "\n",
        "    E2 = np.dot(W3, E3)\n",
        "    E2[Z2 <= 0] = 0 # gradient of ReLU\n",
        "    dW2 = np.dot(A1,E2.T)\n",
        "    db2 = np.sum(E2 , axis = 1 ,keepdims= True)\n",
        "\n",
        "    E1 = np.dot(W2,E2)\n",
        "    E1[Z1 <=0] = 0 # duh\n",
        "    dW1 = np.dot(X, E1.T)\n",
        "    db1 = np.sum(E1, axis = 1, keepdims = True)\n",
        "\n",
        "    # Gradient Descent update\n",
        "    W1 += -lr*dW1\n",
        "    b1 += -lr*db1\n",
        "    W2 += -lr*dW2\n",
        "    b2 += -lr*db2\n",
        "    W3 += -lr*dW3\n",
        "    b3 += -lr*db3"
      ],
      "execution_count": null,
      "outputs": [
        {
          "output_type": "stream",
          "text": [
            "iter 0, loss: 1.098611\n",
            "iter 1000, loss: 1.098603\n",
            "iter 2000, loss: 1.098576\n",
            "iter 3000, loss: 1.098322\n",
            "iter 4000, loss: 0.925556\n",
            "iter 5000, loss: 0.594282\n",
            "iter 6000, loss: 0.319715\n",
            "iter 7000, loss: 0.129787\n",
            "iter 8000, loss: 0.078319\n",
            "iter 9000, loss: 0.057305\n",
            "iter 10000, loss: 0.043142\n"
          ],
          "name": "stdout"
        }
      ]
    },
    {
      "cell_type": "markdown",
      "metadata": {
        "id": "khcS97QSDZEn",
        "colab_type": "text"
      },
      "source": [
        "Predict label của toàn tập dữ liệu"
      ]
    },
    {
      "cell_type": "code",
      "metadata": {
        "id": "UltuuOy8hldu",
        "colab_type": "code",
        "colab": {
          "base_uri": "https://localhost:8080/",
          "height": 33
        },
        "outputId": "f529bd8e-2d35-428d-88ee-a3147512e88f"
      },
      "source": [
        "Z1 = np.dot(W1.T, X) + b1\n",
        "A1 = np.maximum(Z1, 0)\n",
        "Z2 = np.dot(W2.T, A1) + b2\n",
        "A2 = np.maximum(Z2, 0)\n",
        "Z3 = np.dot(W3.T,A2) + b3\n",
        "predicted_class = np.argmax(Z3,axis = 0)\n",
        "print('training accuracy: %.2f %%' % (100*np.mean(predicted_class == y)))"
      ],
      "execution_count": null,
      "outputs": [
        {
          "output_type": "stream",
          "text": [
            "training accuracy: 98.67 %\n"
          ],
          "name": "stdout"
        }
      ]
    },
    {
      "cell_type": "markdown",
      "metadata": {
        "id": "G3kn-Y2icS5L",
        "colab_type": "text"
      },
      "source": [
        "Data vizualization:"
      ]
    },
    {
      "cell_type": "code",
      "metadata": {
        "id": "Yhv8ZzWcy9CB",
        "colab_type": "code",
        "colab": {}
      },
      "source": [
        "pad = 0.5\n",
        "x_min, x_max = floor(X.T[:, 0].min()) - pad, ceil(X.T[:, 0].max()) + pad\n",
        "y_min, y_max = floor(X.T[:, 1].min()) - pad, ceil(X.T[:, 1].max())+ pad\n",
        "h_x = (x_max - x_min)/y.shape[0]\n",
        "h_y = (y_max - y_min)/y.shape[0]\n",
        "xx, yy = np.meshgrid(np.arange(x_min, x_max, h_x), np.arange(y_min, y_max, h_y), indexing='xy')\n",
        "mesh_points = np.c_[xx.ravel(), yy.ravel()]"
      ],
      "execution_count": null,
      "outputs": []
    },
    {
      "cell_type": "code",
      "metadata": {
        "id": "s-TPoBgx8NoE",
        "colab_type": "code",
        "colab": {}
      },
      "source": [
        "Z1 = np.dot(W1.T, mesh_points.T) + b1\n",
        "A1 = np.maximum(Z1, 0)\n",
        "Z2 = np.dot(W2.T, A1) + b2\n",
        "A2 = np.maximum(Z2, 0)\n",
        "Z3 = np.dot(W3.T,A2) + b3\n",
        "predicted_class = np.argmax(Z3,axis = 0)\n",
        "predicted_class = predicted_class.reshape(xx.shape)"
      ],
      "execution_count": null,
      "outputs": []
    },
    {
      "cell_type": "code",
      "metadata": {
        "id": "KWGQyFrF_efL",
        "colab_type": "code",
        "colab": {
          "base_uri": "https://localhost:8080/",
          "height": 500
        },
        "outputId": "ad208597-6965-4f55-d3a6-d9134a61c10d"
      },
      "source": [
        "plt.figure(figsize=(8,8))\n",
        "plt.contourf(xx, yy, predicted_class, cmap=plt.cm.CMRmap)\n",
        "plt.scatter(X.T[:, 0], X.T[:, 1], c=y, cmap=plt.cm.Accent)"
      ],
      "execution_count": null,
      "outputs": [
        {
          "output_type": "execute_result",
          "data": {
            "text/plain": [
              "<matplotlib.collections.PathCollection at 0x7ff28971c048>"
            ]
          },
          "metadata": {
            "tags": []
          },
          "execution_count": 522
        },
        {
          "output_type": "display_data",
          "data": {
            "image/png": "[encoded data removed]",
            "text/plain": [
              "<Figure size 576x576 with 1 Axes>"
            ]
          },
          "metadata": {
            "tags": [],
            "needs_background": "light"
          }
        }
      ]
    },
    {
      "cell_type": "code",
      "metadata": {
        "id": "1SSQsPJQAaqn",
        "colab_type": "code",
        "colab": {}
      },
      "source": [
        "# Uncomment dòng lệnh dưới để coi cmap của matplotlib\n",
        "# dir(plt.cm)"
      ],
      "execution_count": null,
      "outputs": []
    },
    {
      "cell_type": "markdown",
      "metadata": {
        "id": "O02374rfyeD3",
        "colab_type": "text"
      },
      "source": [
        "Predict label cho toàn tập dữ liệu"
      ]
    },
    {
      "cell_type": "markdown",
      "metadata": {
        "id": "tI8qy4hsacYr",
        "colab_type": "text"
      },
      "source": [
        "Định nghĩa hàm kích hoạt ReLu cho:"
      ]
    },
    {
      "cell_type": "code",
      "metadata": {
        "id": "zgXbBPtPjqQf",
        "colab_type": "code",
        "colab": {}
      },
      "source": [
        "def ReLU(X):\n",
        "  return np.maximum(X, 0)"
      ],
      "execution_count": null,
      "outputs": []
    },
    {
      "cell_type": "code",
      "metadata": {
        "id": "DzskJuzo1Wo4",
        "colab_type": "code",
        "colab": {}
      },
      "source": [
        "def Sigmoid(X,deri = False):\n",
        "  if deri:\n",
        "    return Sigmoid(X)*(1-Sigmoid(X))\n",
        "  return 1/(1+np.exp(-X))"
      ],
      "execution_count": null,
      "outputs": []
    },
    {
      "cell_type": "markdown",
      "metadata": {
        "id": "pPtT5T8UangO",
        "colab_type": "text"
      },
      "source": [
        "Class Layer :"
      ]
    },
    {
      "cell_type": "code",
      "metadata": {
        "id": "fuYEHtTAhn9v",
        "colab_type": "code",
        "colab": {}
      },
      "source": [
        "class Layer():\n",
        "  def __init__(self,weights_mat_shape,activation_function):\n",
        "    # Ma trận trọng số và bias\n",
        "    self.W = 0.1*np.random.randn(weights_mat_shape[0],weights_mat_shape[1])\n",
        "    self.b = np.zeros((weights_mat_shape[1], 1))\n",
        "    self.activation_function = activation_function\n",
        "    self.Z = None\n",
        "    self.A = None\n",
        "    self.dW = None\n",
        "    self.db = None\n",
        "  def compute_out(self,prev_A):\n",
        "    self.Z = np.dot(self.W.T, prev_A) + self.b\n",
        "    \n",
        "    self.A = self.activation_function(self.Z)\n",
        "    return self.A"
      ],
      "execution_count": null,
      "outputs": []
    },
    {
      "cell_type": "markdown",
      "metadata": {
        "id": "AxHnMycDUmRW",
        "colab_type": "text"
      },
      "source": [
        "Định nghĩa class ANN, bao gồm:\n",
        ">- input_set : X\n",
        "- output_set : y\n",
        "- config : hyper parameter\n",
        "- layers: list of Layer object"
      ]
    },
    {
      "cell_type": "code",
      "metadata": {
        "id": "eOAtTq-eUlrZ",
        "colab_type": "code",
        "colab": {}
      },
      "source": [
        "class ANN():\n",
        "  def __init__(self,input_set,output_set,config):\n",
        "    self.input_set = input_set  #X\n",
        "    self.output_set = output_set #Y\n",
        "    self.config = config\n",
        "    self.layers = []"
      ],
      "execution_count": null,
      "outputs": []
    },
    {
      "cell_type": "markdown",
      "metadata": {
        "id": "9yxiOkNvVKfN",
        "colab_type": "text"
      },
      "source": [
        "Định nghĩa hàm feed_forward():"
      ]
    },
    {
      "cell_type": "markdown",
      "metadata": {
        "id": "wo95F865aHWO",
        "colab_type": "text"
      },
      "source": [
        "$$\\begin{eqnarray}\n",
        "\\mathbf{Z}^{(1)} &=& \\mathbf{W}^{(1)T}\\mathbf{X} \\\\\n",
        "\\mathbf{A}^{(1)} &=& \\sigma(\\mathbf{Z}^{(1)}) \\\\\n",
        "\\mathbf{Z}^{(2)} &=& \\mathbf{W}^{(2)T}\\mathbf{A}^{(1)} \\\\\n",
        "...\\\\\n",
        "\\mathbf{\\hat{Y}} = \\mathbf{A}^{(L-1)} &=& \\text{softmax}(\\mathbf{Z}^{(L-1)})\n",
        "\\end{eqnarray}$$"
      ]
    },
    {
      "cell_type": "code",
      "metadata": {
        "id": "fOnu3DMkefO6",
        "colab_type": "code",
        "colab": {
          "base_uri": "https://localhost:8080/",
          "height": 450
        },
        "outputId": "915b81df-b072-4deb-b5c3-c2cf4ba54a45"
      },
      "source": [
        "# Ngay chỗ nào class ANN chưa có hàm nào khác\n",
        "dir(ANN)"
      ],
      "execution_count": null,
      "outputs": [
        {
          "output_type": "execute_result",
          "data": {
            "text/plain": [
              "['__class__',\n",
              " '__delattr__',\n",
              " '__dict__',\n",
              " '__dir__',\n",
              " '__doc__',\n",
              " '__eq__',\n",
              " '__format__',\n",
              " '__ge__',\n",
              " '__getattribute__',\n",
              " '__gt__',\n",
              " '__hash__',\n",
              " '__init__',\n",
              " '__init_subclass__',\n",
              " '__le__',\n",
              " '__lt__',\n",
              " '__module__',\n",
              " '__ne__',\n",
              " '__new__',\n",
              " '__reduce__',\n",
              " '__reduce_ex__',\n",
              " '__repr__',\n",
              " '__setattr__',\n",
              " '__sizeof__',\n",
              " '__str__',\n",
              " '__subclasshook__',\n",
              " '__weakref__']"
            ]
          },
          "metadata": {
            "tags": []
          },
          "execution_count": 530
        }
      ]
    },
    {
      "cell_type": "code",
      "metadata": {
        "id": "dVLmB_FKVIY_",
        "colab_type": "code",
        "colab": {}
      },
      "source": [
        "def feed_forward(self):\n",
        "    # Z_(1) \n",
        "    prev_A = self.layers[0].compute_out(self.input_set)\n",
        "    i = 1\n",
        "    while i <= len(self.layers)-1:\n",
        "      prev_A = self.layers[i].compute_out(prev_A)\n",
        "      i+=1\n",
        "\n",
        "# Add method back_prop into ANN class\n",
        "ANN.feed_forward = feed_forward"
      ],
      "execution_count": null,
      "outputs": []
    },
    {
      "cell_type": "code",
      "metadata": {
        "id": "sEJKyqUoetlg",
        "colab_type": "code",
        "colab": {
          "base_uri": "https://localhost:8080/",
          "height": 466
        },
        "outputId": "543b3fb1-2afe-4be9-ab5f-0e91aa3ade5d"
      },
      "source": [
        "dir(ANN)"
      ],
      "execution_count": null,
      "outputs": [
        {
          "output_type": "execute_result",
          "data": {
            "text/plain": [
              "['__class__',\n",
              " '__delattr__',\n",
              " '__dict__',\n",
              " '__dir__',\n",
              " '__doc__',\n",
              " '__eq__',\n",
              " '__format__',\n",
              " '__ge__',\n",
              " '__getattribute__',\n",
              " '__gt__',\n",
              " '__hash__',\n",
              " '__init__',\n",
              " '__init_subclass__',\n",
              " '__le__',\n",
              " '__lt__',\n",
              " '__module__',\n",
              " '__ne__',\n",
              " '__new__',\n",
              " '__reduce__',\n",
              " '__reduce_ex__',\n",
              " '__repr__',\n",
              " '__setattr__',\n",
              " '__sizeof__',\n",
              " '__str__',\n",
              " '__subclasshook__',\n",
              " '__weakref__',\n",
              " 'feed_forward']"
            ]
          },
          "metadata": {
            "tags": []
          },
          "execution_count": 532
        }
      ]
    },
    {
      "cell_type": "markdown",
      "metadata": {
        "id": "qhilOmq-bSBa",
        "colab_type": "text"
      },
      "source": [
        "Định nghĩa hàm back_prop():"
      ]
    },
    {
      "cell_type": "markdown",
      "metadata": {
        "id": "Osg9TxqTfrLr",
        "colab_type": "text"
      },
      "source": [
        "$$$$\\begin{eqnarray}\n",
        "\\mathbf{Z}^{(1)} &=& \\mathbf{W}^{(1)T}\\mathbf{X} \\\\\n",
        "\\mathbf{A}^{(1)} &=& \\sigma(\\mathbf{Z}^{(1)}) \\\\\n",
        "\\mathbf{Z}^{(2)} &=& \\mathbf{W}^{(2)T}\\mathbf{A}^{(1)} \\\\\n",
        "...\\\\\n",
        "\\mathbf{\\hat{Y}} = \\mathbf{A}^{(L-1)} &=& \\text{softmax}(\\mathbf{Z}^{(L-1)})\n",
        "\\end{eqnarray}$$$$"
      ]
    },
    {
      "cell_type": "markdown",
      "metadata": {
        "id": "yEv-yc1O-x2m",
        "colab_type": "text"
      },
      "source": [
        "$$\\begin{eqnarray}\n",
        "\\frac{\\partial J}{\\partial \\mathbf{W}^{(L)}} &=& \\mathbf{a}^{(L-1)}\\mathbf{e}^{(L)T}\\\\\n",
        "\\frac{\\partial J}{\\partial \\mathbf{b}^{(L)}} &=&  \\mathbf{e}^{(L)}\n",
        "\\end{eqnarray}$$"
      ]
    },
    {
      "cell_type": "markdown",
      "metadata": {
        "id": "s6q6V9-U-q-D",
        "colab_type": "text"
      },
      "source": [
        "$$\\mathbf{e}^{(L)} = \\frac{\\partial J}{\\partial \\mathbf{z}^{(L)}}$$"
      ]
    },
    {
      "cell_type": "markdown",
      "metadata": {
        "id": "ghy6N_Gz_bQU",
        "colab_type": "text"
      },
      "source": [
        "$$\\begin{eqnarray}\n",
        "e_j^{(l)} &\n",
        " &=&\\left( \\mathbf{w}_{j:}^{(l+1)} \\mathbf{e}^{(l+1)} \\right) f’(z_j^{(l)}) \\\\\n",
        "\\end{eqnarray}$$"
      ]
    },
    {
      "cell_type": "markdown",
      "metadata": {
        "id": "8mNdyRO-Aocl",
        "colab_type": "text"
      },
      "source": [
        "$$\\mathbf{e}^{(l)} = \\left( \\mathbf{W}^{(l+1)} \\mathbf{e}^{(l+1)} \\right) \\odot f’(\\mathbf{z}^{(l)})$$"
      ]
    },
    {
      "cell_type": "code",
      "metadata": {
        "id": "xiZfwwvZbQed",
        "colab_type": "code",
        "colab": {}
      },
      "source": [
        "def back_prop(self):\n",
        "    Y_hat = self.layers[-1].A                                                   # Y_hat được tính lần đầu tiên\n",
        "                                                                                              # np.dot(self.weights_last.T, prev_A )\n",
        "    if self.config.cost_function.__name__ == 'cost_log':\n",
        "      E_last = (Y_hat - self.output_set)/(self.input_set.shape[1])  # E_last chỗ này là E\n",
        "    if self.config.cost_function.__name__ == 'cost_MSE':\n",
        "      E_last =  (2*(self.Y_hat - self.output_set))/(self.input_set.shape[1])\n",
        "      E_last =  E_last * Sigmoid(self.layers[-1].Z,True)                                         \n",
        "\n",
        "                                                                                                    # Nên ta không đưa E_last này vào vòng lặp bên dưới\n",
        "    self.layers[-1].dW = np.dot(self.layers[-2].A,E_last.T)             # Cập nhập dW và db\n",
        "    self.layers[-1].db = np.sum(E_last, axis = 1, keepdims = True)\n",
        "\n",
        "    i = len(self.layers) - 2\n",
        "    while i >=1:\n",
        "\n",
        "      E_last = np.dot(self.layers[i+1].W,E_last)                                 # E(i) = np.dot(W(i+1), E(i+1)) (tích Hadamard) (f'(Z))\n",
        "      if self.layers[i].activation_function.__name__ == 'ReLU':         # Cần được mở rộng bằng 1 hàm nào đó\n",
        "        E_last[self.layers[i].Z<=0] = 0                                                 # ReLu :  max(0,X) - element-wise\n",
        "                                                                                                        # ReLu' : 0 ∀ X <= 0 , 1 otherwise.\n",
        "      \n",
        "      if self.layers[i].activation_function.__name__ == 'Sigmoid':      \n",
        "        E_last = E_last * Sigmoid(self.layers[i].Z,True)\n",
        "        \n",
        "\n",
        "      self.layers[i].dW = np.dot(self.layers[i-1].A,E_last.T)                  # dW(i) =  np.dot(A(i-1),E(i).T)\n",
        "      self.layers[i].db = np.sum(E_last, axis = 1 , keepdims= True)    # db(i)  = np.sum(E(i),axis = 1 , keepsdims=True)\n",
        "      i -= 1\n",
        "\n",
        "    E_last = np.dot(self.layers[1].W,E_last)\n",
        "    if self.layers[0].activation_function.__name__ == 'ReLU':     \n",
        "      E_last[self.layers[i].Z<=0] = 0  \n",
        "    if self.layers[i].activation_function.__name__ == 'Sigmoid':      \n",
        "      E_last = E_last * Sigmoid(self.layers[i].Z,True)\n",
        "\n",
        "    self.layers[0].dW = np.dot(self.input_set,E_last.T)\n",
        "    self.layers[0].db = np.sum(E_last, axis = 1 , keepdims= True )\n",
        "\n",
        "# Add method back_prop into ANN class\n",
        "ANN.back_prop = back_prop"
      ],
      "execution_count": null,
      "outputs": []
    },
    {
      "cell_type": "markdown",
      "metadata": {
        "id": "7VUa1jLtcgvh",
        "colab_type": "text"
      },
      "source": [
        "- Định nghĩa hàm train với điều kiện dừng là loss < 0.01;\n",
        "- Định nghĩa hàm update ma trận trọng số W và bias b cho từng layer;\n",
        "- Định nghĩa hàm predict."
      ]
    },
    {
      "cell_type": "code",
      "metadata": {
        "id": "1F7I81cYqTwI",
        "colab_type": "code",
        "colab": {}
      },
      "source": [
        "def update_gradient_descent(self):\n",
        "  for i in range(len(self.layers)):\n",
        "    self.layers[i].W += -self.config.lr*self.layers[i].dW\n",
        "    self.layers[i].b += -self.config.lr*self.layers[i].db\n",
        "\n",
        "ANN.update_gradient_descent = update_gradient_descent\n",
        "\n",
        "def training(self,epochs = 10000):\n",
        "  error_list = []\n",
        "  for epoch in range(epochs):\n",
        "    self.feed_forward()\n",
        "    self.back_prop()\n",
        "    self.update_gradient_descent()\n",
        "    Y = self.output_set\n",
        "    Y_hat = self.layers[-1].A\n",
        "    loss = self.config.cost_function(Y, Y_hat)\n",
        "    if epoch %1000 == 0:\n",
        "      print(\"iter %d, loss: %f\" %(epoch, loss))\n",
        "    if loss < 10**(-1):\n",
        "      break\n",
        "    error_list.append(loss)\n",
        "  return error_list\n",
        "\n",
        "ANN.training = training\n",
        "\n",
        "def predict(self,X_test):\n",
        "  Z = np.dot(self.layers[0].W.T,X_test) + self.layers[0].b\n",
        "  A = self.layers[0].activation_function(Z)\n",
        "  for i,layer in enumerate(self.layers):\n",
        "    if i!=0:\n",
        "      Z = np.dot(layer.W.T,A) + layer.b\n",
        "      A = layer.activation_function(Z)\n",
        "  predict = np.argmax(Z,axis = 0)\n",
        "  return predict\n",
        "\n",
        "ANN.predict = predict"
      ],
      "execution_count": null,
      "outputs": []
    },
    {
      "cell_type": "markdown",
      "metadata": {
        "id": "SeBRZsGUqvln",
        "colab_type": "text"
      },
      "source": [
        "Định nghĩa Class config chứa các hyperparameter"
      ]
    },
    {
      "cell_type": "code",
      "metadata": {
        "id": "Dknq1juYIdBz",
        "colab_type": "code",
        "colab": {}
      },
      "source": [
        "class Config:\n",
        "  def __init__(self,lr=0.05,layers = (100,),activation_function =ReLU ,cost_function=cost_log):\n",
        "    self.lr = lr\n",
        "    self.layers = layers\n",
        "    self.activation_function = activation_function\n",
        "    self.cost_function = cost_function"
      ],
      "execution_count": null,
      "outputs": []
    },
    {
      "cell_type": "code",
      "metadata": {
        "id": "SLmsWnnlIBxJ",
        "colab_type": "code",
        "colab": {}
      },
      "source": [
        "class ANN():\n",
        "  def __init__(self,input_set,output_set,config):\n",
        "    self.config = config\n",
        "    self.layers = []\n",
        "    self.input_set = input_set\n",
        "    self.output_set = output_set\n",
        "    for i,neurons in enumerate(self.config.layers):\n",
        "      if i!= len(config.layers) - 1:\n",
        "        self.add_layer(neurons,activation_function=config.activation_function)\n",
        "      else:\n",
        "        self.add_layer(neurons,activation_function=softmax)\n",
        "  \n",
        "  def add_layer(self,neurons_numbs,activation_function):\n",
        "    if len(self.layers) == 0:\n",
        "      weights_shape = (self.input_set.shape[0],neurons_numbs)\n",
        "      layer = Layer(weights_shape,activation_function)\n",
        "      self.layers.append(layer)\n",
        "    else:\n",
        "      weights_shape = (self.layers[-1].W.shape[1],neurons_numbs)\n",
        "      layer = Layer(weights_shape,activation_function)\n",
        "      self.layers.append(layer)\n",
        "  \n",
        "  def feed_forward(self):\n",
        "      prev_A = self.layers[0].compute_out(self.input_set)\n",
        "      i = 1\n",
        "      while i <= len(self.layers)-1:\n",
        "        prev_A = self.layers[i].compute_out(prev_A)\n",
        "        i+=1\n",
        "  def back_prop(self):\n",
        "      Y_hat = self.layers[-1].A                                                   # Y_hat được tính lần đầu tiên\n",
        "                                                                                                # np.dot(self.weights_last.T, prev_A )\n",
        "      \n",
        "      if self.config.cost_function.__name__ == 'cost_log':\n",
        "        E_last = (Y_hat - self.output_set)/(self.input_set.shape[1])  # E_last chỗ này là E\n",
        "      if self.config.cost_function.__name__ == 'cost_MSE':\n",
        "        E_last =  (2*(self.Y_hat - self.output_set))/(self.input_set.shape[1])\n",
        "      \n",
        "        E_last =  E_last * Sigmoid(self.layers[-1].Z,True)                                         \n",
        "\n",
        "                                                                                                      # Nên ta không đưa E_last này vào vòng lặp bên dưới\n",
        "      self.layers[-1].dW = np.dot(self.layers[-2].A,E_last.T)             # Cập nhập dW và db\n",
        "      self.layers[-1].db = np.sum(E_last, axis = 1, keepdims = True)\n",
        "\n",
        "      i = len(self.layers) - 2\n",
        "      while i >=1:\n",
        "\n",
        "        E_last = np.dot(self.layers[i+1].W,E_last)                                 # E(i) = np.dot(W(i+1), E(i+1)) (tích Hadamard) (f'(Z))\n",
        "        if self.layers[i].activation_function.__name__ == 'ReLU':         \n",
        "          E_last[self.layers[i].Z<=0] = 0                                                 # ReLu :  max(0,X) - element-wise\n",
        "                                                                                                         # ReLu' : 0 ∀ X < 0 , 1 otherwise.\n",
        "        \n",
        "        if self.layers[i].activation_function.__name__ == 'Sigmoid':      \n",
        "          E_last = E_last * Sigmoid(self.layers[i].Z,True)\n",
        "          \n",
        "\n",
        "        self.layers[i].dW = np.dot(self.layers[i-1].A,E_last.T)                  # dW(i) =  np.dot(A(i-1),E(i).T)\n",
        "        self.layers[i].db = np.sum(E_last, axis = 1 , keepdims= True)    # db(i)  = np.sum(E(i),axis = 1 , keepsdims=True)\n",
        "        i -= 1\n",
        "\n",
        "      E_last = np.dot(self.layers[1].W,E_last)\n",
        "      if self.layers[0].activation_function.__name__ == 'ReLU':     \n",
        "        E_last[self.layers[i].Z<=0] = 0  \n",
        "      if self.layers[i].activation_function.__name__ == 'Sigmoid':      \n",
        "        E_last = E_last * Sigmoid(self.layers[i].Z,True)\n",
        "      \n",
        "      self.layers[0].dW = np.dot(self.input_set,E_last.T)\n",
        "      self.layers[0].db = np.sum(E_last, axis = 1 , keepdims= True )\n",
        "\n",
        "  def update_gradient_descent(self):\n",
        "    for i in range(len(self.layers)):\n",
        "      self.layers[i].W += -self.config.lr*self.layers[i].dW\n",
        "      self.layers[i].b += -self.config.lr*self.layers[i].db\n",
        "  \n",
        "  def training(self,epochs = 10000):\n",
        "    error_list = []\n",
        "    for epoch in range(epochs):\n",
        "      self.feed_forward()\n",
        "      self.back_prop()\n",
        "      self.update_gradient_descent()\n",
        "      Y = self.output_set\n",
        "      Y_hat = self.layers[-1].A\n",
        "      loss = self.config.cost_function(Y, Y_hat)\n",
        "      if epoch %1000 == 0:\n",
        "        print(\"iter %d, loss: %f\" %(epoch, loss))\n",
        "      if loss < 10**(-1):\n",
        "        break\n",
        "      error_list.append(loss)\n",
        "    return error_list\n",
        "  def predict(self,X_test):\n",
        "    Z = np.dot(self.layers[0].W.T,X_test) + self.layers[0].b\n",
        "    A = self.layers[0].activation_function(Z)\n",
        "    for i,layer in enumerate(self.layers):\n",
        "      if i!=0:\n",
        "        Z = np.dot(layer.W.T,A) + layer.b\n",
        "        A = layer.activation_function(Z)\n",
        "    predict = np.argmax(Z,axis = 0)\n",
        "    return predict"
      ],
      "execution_count": null,
      "outputs": []
    },
    {
      "cell_type": "code",
      "metadata": {
        "id": "MN2aOddgXaRs",
        "colab_type": "code",
        "colab": {}
      },
      "source": [
        "N = 20 # number of points per class\n",
        "d0 = 2 # dimensionality\n",
        "C = 3 # number of classes\n",
        "\n",
        "X = np.zeros((d0, N*C)) # data matrix (each row = single example)\n",
        "y = np.zeros(N*C, dtype='uint8') # class labels\n",
        "\n",
        "for j in range(C):\n",
        "  ix = range(N*j,N*(j+1))\n",
        "  r = np.linspace(0.0,1,N) # radius\n",
        "  t = np.linspace(j*4,(j+1)*4,N) + np.random.randn(N)*0.2 # theta\n",
        "  X[:,ix] = np.c_[r*np.sin(t), r*np.cos(t)].T\n",
        "  y[ix] = j\n",
        "\n",
        "d1 = 20 # size of hidden layer\n",
        "Y = convert_labels(y, C)"
      ],
      "execution_count": null,
      "outputs": []
    },
    {
      "cell_type": "code",
      "metadata": {
        "id": "kB-j816DIt1g",
        "colab_type": "code",
        "colab": {}
      },
      "source": [
        "config = Config(layers=(d1,C),activation_function= Sigmoid)\n",
        "ann = ANN(X,Y,config)"
      ],
      "execution_count": null,
      "outputs": []
    },
    {
      "cell_type": "code",
      "metadata": {
        "id": "8ZbPfLjvQu-P",
        "colab_type": "code",
        "colab": {
          "base_uri": "https://localhost:8080/",
          "height": 450
        },
        "outputId": "9010d902-ec72-48f1-d991-d55f65ffac08"
      },
      "source": [
        "start = time.time()\n",
        "error_list = ann.training(25000)\n",
        "end = time.time()\n",
        "print(\"Time to train \",len(error_list),\" epochs \",end-start,\", on average:\",(end-start)/len(error_list))"
      ],
      "execution_count": null,
      "outputs": [
        {
          "output_type": "stream",
          "text": [
            "iter 0, loss: 1.098879\n",
            "iter 1000, loss: 1.097580\n",
            "iter 2000, loss: 1.074704\n",
            "iter 3000, loss: 0.890999\n",
            "iter 4000, loss: 0.766459\n",
            "iter 5000, loss: 0.749114\n",
            "iter 6000, loss: 0.745877\n",
            "iter 7000, loss: 0.743865\n",
            "iter 8000, loss: 0.741726\n",
            "iter 9000, loss: 0.739254\n",
            "iter 10000, loss: 0.736378\n",
            "iter 11000, loss: 0.733058\n",
            "iter 12000, loss: 0.729264\n",
            "iter 13000, loss: 0.724970\n",
            "iter 14000, loss: 0.720129\n",
            "iter 15000, loss: 0.714641\n",
            "iter 16000, loss: 0.708305\n",
            "iter 17000, loss: 0.700716\n",
            "iter 18000, loss: 0.691102\n",
            "iter 19000, loss: 0.678090\n",
            "iter 20000, loss: 0.659649\n",
            "iter 21000, loss: 0.633787\n",
            "iter 22000, loss: 0.599937\n",
            "iter 23000, loss: 0.559764\n",
            "iter 24000, loss: 0.516742\n",
            "Time to train  25000  epochs  6.730382204055786 , on average: 0.00026921528816223144\n"
          ],
          "name": "stdout"
        }
      ]
    },
    {
      "cell_type": "code",
      "metadata": {
        "id": "MiL43fyXf-ox",
        "colab_type": "code",
        "colab": {
          "base_uri": "https://localhost:8080/",
          "height": 33
        },
        "outputId": "735885a8-2683-4256-881c-597cc3e897ed"
      },
      "source": [
        "predict = ann.predict(X)\n",
        "print('training accuracy: %.2f %%' % (100*np.mean(predict == y)))"
      ],
      "execution_count": null,
      "outputs": [
        {
          "output_type": "stream",
          "text": [
            "training accuracy: 75.00 %\n"
          ],
          "name": "stdout"
        }
      ]
    },
    {
      "cell_type": "code",
      "metadata": {
        "id": "j7RLwkH_eJ2Z",
        "colab_type": "code",
        "colab": {
          "base_uri": "https://localhost:8080/",
          "height": 100
        },
        "outputId": "6ca1c10b-a52c-4038-d1e0-80b65d11d0dd"
      },
      "source": [
        "N = 100 # number of points per class\n",
        "d0 = 2 # dimensionality\n",
        "C = 3 # number of classes\n",
        "\n",
        "X = np.zeros((d0, N*C)) # data matrix (each row = single example)\n",
        "y = np.zeros(N*C, dtype='uint8') # class labels\n",
        "\n",
        "for j in range(C):\n",
        "  ix = range(N*j,N*(j+1))\n",
        "  r = np.linspace(0.0,1,N) # radius\n",
        "  t = np.linspace(j*4,(j+1)*4,N) + np.random.randn(N)*0.2 # theta\n",
        "  X[:,ix] = np.c_[r*np.sin(t), r*np.cos(t)].T\n",
        "  y[ix] = j\n",
        "\n",
        "Y = convert_labels(y, C)\n",
        "config = Config(layers=(50,20,C),activation_function= ReLU)\n",
        "np.random.seed(42)\n",
        "ann = ANN(X,Y,config)\n",
        "start = time.time()\n",
        "error_list = ann.training(25000)\n",
        "end = time.time()\n",
        "print(\"Time to train \",len(error_list),\" epochs \",end-start,\", on average:\",(end-start)/len(error_list))"
      ],
      "execution_count": null,
      "outputs": [
        {
          "output_type": "stream",
          "text": [
            "iter 0, loss: 1.096831\n",
            "iter 1000, loss: 0.632322\n",
            "iter 2000, loss: 0.254077\n",
            "iter 3000, loss: 0.107934\n",
            "Time to train  3127  epochs  2.6564040184020996 , on average: 0.0008495056023031978\n"
          ],
          "name": "stdout"
        }
      ]
    },
    {
      "cell_type": "code",
      "metadata": {
        "id": "mzIpKGhqejD8",
        "colab_type": "code",
        "colab": {
          "base_uri": "https://localhost:8080/",
          "height": 33
        },
        "outputId": "a19e9507-570b-482a-dbab-c84fcb7a9f40"
      },
      "source": [
        "predict = ann.predict(X)\n",
        "print(100*np.mean(predict == y))"
      ],
      "execution_count": null,
      "outputs": [
        {
          "output_type": "stream",
          "text": [
            "97.66666666666667\n"
          ],
          "name": "stdout"
        }
      ]
    },
    {
      "cell_type": "code",
      "metadata": {
        "id": "O3X93BCWmbNg",
        "colab_type": "code",
        "colab": {
          "base_uri": "https://localhost:8080/",
          "height": 83
        },
        "outputId": "a3afb64c-94c2-4d04-dca3-883e256caf4f"
      },
      "source": [
        "config = Config(layers=(100,20,C),activation_function= ReLU)\n",
        "np.random.seed(42)\n",
        "ann = ANN(X,Y,config)\n",
        "start = time.time()\n",
        "error_list = ann.training(25000)\n",
        "end = time.time()\n",
        "print(\"Time to train \",len(error_list),\" epochs \",end-start,\", on average:\",(end-start)/len(error_list))"
      ],
      "execution_count": null,
      "outputs": [
        {
          "output_type": "stream",
          "text": [
            "iter 0, loss: 1.099678\n",
            "iter 1000, loss: 0.523140\n",
            "iter 2000, loss: 0.174736\n",
            "Time to train  2775  epochs  3.3490474224090576 , on average: 0.001206863936003264\n"
          ],
          "name": "stdout"
        }
      ]
    },
    {
      "cell_type": "code",
      "metadata": {
        "id": "meBRX6evnFsB",
        "colab_type": "code",
        "colab": {
          "base_uri": "https://localhost:8080/",
          "height": 33
        },
        "outputId": "b07cb62f-3af4-41b6-81b7-cfca259d8152"
      },
      "source": [
        "predict_class = ann.predict(X)\n",
        "print(100*np.mean(predict_class == y))"
      ],
      "execution_count": null,
      "outputs": [
        {
          "output_type": "stream",
          "text": [
            "97.33333333333334\n"
          ],
          "name": "stdout"
        }
      ]
    },
    {
      "cell_type": "markdown",
      "metadata": {
        "id": "gOelVjyfvMel",
        "colab_type": "text"
      },
      "source": [
        "Hàm phụ trợ: plot dự đoán"
      ]
    },
    {
      "cell_type": "code",
      "metadata": {
        "id": "ni-KQKfHt-m8",
        "colab_type": "code",
        "colab": {}
      },
      "source": [
        "def plot_hit_or_miss(X,y_true,y_pred):\n",
        "  miss = np.where(y_pred!=y_true)[0]\n",
        "  hit = np.where(y_pred==y_true)[0]\n",
        "\n",
        "  miss_data = X[:,miss]\n",
        "  hit_data = X[:,hit]\n",
        "\n",
        "  plt.scatter(hit_data[0],hit_data[1],color = 'blue',label = \"hit\")\n",
        "  plt.scatter(miss_data[0],miss_data[1],color = 'red', label = \"miss\")\n",
        "\n",
        "  plt.legend(loc=\"best\")"
      ],
      "execution_count": null,
      "outputs": []
    },
    {
      "cell_type": "code",
      "metadata": {
        "id": "eyd2cp9QsULU",
        "colab_type": "code",
        "colab": {
          "base_uri": "https://localhost:8080/",
          "height": 264
        },
        "outputId": "0176d000-a201-4fa8-f471-701f6923aa7f"
      },
      "source": [
        "plot_hit_or_miss(X,y,predict_class)"
      ],
      "execution_count": null,
      "outputs": [
        {
          "output_type": "display_data",
          "data": {
            "image/png": "[encoded data removed]",
            "text/plain": [
              "<Figure size 432x288 with 1 Axes>"
            ]
          },
          "metadata": {
            "tags": [],
            "needs_background": "light"
          }
        }
      ]
    },
    {
      "cell_type": "code",
      "metadata": {
        "id": "yk1jNKGZfVoh",
        "colab_type": "code",
        "colab": {}
      },
      "source": [
        "def plot_decision_boundary(pred_func,X,y):\n",
        "    # Min and Max values on X and Y axis ,  give them some padding.\n",
        "    pad = 0.5\n",
        "    x_min, x_max = floor(X[:, 0].min()) - pad, ceil(X[:, 0].max()) + pad\n",
        "    y_min, y_max = floor(X[:, 1].min()) - pad, ceil(X[:, 1].max())+ pad\n",
        "    h_x = (x_max - x_min)/y.shape[0]\n",
        "    h_y = (y_max - y_min)/y.shape[0]\n",
        "  \n",
        "    # Generate a grid of points with distance h between each one of them\n",
        "    xx, yy = np.meshgrid(np.arange(x_min, x_max, h_x), np.arange(y_min, y_max, h_y), indexing='xy')\n",
        "    \n",
        "    mesh_points = np.c_[xx.ravel(), yy.ravel()]\n",
        "    # Predict the function value for the whole gid\n",
        "    if pred_func != None:\n",
        "      Z = pred_func(mesh_points.T)\n",
        "      Z = Z.reshape(xx.shape)\n",
        "      # Plot the contour and training examples\n",
        "      plt.figure(figsize=(12,12))\n",
        "      plt.contourf(xx, yy, Z, cmap=plt.cm.Spectral)\n",
        "      plt.scatter(X[:, 0], X[:, 1], c=y, cmap=plt.cm.Spectral)"
      ],
      "execution_count": null,
      "outputs": []
    },
    {
      "cell_type": "code",
      "metadata": {
        "id": "ectkkxMJfCoj",
        "colab_type": "code",
        "colab": {
          "base_uri": "https://localhost:8080/",
          "height": 700
        },
        "outputId": "5e0808eb-8905-4e86-a1ff-57531220f12f"
      },
      "source": [
        "plot_decision_boundary(ann.predict,X.T,y)"
      ],
      "execution_count": null,
      "outputs": [
        {
          "output_type": "display_data",
          "data": {
            "image/png": "[encoded data removed]",
            "text/plain": [
              "<Figure size 864x864 with 1 Axes>"
            ]
          },
          "metadata": {
            "tags": [],
            "needs_background": "light"
          }
        }
      ]
    },
    {
      "cell_type": "markdown",
      "metadata": {
        "id": "jVDg1zOOgtu9",
        "colab_type": "text"
      },
      "source": [
        "Coi sự thay đổi của W khi train 1 epoch:"
      ]
    },
    {
      "cell_type": "code",
      "metadata": {
        "id": "kmfCK1fu21Qm",
        "colab_type": "code",
        "colab": {}
      },
      "source": [
        "N = 100 # number of points per class\n",
        "d0 = 2 # dimensionality\n",
        "C = 2 # number of classes\n",
        "\n",
        "X = np.zeros((d0, N*C)) # data matrix (each row = single example)\n",
        "y = np.zeros(N*C, dtype='uint8') # class labels\n",
        "\n",
        "for j in range(C):\n",
        "  ix = range(N*j,N*(j+1))\n",
        "  r = np.linspace(0.0,1,N) # radius\n",
        "  t = np.linspace(j*4,(j+1)*4,N) + np.random.randn(N)*0.2 # theta\n",
        "  X[:,ix] = np.c_[r*np.sin(t), r*np.cos(t)].T\n",
        "  y[ix] = j\n",
        "\n",
        "Y = convert_labels(y, C)\n",
        "config = Config(layers=(3,C),activation_function= ReLU)\n",
        "np.random.seed(42)\n",
        "ann = ANN(X,Y,config)"
      ],
      "execution_count": null,
      "outputs": []
    },
    {
      "cell_type": "markdown",
      "metadata": {
        "id": "voPUkZOrg8Gf",
        "colab_type": "text"
      },
      "source": [
        "Trước khi train:"
      ]
    },
    {
      "cell_type": "code",
      "metadata": {
        "id": "o5OzVsnGR9qu",
        "colab_type": "code",
        "colab": {
          "base_uri": "https://localhost:8080/",
          "height": 50
        },
        "outputId": "371cdd63-b3b5-4f3a-febf-884a14e16423"
      },
      "source": [
        "ann.layers[0].W"
      ],
      "execution_count": null,
      "outputs": [
        {
          "output_type": "execute_result",
          "data": {
            "text/plain": [
              "array([[ 0.04967142, -0.01382643,  0.06476885],\n",
              "       [ 0.15230299, -0.02341534, -0.0234137 ]])"
            ]
          },
          "metadata": {
            "tags": []
          },
          "execution_count": 497
        }
      ]
    },
    {
      "cell_type": "code",
      "metadata": {
        "id": "x5Q91a843O6S",
        "colab_type": "code",
        "colab": {
          "base_uri": "https://localhost:8080/",
          "height": 66
        },
        "outputId": "46ab4c44-c912-48d9-c2f1-5304f65fe65e"
      },
      "source": [
        "ann.layers[0].b"
      ],
      "execution_count": null,
      "outputs": [
        {
          "output_type": "execute_result",
          "data": {
            "text/plain": [
              "array([[0.],\n",
              "       [0.],\n",
              "       [0.]])"
            ]
          },
          "metadata": {
            "tags": []
          },
          "execution_count": 498
        }
      ]
    },
    {
      "cell_type": "code",
      "metadata": {
        "id": "Kw0ImMdIRmw0",
        "colab_type": "code",
        "colab": {
          "base_uri": "https://localhost:8080/",
          "height": 66
        },
        "outputId": "e6a058f6-bcf7-4698-e93c-48fc5540e698"
      },
      "source": [
        "ann.layers[1].W"
      ],
      "execution_count": null,
      "outputs": [
        {
          "output_type": "execute_result",
          "data": {
            "text/plain": [
              "array([[ 0.15792128,  0.07674347],\n",
              "       [-0.04694744,  0.054256  ],\n",
              "       [-0.04634177, -0.04657298]])"
            ]
          },
          "metadata": {
            "tags": []
          },
          "execution_count": 499
        }
      ]
    },
    {
      "cell_type": "code",
      "metadata": {
        "id": "uSMrbEJU7QFl",
        "colab_type": "code",
        "colab": {
          "base_uri": "https://localhost:8080/",
          "height": 50
        },
        "outputId": "37928dd4-8997-4c27-8c9b-b2bd8f482a49"
      },
      "source": [
        "ann.layers[1].b"
      ],
      "execution_count": null,
      "outputs": [
        {
          "output_type": "execute_result",
          "data": {
            "text/plain": [
              "array([[0.],\n",
              "       [0.]])"
            ]
          },
          "metadata": {
            "tags": []
          },
          "execution_count": 501
        }
      ]
    },
    {
      "cell_type": "code",
      "metadata": {
        "id": "DtGNG_AVRnSY",
        "colab_type": "code",
        "colab": {
          "base_uri": "https://localhost:8080/",
          "height": 50
        },
        "outputId": "dd3c065a-1c85-4389-811b-0cc59b0f4a0a"
      },
      "source": [
        "ann.training(1)"
      ],
      "execution_count": null,
      "outputs": [
        {
          "output_type": "stream",
          "text": [
            "iter 0, loss: 0.694137\n"
          ],
          "name": "stdout"
        },
        {
          "output_type": "execute_result",
          "data": {
            "text/plain": [
              "[0.6941366608269148]"
            ]
          },
          "metadata": {
            "tags": []
          },
          "execution_count": 502
        }
      ]
    },
    {
      "cell_type": "markdown",
      "metadata": {
        "id": "QmA1TCBRhAWX",
        "colab_type": "text"
      },
      "source": [
        "Sau khi train:"
      ]
    },
    {
      "cell_type": "code",
      "metadata": {
        "id": "CqhZkPUjSJi4",
        "colab_type": "code",
        "colab": {
          "base_uri": "https://localhost:8080/",
          "height": 50
        },
        "outputId": "f51d6c1b-f869-4605-dd3d-da776e20b034"
      },
      "source": [
        "ann.layers[0].W"
      ],
      "execution_count": null,
      "outputs": [
        {
          "output_type": "execute_result",
          "data": {
            "text/plain": [
              "array([[ 0.04959401, -0.01386952,  0.0647687 ],\n",
              "       [ 0.15205896, -0.02302371, -0.0234146 ]])"
            ]
          },
          "metadata": {
            "tags": []
          },
          "execution_count": 504
        }
      ]
    },
    {
      "cell_type": "code",
      "metadata": {
        "id": "V4TrSb6j8-8y",
        "colab_type": "code",
        "colab": {
          "base_uri": "https://localhost:8080/",
          "height": 66
        },
        "outputId": "043cb8f5-ee90-4e5b-882d-6d5afdea20f5"
      },
      "source": [
        "ann.layers[0].b"
      ],
      "execution_count": null,
      "outputs": [
        {
          "output_type": "execute_result",
          "data": {
            "text/plain": [
              "array([[-2.56132943e-04],\n",
              "       [-1.90252030e-04],\n",
              "       [ 1.29701996e-06]])"
            ]
          },
          "metadata": {
            "tags": []
          },
          "execution_count": 505
        }
      ]
    },
    {
      "cell_type": "code",
      "metadata": {
        "id": "TyRUbooWScfr",
        "colab_type": "code",
        "colab": {
          "base_uri": "https://localhost:8080/",
          "height": 83
        },
        "outputId": "a530f7c3-5b01-45ee-c4e5-d6e0e2c17a48"
      },
      "source": [
        "ann.layers[1].W,ann.layers[1].b"
      ],
      "execution_count": null,
      "outputs": [
        {
          "output_type": "execute_result",
          "data": {
            "text/plain": [
              "(array([[ 0.15741608,  0.07724867],\n",
              "        [-0.04686271,  0.05417128],\n",
              "        [-0.04629451, -0.04662024]]), array([[-2.51581006e-05],\n",
              "        [ 2.51581006e-05]]))"
            ]
          },
          "metadata": {
            "tags": []
          },
          "execution_count": 506
        }
      ]
    },
    {
      "cell_type": "code",
      "metadata": {
        "id": "miqW31mImtkq",
        "colab_type": "code",
        "colab": {
          "base_uri": "https://localhost:8080/",
          "height": 66
        },
        "outputId": "6b83fdee-4a4f-436a-9f63-c2308d05fa1e"
      },
      "source": [
        "import inspect\n",
        "lines = inspect.getsource(foo)\n",
        "print(lines)"
      ],
      "execution_count": null,
      "outputs": [
        {
          "output_type": "stream",
          "text": [
            "def foo():\n",
            "  print(\"Hello world\",self)\n",
            "\n"
          ],
          "name": "stdout"
        }
      ]
    },
    {
      "cell_type": "code",
      "metadata": {
        "id": "1AR-TdQu_59h",
        "colab_type": "code",
        "colab": {
          "base_uri": "https://localhost:8080/",
          "height": 50
        },
        "outputId": "62b6f022-9d15-4675-b6f5-bce93bfb1848"
      },
      "source": [
        "import numpy as np\n",
        "# Number of features\n",
        "n = 1000\n",
        "# Number of training examples\n",
        "m = 10000\n",
        "# Initialize X and W\n",
        "X = np.random.rand(n,m)\n",
        "W = np.random.rand(n,1)\n",
        "\n",
        "%time a=np.dot(W.T,X)"
      ],
      "execution_count": null,
      "outputs": [
        {
          "output_type": "stream",
          "text": [
            "CPU times: user 12.5 ms, sys: 4 µs, total: 12.5 ms\n",
            "Wall time: 6.31 ms\n"
          ],
          "name": "stdout"
        }
      ]
    },
    {
      "cell_type": "code",
      "metadata": {
        "id": "NZfFiApsAgEZ",
        "colab_type": "code",
        "colab": {}
      },
      "source": [
        "def foo():\n",
        "  Z = np.zeros((1,m))\n",
        "  for i in range(X.shape[1]):\n",
        "    for j in range(X.shape[0]):\n",
        "        Z[0][i] += W[j]*X[j][i]"
      ],
      "execution_count": null,
      "outputs": []
    },
    {
      "cell_type": "code",
      "metadata": {
        "id": "76z4aRrKAUno",
        "colab_type": "code",
        "colab": {
          "base_uri": "https://localhost:8080/",
          "height": 50
        },
        "outputId": "5cc9d5ab-136f-46fc-9106-80ee02246d7a"
      },
      "source": [
        "%time foo()"
      ],
      "execution_count": null,
      "outputs": [
        {
          "output_type": "stream",
          "text": [
            "CPU times: user 36.3 s, sys: 8.93 ms, total: 36.3 s\n",
            "Wall time: 36.3 s\n"
          ],
          "name": "stdout"
        }
      ]
    },
    {
      "cell_type": "code",
      "metadata": {
        "id": "RtbQGZNWAzeI",
        "colab_type": "code",
        "colab": {}
      },
      "source": [
        "def foo_2():\n",
        "  Z = np.zeros((1,m))\n",
        "  for i in range(0,X.shape[1]):\n",
        "    for j in range(0,X.shape[0],4):\n",
        "        Z[0][i] += W[j]*X[j][i] + W[j]*X[j+1][i] + W[j]*X[j+2][i] + W[j]*X[j+3][i]"
      ],
      "execution_count": null,
      "outputs": []
    },
    {
      "cell_type": "code",
      "metadata": {
        "id": "16kNxBgoECg1",
        "colab_type": "code",
        "colab": {
          "base_uri": "https://localhost:8080/",
          "height": 50
        },
        "outputId": "019d4403-a927-444c-edd4-a00541beeb3f"
      },
      "source": [
        "%time foo_2()"
      ],
      "execution_count": null,
      "outputs": [
        {
          "output_type": "stream",
          "text": [
            "CPU times: user 27.7 s, sys: 4.96 ms, total: 27.7 s\n",
            "Wall time: 27.7 s\n"
          ],
          "name": "stdout"
        }
      ]
    },
    {
      "cell_type": "code",
      "metadata": {
        "id": "gz0afN3lG4wU",
        "colab_type": "code",
        "colab": {}
      },
      "source": [
        ""
      ],
      "execution_count": null,
      "outputs": []
    }
  ]
}